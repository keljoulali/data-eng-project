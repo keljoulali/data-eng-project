{
 "cells": [
  {
   "cell_type": "code",
   "execution_count": 1,
   "metadata": {
    "collapsed": true
   },
   "outputs": [],
   "source": [
    "import pandas as pd\n",
    "import numpy as np"
   ]
  },
  {
   "cell_type": "code",
   "execution_count": 2,
   "outputs": [
    {
     "name": "stderr",
     "output_type": "stream",
     "text": [
      "C:\\Users\\ETUDIANT\\AppData\\Local\\Temp\\ipykernel_25948\\3549176765.py:1: DtypeWarning: Columns (10) have mixed types. Specify dtype option on import or set low_memory=False.\n",
      "  metadata = pd.read_csv('airflow/data/movies_metadata.csv')\n"
     ]
    }
   ],
   "source": [
    "metadata = pd.read_csv('airflow/data/movies_metadata.csv')"
   ],
   "metadata": {
    "collapsed": false
   }
  },
  {
   "cell_type": "code",
   "execution_count": 3,
   "outputs": [
    {
     "data": {
      "text/plain": "       adult                              belongs_to_collection    budget  \\\n0      False  {'id': 10194, 'name': 'Toy Story Collection', ...  30000000   \n1      False                                                NaN  65000000   \n2      False  {'id': 119050, 'name': 'Grumpy Old Men Collect...         0   \n3      False                                                NaN  16000000   \n4      False  {'id': 96871, 'name': 'Father of the Bride Col...         0   \n...      ...                                                ...       ...   \n45461  False                                                NaN         0   \n45462  False                                                NaN         0   \n45463  False                                                NaN         0   \n45464  False                                                NaN         0   \n45465  False                                                NaN         0   \n\n                                                  genres  \\\n0      [{'id': 16, 'name': 'Animation'}, {'id': 35, '...   \n1      [{'id': 12, 'name': 'Adventure'}, {'id': 14, '...   \n2      [{'id': 10749, 'name': 'Romance'}, {'id': 35, ...   \n3      [{'id': 35, 'name': 'Comedy'}, {'id': 18, 'nam...   \n4                         [{'id': 35, 'name': 'Comedy'}]   \n...                                                  ...   \n45461  [{'id': 18, 'name': 'Drama'}, {'id': 10751, 'n...   \n45462                      [{'id': 18, 'name': 'Drama'}]   \n45463  [{'id': 28, 'name': 'Action'}, {'id': 18, 'nam...   \n45464                                                 []   \n45465                                                 []   \n\n                                   homepage      id    imdb_id  \\\n0      http://toystory.disney.com/toy-story     862  tt0114709   \n1                                       NaN    8844  tt0113497   \n2                                       NaN   15602  tt0113228   \n3                                       NaN   31357  tt0114885   \n4                                       NaN   11862  tt0113041   \n...                                     ...     ...        ...   \n45461  http://www.imdb.com/title/tt6209470/  439050  tt6209470   \n45462                                   NaN  111109  tt2028550   \n45463                                   NaN   67758  tt0303758   \n45464                                   NaN  227506  tt0008536   \n45465                                   NaN  461257  tt6980792   \n\n      original_language               original_title  \\\n0                    en                    Toy Story   \n1                    en                      Jumanji   \n2                    en             Grumpier Old Men   \n3                    en            Waiting to Exhale   \n4                    en  Father of the Bride Part II   \n...                 ...                          ...   \n45461                fa                      رگ خواب   \n45462                tl          Siglo ng Pagluluwal   \n45463                en                     Betrayal   \n45464                en          Satana likuyushchiy   \n45465                en                     Queerama   \n\n                                                overview  ... release_date  \\\n0      Led by Woody, Andy's toys live happily in his ...  ...   1995-10-30   \n1      When siblings Judy and Peter discover an encha...  ...   1995-12-15   \n2      A family wedding reignites the ancient feud be...  ...   1995-12-22   \n3      Cheated on, mistreated and stepped on, the wom...  ...   1995-12-22   \n4      Just when George Banks has recovered from his ...  ...   1995-02-10   \n...                                                  ...  ...          ...   \n45461        Rising and falling between a man and woman.  ...          NaN   \n45462  An artist struggles to finish his work while a...  ...   2011-11-17   \n45463  When one of her hits goes wrong, a professiona...  ...   2003-08-01   \n45464  In a small town live two brothers, one a minis...  ...   1917-10-21   \n45465  50 years after decriminalisation of homosexual...  ...   2017-06-09   \n\n           revenue runtime                                   spoken_languages  \\\n0      373554033.0    81.0           [{'iso_639_1': 'en', 'name': 'English'}]   \n1      262797249.0   104.0  [{'iso_639_1': 'en', 'name': 'English'}, {'iso...   \n2              0.0   101.0           [{'iso_639_1': 'en', 'name': 'English'}]   \n3       81452156.0   127.0           [{'iso_639_1': 'en', 'name': 'English'}]   \n4       76578911.0   106.0           [{'iso_639_1': 'en', 'name': 'English'}]   \n...            ...     ...                                                ...   \n45461          0.0    90.0             [{'iso_639_1': 'fa', 'name': 'فارسی'}]   \n45462          0.0   360.0                  [{'iso_639_1': 'tl', 'name': ''}]   \n45463          0.0    90.0           [{'iso_639_1': 'en', 'name': 'English'}]   \n45464          0.0    87.0                                                 []   \n45465          0.0    75.0           [{'iso_639_1': 'en', 'name': 'English'}]   \n\n         status                                            tagline  \\\n0      Released                                                NaN   \n1      Released          Roll the dice and unleash the excitement!   \n2      Released  Still Yelling. Still Fighting. Still Ready for...   \n3      Released  Friends are the people who let you be yourself...   \n4      Released  Just When His World Is Back To Normal... He's ...   \n...         ...                                                ...   \n45461  Released         Rising and falling between a man and woman   \n45462  Released                                                NaN   \n45463  Released                             A deadly game of wits.   \n45464  Released                                                NaN   \n45465  Released                                                NaN   \n\n                             title  video vote_average vote_count  \n0                        Toy Story  False          7.7     5415.0  \n1                          Jumanji  False          6.9     2413.0  \n2                 Grumpier Old Men  False          6.5       92.0  \n3                Waiting to Exhale  False          6.1       34.0  \n4      Father of the Bride Part II  False          5.7      173.0  \n...                            ...    ...          ...        ...  \n45461                       Subdue  False          4.0        1.0  \n45462          Century of Birthing  False          9.0        3.0  \n45463                     Betrayal  False          3.8        6.0  \n45464             Satan Triumphant  False          0.0        0.0  \n45465                     Queerama  False          0.0        0.0  \n\n[45466 rows x 24 columns]",
      "text/html": "<div>\n<style scoped>\n    .dataframe tbody tr th:only-of-type {\n        vertical-align: middle;\n    }\n\n    .dataframe tbody tr th {\n        vertical-align: top;\n    }\n\n    .dataframe thead th {\n        text-align: right;\n    }\n</style>\n<table border=\"1\" class=\"dataframe\">\n  <thead>\n    <tr style=\"text-align: right;\">\n      <th></th>\n      <th>adult</th>\n      <th>belongs_to_collection</th>\n      <th>budget</th>\n      <th>genres</th>\n      <th>homepage</th>\n      <th>id</th>\n      <th>imdb_id</th>\n      <th>original_language</th>\n      <th>original_title</th>\n      <th>overview</th>\n      <th>...</th>\n      <th>release_date</th>\n      <th>revenue</th>\n      <th>runtime</th>\n      <th>spoken_languages</th>\n      <th>status</th>\n      <th>tagline</th>\n      <th>title</th>\n      <th>video</th>\n      <th>vote_average</th>\n      <th>vote_count</th>\n    </tr>\n  </thead>\n  <tbody>\n    <tr>\n      <th>0</th>\n      <td>False</td>\n      <td>{'id': 10194, 'name': 'Toy Story Collection', ...</td>\n      <td>30000000</td>\n      <td>[{'id': 16, 'name': 'Animation'}, {'id': 35, '...</td>\n      <td>http://toystory.disney.com/toy-story</td>\n      <td>862</td>\n      <td>tt0114709</td>\n      <td>en</td>\n      <td>Toy Story</td>\n      <td>Led by Woody, Andy's toys live happily in his ...</td>\n      <td>...</td>\n      <td>1995-10-30</td>\n      <td>373554033.0</td>\n      <td>81.0</td>\n      <td>[{'iso_639_1': 'en', 'name': 'English'}]</td>\n      <td>Released</td>\n      <td>NaN</td>\n      <td>Toy Story</td>\n      <td>False</td>\n      <td>7.7</td>\n      <td>5415.0</td>\n    </tr>\n    <tr>\n      <th>1</th>\n      <td>False</td>\n      <td>NaN</td>\n      <td>65000000</td>\n      <td>[{'id': 12, 'name': 'Adventure'}, {'id': 14, '...</td>\n      <td>NaN</td>\n      <td>8844</td>\n      <td>tt0113497</td>\n      <td>en</td>\n      <td>Jumanji</td>\n      <td>When siblings Judy and Peter discover an encha...</td>\n      <td>...</td>\n      <td>1995-12-15</td>\n      <td>262797249.0</td>\n      <td>104.0</td>\n      <td>[{'iso_639_1': 'en', 'name': 'English'}, {'iso...</td>\n      <td>Released</td>\n      <td>Roll the dice and unleash the excitement!</td>\n      <td>Jumanji</td>\n      <td>False</td>\n      <td>6.9</td>\n      <td>2413.0</td>\n    </tr>\n    <tr>\n      <th>2</th>\n      <td>False</td>\n      <td>{'id': 119050, 'name': 'Grumpy Old Men Collect...</td>\n      <td>0</td>\n      <td>[{'id': 10749, 'name': 'Romance'}, {'id': 35, ...</td>\n      <td>NaN</td>\n      <td>15602</td>\n      <td>tt0113228</td>\n      <td>en</td>\n      <td>Grumpier Old Men</td>\n      <td>A family wedding reignites the ancient feud be...</td>\n      <td>...</td>\n      <td>1995-12-22</td>\n      <td>0.0</td>\n      <td>101.0</td>\n      <td>[{'iso_639_1': 'en', 'name': 'English'}]</td>\n      <td>Released</td>\n      <td>Still Yelling. Still Fighting. Still Ready for...</td>\n      <td>Grumpier Old Men</td>\n      <td>False</td>\n      <td>6.5</td>\n      <td>92.0</td>\n    </tr>\n    <tr>\n      <th>3</th>\n      <td>False</td>\n      <td>NaN</td>\n      <td>16000000</td>\n      <td>[{'id': 35, 'name': 'Comedy'}, {'id': 18, 'nam...</td>\n      <td>NaN</td>\n      <td>31357</td>\n      <td>tt0114885</td>\n      <td>en</td>\n      <td>Waiting to Exhale</td>\n      <td>Cheated on, mistreated and stepped on, the wom...</td>\n      <td>...</td>\n      <td>1995-12-22</td>\n      <td>81452156.0</td>\n      <td>127.0</td>\n      <td>[{'iso_639_1': 'en', 'name': 'English'}]</td>\n      <td>Released</td>\n      <td>Friends are the people who let you be yourself...</td>\n      <td>Waiting to Exhale</td>\n      <td>False</td>\n      <td>6.1</td>\n      <td>34.0</td>\n    </tr>\n    <tr>\n      <th>4</th>\n      <td>False</td>\n      <td>{'id': 96871, 'name': 'Father of the Bride Col...</td>\n      <td>0</td>\n      <td>[{'id': 35, 'name': 'Comedy'}]</td>\n      <td>NaN</td>\n      <td>11862</td>\n      <td>tt0113041</td>\n      <td>en</td>\n      <td>Father of the Bride Part II</td>\n      <td>Just when George Banks has recovered from his ...</td>\n      <td>...</td>\n      <td>1995-02-10</td>\n      <td>76578911.0</td>\n      <td>106.0</td>\n      <td>[{'iso_639_1': 'en', 'name': 'English'}]</td>\n      <td>Released</td>\n      <td>Just When His World Is Back To Normal... He's ...</td>\n      <td>Father of the Bride Part II</td>\n      <td>False</td>\n      <td>5.7</td>\n      <td>173.0</td>\n    </tr>\n    <tr>\n      <th>...</th>\n      <td>...</td>\n      <td>...</td>\n      <td>...</td>\n      <td>...</td>\n      <td>...</td>\n      <td>...</td>\n      <td>...</td>\n      <td>...</td>\n      <td>...</td>\n      <td>...</td>\n      <td>...</td>\n      <td>...</td>\n      <td>...</td>\n      <td>...</td>\n      <td>...</td>\n      <td>...</td>\n      <td>...</td>\n      <td>...</td>\n      <td>...</td>\n      <td>...</td>\n      <td>...</td>\n    </tr>\n    <tr>\n      <th>45461</th>\n      <td>False</td>\n      <td>NaN</td>\n      <td>0</td>\n      <td>[{'id': 18, 'name': 'Drama'}, {'id': 10751, 'n...</td>\n      <td>http://www.imdb.com/title/tt6209470/</td>\n      <td>439050</td>\n      <td>tt6209470</td>\n      <td>fa</td>\n      <td>رگ خواب</td>\n      <td>Rising and falling between a man and woman.</td>\n      <td>...</td>\n      <td>NaN</td>\n      <td>0.0</td>\n      <td>90.0</td>\n      <td>[{'iso_639_1': 'fa', 'name': 'فارسی'}]</td>\n      <td>Released</td>\n      <td>Rising and falling between a man and woman</td>\n      <td>Subdue</td>\n      <td>False</td>\n      <td>4.0</td>\n      <td>1.0</td>\n    </tr>\n    <tr>\n      <th>45462</th>\n      <td>False</td>\n      <td>NaN</td>\n      <td>0</td>\n      <td>[{'id': 18, 'name': 'Drama'}]</td>\n      <td>NaN</td>\n      <td>111109</td>\n      <td>tt2028550</td>\n      <td>tl</td>\n      <td>Siglo ng Pagluluwal</td>\n      <td>An artist struggles to finish his work while a...</td>\n      <td>...</td>\n      <td>2011-11-17</td>\n      <td>0.0</td>\n      <td>360.0</td>\n      <td>[{'iso_639_1': 'tl', 'name': ''}]</td>\n      <td>Released</td>\n      <td>NaN</td>\n      <td>Century of Birthing</td>\n      <td>False</td>\n      <td>9.0</td>\n      <td>3.0</td>\n    </tr>\n    <tr>\n      <th>45463</th>\n      <td>False</td>\n      <td>NaN</td>\n      <td>0</td>\n      <td>[{'id': 28, 'name': 'Action'}, {'id': 18, 'nam...</td>\n      <td>NaN</td>\n      <td>67758</td>\n      <td>tt0303758</td>\n      <td>en</td>\n      <td>Betrayal</td>\n      <td>When one of her hits goes wrong, a professiona...</td>\n      <td>...</td>\n      <td>2003-08-01</td>\n      <td>0.0</td>\n      <td>90.0</td>\n      <td>[{'iso_639_1': 'en', 'name': 'English'}]</td>\n      <td>Released</td>\n      <td>A deadly game of wits.</td>\n      <td>Betrayal</td>\n      <td>False</td>\n      <td>3.8</td>\n      <td>6.0</td>\n    </tr>\n    <tr>\n      <th>45464</th>\n      <td>False</td>\n      <td>NaN</td>\n      <td>0</td>\n      <td>[]</td>\n      <td>NaN</td>\n      <td>227506</td>\n      <td>tt0008536</td>\n      <td>en</td>\n      <td>Satana likuyushchiy</td>\n      <td>In a small town live two brothers, one a minis...</td>\n      <td>...</td>\n      <td>1917-10-21</td>\n      <td>0.0</td>\n      <td>87.0</td>\n      <td>[]</td>\n      <td>Released</td>\n      <td>NaN</td>\n      <td>Satan Triumphant</td>\n      <td>False</td>\n      <td>0.0</td>\n      <td>0.0</td>\n    </tr>\n    <tr>\n      <th>45465</th>\n      <td>False</td>\n      <td>NaN</td>\n      <td>0</td>\n      <td>[]</td>\n      <td>NaN</td>\n      <td>461257</td>\n      <td>tt6980792</td>\n      <td>en</td>\n      <td>Queerama</td>\n      <td>50 years after decriminalisation of homosexual...</td>\n      <td>...</td>\n      <td>2017-06-09</td>\n      <td>0.0</td>\n      <td>75.0</td>\n      <td>[{'iso_639_1': 'en', 'name': 'English'}]</td>\n      <td>Released</td>\n      <td>NaN</td>\n      <td>Queerama</td>\n      <td>False</td>\n      <td>0.0</td>\n      <td>0.0</td>\n    </tr>\n  </tbody>\n</table>\n<p>45466 rows × 24 columns</p>\n</div>"
     },
     "execution_count": 3,
     "metadata": {},
     "output_type": "execute_result"
    }
   ],
   "source": [
    "metadata"
   ],
   "metadata": {
    "collapsed": false
   }
  },
  {
   "cell_type": "code",
   "execution_count": 6,
   "outputs": [
    {
     "data": {
      "text/plain": "Index(['adult', 'belongs_to_collection', 'budget', 'genres', 'homepage', 'id',\n       'imdb_id', 'original_language', 'original_title', 'overview',\n       'popularity', 'poster_path', 'production_companies',\n       'production_countries', 'release_date', 'revenue', 'runtime',\n       'spoken_languages', 'status', 'tagline', 'title', 'video',\n       'vote_average', 'vote_count'],\n      dtype='object')"
     },
     "execution_count": 6,
     "metadata": {},
     "output_type": "execute_result"
    }
   ],
   "source": [
    "metadata.columns"
   ],
   "metadata": {
    "collapsed": false
   }
  },
  {
   "cell_type": "code",
   "execution_count": 8,
   "outputs": [],
   "source": [
    "credits = pd.read_csv('airflow/data/credits.csv')"
   ],
   "metadata": {
    "collapsed": false
   }
  },
  {
   "cell_type": "code",
   "execution_count": 9,
   "outputs": [
    {
     "data": {
      "text/plain": "                                                    cast  \\\n0      [{'cast_id': 14, 'character': 'Woody (voice)',...   \n1      [{'cast_id': 1, 'character': 'Alan Parrish', '...   \n2      [{'cast_id': 2, 'character': 'Max Goldman', 'c...   \n3      [{'cast_id': 1, 'character': \"Savannah 'Vannah...   \n4      [{'cast_id': 1, 'character': 'George Banks', '...   \n...                                                  ...   \n45471  [{'cast_id': 0, 'character': '', 'credit_id': ...   \n45472  [{'cast_id': 1002, 'character': 'Sister Angela...   \n45473  [{'cast_id': 6, 'character': 'Emily Shaw', 'cr...   \n45474  [{'cast_id': 2, 'character': '', 'credit_id': ...   \n45475                                                 []   \n\n                                                    crew      id  \n0      [{'credit_id': '52fe4284c3a36847f8024f49', 'de...     862  \n1      [{'credit_id': '52fe44bfc3a36847f80a7cd1', 'de...    8844  \n2      [{'credit_id': '52fe466a9251416c75077a89', 'de...   15602  \n3      [{'credit_id': '52fe44779251416c91011acb', 'de...   31357  \n4      [{'credit_id': '52fe44959251416c75039ed7', 'de...   11862  \n...                                                  ...     ...  \n45471  [{'credit_id': '5894a97d925141426c00818c', 'de...  439050  \n45472  [{'credit_id': '52fe4af1c3a36847f81e9b15', 'de...  111109  \n45473  [{'credit_id': '52fe4776c3a368484e0c8387', 'de...   67758  \n45474  [{'credit_id': '533bccebc3a36844cf0011a7', 'de...  227506  \n45475  [{'credit_id': '593e676c92514105b702e68e', 'de...  461257  \n\n[45476 rows x 3 columns]",
      "text/html": "<div>\n<style scoped>\n    .dataframe tbody tr th:only-of-type {\n        vertical-align: middle;\n    }\n\n    .dataframe tbody tr th {\n        vertical-align: top;\n    }\n\n    .dataframe thead th {\n        text-align: right;\n    }\n</style>\n<table border=\"1\" class=\"dataframe\">\n  <thead>\n    <tr style=\"text-align: right;\">\n      <th></th>\n      <th>cast</th>\n      <th>crew</th>\n      <th>id</th>\n    </tr>\n  </thead>\n  <tbody>\n    <tr>\n      <th>0</th>\n      <td>[{'cast_id': 14, 'character': 'Woody (voice)',...</td>\n      <td>[{'credit_id': '52fe4284c3a36847f8024f49', 'de...</td>\n      <td>862</td>\n    </tr>\n    <tr>\n      <th>1</th>\n      <td>[{'cast_id': 1, 'character': 'Alan Parrish', '...</td>\n      <td>[{'credit_id': '52fe44bfc3a36847f80a7cd1', 'de...</td>\n      <td>8844</td>\n    </tr>\n    <tr>\n      <th>2</th>\n      <td>[{'cast_id': 2, 'character': 'Max Goldman', 'c...</td>\n      <td>[{'credit_id': '52fe466a9251416c75077a89', 'de...</td>\n      <td>15602</td>\n    </tr>\n    <tr>\n      <th>3</th>\n      <td>[{'cast_id': 1, 'character': \"Savannah 'Vannah...</td>\n      <td>[{'credit_id': '52fe44779251416c91011acb', 'de...</td>\n      <td>31357</td>\n    </tr>\n    <tr>\n      <th>4</th>\n      <td>[{'cast_id': 1, 'character': 'George Banks', '...</td>\n      <td>[{'credit_id': '52fe44959251416c75039ed7', 'de...</td>\n      <td>11862</td>\n    </tr>\n    <tr>\n      <th>...</th>\n      <td>...</td>\n      <td>...</td>\n      <td>...</td>\n    </tr>\n    <tr>\n      <th>45471</th>\n      <td>[{'cast_id': 0, 'character': '', 'credit_id': ...</td>\n      <td>[{'credit_id': '5894a97d925141426c00818c', 'de...</td>\n      <td>439050</td>\n    </tr>\n    <tr>\n      <th>45472</th>\n      <td>[{'cast_id': 1002, 'character': 'Sister Angela...</td>\n      <td>[{'credit_id': '52fe4af1c3a36847f81e9b15', 'de...</td>\n      <td>111109</td>\n    </tr>\n    <tr>\n      <th>45473</th>\n      <td>[{'cast_id': 6, 'character': 'Emily Shaw', 'cr...</td>\n      <td>[{'credit_id': '52fe4776c3a368484e0c8387', 'de...</td>\n      <td>67758</td>\n    </tr>\n    <tr>\n      <th>45474</th>\n      <td>[{'cast_id': 2, 'character': '', 'credit_id': ...</td>\n      <td>[{'credit_id': '533bccebc3a36844cf0011a7', 'de...</td>\n      <td>227506</td>\n    </tr>\n    <tr>\n      <th>45475</th>\n      <td>[]</td>\n      <td>[{'credit_id': '593e676c92514105b702e68e', 'de...</td>\n      <td>461257</td>\n    </tr>\n  </tbody>\n</table>\n<p>45476 rows × 3 columns</p>\n</div>"
     },
     "execution_count": 9,
     "metadata": {},
     "output_type": "execute_result"
    }
   ],
   "source": [
    "credits"
   ],
   "metadata": {
    "collapsed": false
   }
  },
  {
   "cell_type": "code",
   "execution_count": 10,
   "outputs": [
    {
     "data": {
      "text/plain": "0        1995-10-30\n1        1995-12-15\n2        1995-12-22\n3        1995-12-22\n4        1995-02-10\n            ...    \n45461           NaN\n45462    2011-11-17\n45463    2003-08-01\n45464    1917-10-21\n45465    2017-06-09\nName: release_date, Length: 45466, dtype: object"
     },
     "execution_count": 10,
     "metadata": {},
     "output_type": "execute_result"
    }
   ],
   "source": [
    "metadata['release_date']"
   ],
   "metadata": {
    "collapsed": false
   }
  },
  {
   "cell_type": "code",
   "execution_count": 11,
   "outputs": [],
   "source": [
    "metadata['release_date'] = pd.to_datetime(metadata['release_date'], errors='coerce')"
   ],
   "metadata": {
    "collapsed": false
   }
  },
  {
   "cell_type": "code",
   "execution_count": 12,
   "outputs": [],
   "source": [
    "metadata['year'] = metadata['release_date'].dt.year"
   ],
   "metadata": {
    "collapsed": false
   }
  },
  {
   "cell_type": "code",
   "execution_count": 15,
   "outputs": [],
   "source": [
    "meta = metadata.loc[metadata.year <= 2017,['id','title','genres','year']]"
   ],
   "metadata": {
    "collapsed": false
   }
  },
  {
   "cell_type": "code",
   "execution_count": 16,
   "outputs": [
    {
     "data": {
      "text/plain": "           id                        title  \\\n0         862                    Toy Story   \n1        8844                      Jumanji   \n2       15602             Grumpier Old Men   \n3       31357            Waiting to Exhale   \n4       11862  Father of the Bride Part II   \n...       ...                          ...   \n45460   30840                   Robin Hood   \n45462  111109          Century of Birthing   \n45463   67758                     Betrayal   \n45464  227506             Satan Triumphant   \n45465  461257                     Queerama   \n\n                                                  genres    year  \n0      [{'id': 16, 'name': 'Animation'}, {'id': 35, '...  1995.0  \n1      [{'id': 12, 'name': 'Adventure'}, {'id': 14, '...  1995.0  \n2      [{'id': 10749, 'name': 'Romance'}, {'id': 35, ...  1995.0  \n3      [{'id': 35, 'name': 'Comedy'}, {'id': 18, 'nam...  1995.0  \n4                         [{'id': 35, 'name': 'Comedy'}]  1995.0  \n...                                                  ...     ...  \n45460  [{'id': 18, 'name': 'Drama'}, {'id': 28, 'name...  1991.0  \n45462                      [{'id': 18, 'name': 'Drama'}]  2011.0  \n45463  [{'id': 28, 'name': 'Action'}, {'id': 18, 'nam...  2003.0  \n45464                                                 []  1917.0  \n45465                                                 []  2017.0  \n\n[45370 rows x 4 columns]",
      "text/html": "<div>\n<style scoped>\n    .dataframe tbody tr th:only-of-type {\n        vertical-align: middle;\n    }\n\n    .dataframe tbody tr th {\n        vertical-align: top;\n    }\n\n    .dataframe thead th {\n        text-align: right;\n    }\n</style>\n<table border=\"1\" class=\"dataframe\">\n  <thead>\n    <tr style=\"text-align: right;\">\n      <th></th>\n      <th>id</th>\n      <th>title</th>\n      <th>genres</th>\n      <th>year</th>\n    </tr>\n  </thead>\n  <tbody>\n    <tr>\n      <th>0</th>\n      <td>862</td>\n      <td>Toy Story</td>\n      <td>[{'id': 16, 'name': 'Animation'}, {'id': 35, '...</td>\n      <td>1995.0</td>\n    </tr>\n    <tr>\n      <th>1</th>\n      <td>8844</td>\n      <td>Jumanji</td>\n      <td>[{'id': 12, 'name': 'Adventure'}, {'id': 14, '...</td>\n      <td>1995.0</td>\n    </tr>\n    <tr>\n      <th>2</th>\n      <td>15602</td>\n      <td>Grumpier Old Men</td>\n      <td>[{'id': 10749, 'name': 'Romance'}, {'id': 35, ...</td>\n      <td>1995.0</td>\n    </tr>\n    <tr>\n      <th>3</th>\n      <td>31357</td>\n      <td>Waiting to Exhale</td>\n      <td>[{'id': 35, 'name': 'Comedy'}, {'id': 18, 'nam...</td>\n      <td>1995.0</td>\n    </tr>\n    <tr>\n      <th>4</th>\n      <td>11862</td>\n      <td>Father of the Bride Part II</td>\n      <td>[{'id': 35, 'name': 'Comedy'}]</td>\n      <td>1995.0</td>\n    </tr>\n    <tr>\n      <th>...</th>\n      <td>...</td>\n      <td>...</td>\n      <td>...</td>\n      <td>...</td>\n    </tr>\n    <tr>\n      <th>45460</th>\n      <td>30840</td>\n      <td>Robin Hood</td>\n      <td>[{'id': 18, 'name': 'Drama'}, {'id': 28, 'name...</td>\n      <td>1991.0</td>\n    </tr>\n    <tr>\n      <th>45462</th>\n      <td>111109</td>\n      <td>Century of Birthing</td>\n      <td>[{'id': 18, 'name': 'Drama'}]</td>\n      <td>2011.0</td>\n    </tr>\n    <tr>\n      <th>45463</th>\n      <td>67758</td>\n      <td>Betrayal</td>\n      <td>[{'id': 28, 'name': 'Action'}, {'id': 18, 'nam...</td>\n      <td>2003.0</td>\n    </tr>\n    <tr>\n      <th>45464</th>\n      <td>227506</td>\n      <td>Satan Triumphant</td>\n      <td>[]</td>\n      <td>1917.0</td>\n    </tr>\n    <tr>\n      <th>45465</th>\n      <td>461257</td>\n      <td>Queerama</td>\n      <td>[]</td>\n      <td>2017.0</td>\n    </tr>\n  </tbody>\n</table>\n<p>45370 rows × 4 columns</p>\n</div>"
     },
     "execution_count": 16,
     "metadata": {},
     "output_type": "execute_result"
    }
   ],
   "source": [
    "meta"
   ],
   "metadata": {
    "collapsed": false
   }
  },
  {
   "cell_type": "code",
   "execution_count": 23,
   "outputs": [
    {
     "data": {
      "text/plain": "(45370, 4)"
     },
     "execution_count": 23,
     "metadata": {},
     "output_type": "execute_result"
    }
   ],
   "source": [
    "meta.shape"
   ],
   "metadata": {
    "collapsed": false
   }
  },
  {
   "cell_type": "code",
   "execution_count": 24,
   "outputs": [
    {
     "data": {
      "text/plain": "(45466, 25)"
     },
     "execution_count": 24,
     "metadata": {},
     "output_type": "execute_result"
    }
   ],
   "source": [
    "metadata.shape"
   ],
   "metadata": {
    "collapsed": false
   }
  },
  {
   "cell_type": "code",
   "execution_count": 28,
   "outputs": [],
   "source": [
    "meta['id'] = meta['id'].astype(int)"
   ],
   "metadata": {
    "collapsed": false
   }
  },
  {
   "cell_type": "code",
   "execution_count": 29,
   "outputs": [],
   "source": [
    "data = pd.merge(meta, credits, on='id')"
   ],
   "metadata": {
    "collapsed": false
   }
  },
  {
   "cell_type": "code",
   "execution_count": 31,
   "outputs": [],
   "source": [
    "data['year'] = data['year'].astype(int)"
   ],
   "metadata": {
    "collapsed": false
   }
  },
  {
   "cell_type": "code",
   "execution_count": 32,
   "outputs": [
    {
     "data": {
      "text/plain": "           id                        title  \\\n0         862                    Toy Story   \n1        8844                      Jumanji   \n2       15602             Grumpier Old Men   \n3       31357            Waiting to Exhale   \n4       11862  Father of the Bride Part II   \n...       ...                          ...   \n45460   30840                   Robin Hood   \n45462  111109          Century of Birthing   \n45463   67758                     Betrayal   \n45464  227506             Satan Triumphant   \n45465  461257                     Queerama   \n\n                                                  genres  year  \n0      [{'id': 16, 'name': 'Animation'}, {'id': 35, '...  1995  \n1      [{'id': 12, 'name': 'Adventure'}, {'id': 14, '...  1995  \n2      [{'id': 10749, 'name': 'Romance'}, {'id': 35, ...  1995  \n3      [{'id': 35, 'name': 'Comedy'}, {'id': 18, 'nam...  1995  \n4                         [{'id': 35, 'name': 'Comedy'}]  1995  \n...                                                  ...   ...  \n45460  [{'id': 18, 'name': 'Drama'}, {'id': 28, 'name...  1991  \n45462                      [{'id': 18, 'name': 'Drama'}]  2011  \n45463  [{'id': 28, 'name': 'Action'}, {'id': 18, 'nam...  2003  \n45464                                                 []  1917  \n45465                                                 []  2017  \n\n[45370 rows x 4 columns]",
      "text/html": "<div>\n<style scoped>\n    .dataframe tbody tr th:only-of-type {\n        vertical-align: middle;\n    }\n\n    .dataframe tbody tr th {\n        vertical-align: top;\n    }\n\n    .dataframe thead th {\n        text-align: right;\n    }\n</style>\n<table border=\"1\" class=\"dataframe\">\n  <thead>\n    <tr style=\"text-align: right;\">\n      <th></th>\n      <th>id</th>\n      <th>title</th>\n      <th>genres</th>\n      <th>year</th>\n    </tr>\n  </thead>\n  <tbody>\n    <tr>\n      <th>0</th>\n      <td>862</td>\n      <td>Toy Story</td>\n      <td>[{'id': 16, 'name': 'Animation'}, {'id': 35, '...</td>\n      <td>1995</td>\n    </tr>\n    <tr>\n      <th>1</th>\n      <td>8844</td>\n      <td>Jumanji</td>\n      <td>[{'id': 12, 'name': 'Adventure'}, {'id': 14, '...</td>\n      <td>1995</td>\n    </tr>\n    <tr>\n      <th>2</th>\n      <td>15602</td>\n      <td>Grumpier Old Men</td>\n      <td>[{'id': 10749, 'name': 'Romance'}, {'id': 35, ...</td>\n      <td>1995</td>\n    </tr>\n    <tr>\n      <th>3</th>\n      <td>31357</td>\n      <td>Waiting to Exhale</td>\n      <td>[{'id': 35, 'name': 'Comedy'}, {'id': 18, 'nam...</td>\n      <td>1995</td>\n    </tr>\n    <tr>\n      <th>4</th>\n      <td>11862</td>\n      <td>Father of the Bride Part II</td>\n      <td>[{'id': 35, 'name': 'Comedy'}]</td>\n      <td>1995</td>\n    </tr>\n    <tr>\n      <th>...</th>\n      <td>...</td>\n      <td>...</td>\n      <td>...</td>\n      <td>...</td>\n    </tr>\n    <tr>\n      <th>45460</th>\n      <td>30840</td>\n      <td>Robin Hood</td>\n      <td>[{'id': 18, 'name': 'Drama'}, {'id': 28, 'name...</td>\n      <td>1991</td>\n    </tr>\n    <tr>\n      <th>45462</th>\n      <td>111109</td>\n      <td>Century of Birthing</td>\n      <td>[{'id': 18, 'name': 'Drama'}]</td>\n      <td>2011</td>\n    </tr>\n    <tr>\n      <th>45463</th>\n      <td>67758</td>\n      <td>Betrayal</td>\n      <td>[{'id': 28, 'name': 'Action'}, {'id': 18, 'nam...</td>\n      <td>2003</td>\n    </tr>\n    <tr>\n      <th>45464</th>\n      <td>227506</td>\n      <td>Satan Triumphant</td>\n      <td>[]</td>\n      <td>1917</td>\n    </tr>\n    <tr>\n      <th>45465</th>\n      <td>461257</td>\n      <td>Queerama</td>\n      <td>[]</td>\n      <td>2017</td>\n    </tr>\n  </tbody>\n</table>\n<p>45370 rows × 4 columns</p>\n</div>"
     },
     "execution_count": 32,
     "metadata": {},
     "output_type": "execute_result"
    }
   ],
   "source": [
    "meta"
   ],
   "metadata": {
    "collapsed": false
   }
  },
  {
   "cell_type": "code",
   "execution_count": 33,
   "outputs": [
    {
     "data": {
      "text/plain": "           id                        title  \\\n0         862                    Toy Story   \n1        8844                      Jumanji   \n2       15602             Grumpier Old Men   \n3       31357            Waiting to Exhale   \n4       11862  Father of the Bride Part II   \n...       ...                          ...   \n45440   30840                   Robin Hood   \n45441  111109          Century of Birthing   \n45442   67758                     Betrayal   \n45443  227506             Satan Triumphant   \n45444  461257                     Queerama   \n\n                                                  genres    year  \\\n0      [{'id': 16, 'name': 'Animation'}, {'id': 35, '...  1995.0   \n1      [{'id': 12, 'name': 'Adventure'}, {'id': 14, '...  1995.0   \n2      [{'id': 10749, 'name': 'Romance'}, {'id': 35, ...  1995.0   \n3      [{'id': 35, 'name': 'Comedy'}, {'id': 18, 'nam...  1995.0   \n4                         [{'id': 35, 'name': 'Comedy'}]  1995.0   \n...                                                  ...     ...   \n45440  [{'id': 18, 'name': 'Drama'}, {'id': 28, 'name...  1991.0   \n45441                      [{'id': 18, 'name': 'Drama'}]  2011.0   \n45442  [{'id': 28, 'name': 'Action'}, {'id': 18, 'nam...  2003.0   \n45443                                                 []  1917.0   \n45444                                                 []  2017.0   \n\n                                                    cast  \\\n0      [{'cast_id': 14, 'character': 'Woody (voice)',...   \n1      [{'cast_id': 1, 'character': 'Alan Parrish', '...   \n2      [{'cast_id': 2, 'character': 'Max Goldman', 'c...   \n3      [{'cast_id': 1, 'character': \"Savannah 'Vannah...   \n4      [{'cast_id': 1, 'character': 'George Banks', '...   \n...                                                  ...   \n45440  [{'cast_id': 1, 'character': 'Sir Robert Hode'...   \n45441  [{'cast_id': 1002, 'character': 'Sister Angela...   \n45442  [{'cast_id': 6, 'character': 'Emily Shaw', 'cr...   \n45443  [{'cast_id': 2, 'character': '', 'credit_id': ...   \n45444                                                 []   \n\n                                                    crew  \n0      [{'credit_id': '52fe4284c3a36847f8024f49', 'de...  \n1      [{'credit_id': '52fe44bfc3a36847f80a7cd1', 'de...  \n2      [{'credit_id': '52fe466a9251416c75077a89', 'de...  \n3      [{'credit_id': '52fe44779251416c91011acb', 'de...  \n4      [{'credit_id': '52fe44959251416c75039ed7', 'de...  \n...                                                  ...  \n45440  [{'credit_id': '52fe44439251416c9100a899', 'de...  \n45441  [{'credit_id': '52fe4af1c3a36847f81e9b15', 'de...  \n45442  [{'credit_id': '52fe4776c3a368484e0c8387', 'de...  \n45443  [{'credit_id': '533bccebc3a36844cf0011a7', 'de...  \n45444  [{'credit_id': '593e676c92514105b702e68e', 'de...  \n\n[45445 rows x 6 columns]",
      "text/html": "<div>\n<style scoped>\n    .dataframe tbody tr th:only-of-type {\n        vertical-align: middle;\n    }\n\n    .dataframe tbody tr th {\n        vertical-align: top;\n    }\n\n    .dataframe thead th {\n        text-align: right;\n    }\n</style>\n<table border=\"1\" class=\"dataframe\">\n  <thead>\n    <tr style=\"text-align: right;\">\n      <th></th>\n      <th>id</th>\n      <th>title</th>\n      <th>genres</th>\n      <th>year</th>\n      <th>cast</th>\n      <th>crew</th>\n    </tr>\n  </thead>\n  <tbody>\n    <tr>\n      <th>0</th>\n      <td>862</td>\n      <td>Toy Story</td>\n      <td>[{'id': 16, 'name': 'Animation'}, {'id': 35, '...</td>\n      <td>1995.0</td>\n      <td>[{'cast_id': 14, 'character': 'Woody (voice)',...</td>\n      <td>[{'credit_id': '52fe4284c3a36847f8024f49', 'de...</td>\n    </tr>\n    <tr>\n      <th>1</th>\n      <td>8844</td>\n      <td>Jumanji</td>\n      <td>[{'id': 12, 'name': 'Adventure'}, {'id': 14, '...</td>\n      <td>1995.0</td>\n      <td>[{'cast_id': 1, 'character': 'Alan Parrish', '...</td>\n      <td>[{'credit_id': '52fe44bfc3a36847f80a7cd1', 'de...</td>\n    </tr>\n    <tr>\n      <th>2</th>\n      <td>15602</td>\n      <td>Grumpier Old Men</td>\n      <td>[{'id': 10749, 'name': 'Romance'}, {'id': 35, ...</td>\n      <td>1995.0</td>\n      <td>[{'cast_id': 2, 'character': 'Max Goldman', 'c...</td>\n      <td>[{'credit_id': '52fe466a9251416c75077a89', 'de...</td>\n    </tr>\n    <tr>\n      <th>3</th>\n      <td>31357</td>\n      <td>Waiting to Exhale</td>\n      <td>[{'id': 35, 'name': 'Comedy'}, {'id': 18, 'nam...</td>\n      <td>1995.0</td>\n      <td>[{'cast_id': 1, 'character': \"Savannah 'Vannah...</td>\n      <td>[{'credit_id': '52fe44779251416c91011acb', 'de...</td>\n    </tr>\n    <tr>\n      <th>4</th>\n      <td>11862</td>\n      <td>Father of the Bride Part II</td>\n      <td>[{'id': 35, 'name': 'Comedy'}]</td>\n      <td>1995.0</td>\n      <td>[{'cast_id': 1, 'character': 'George Banks', '...</td>\n      <td>[{'credit_id': '52fe44959251416c75039ed7', 'de...</td>\n    </tr>\n    <tr>\n      <th>...</th>\n      <td>...</td>\n      <td>...</td>\n      <td>...</td>\n      <td>...</td>\n      <td>...</td>\n      <td>...</td>\n    </tr>\n    <tr>\n      <th>45440</th>\n      <td>30840</td>\n      <td>Robin Hood</td>\n      <td>[{'id': 18, 'name': 'Drama'}, {'id': 28, 'name...</td>\n      <td>1991.0</td>\n      <td>[{'cast_id': 1, 'character': 'Sir Robert Hode'...</td>\n      <td>[{'credit_id': '52fe44439251416c9100a899', 'de...</td>\n    </tr>\n    <tr>\n      <th>45441</th>\n      <td>111109</td>\n      <td>Century of Birthing</td>\n      <td>[{'id': 18, 'name': 'Drama'}]</td>\n      <td>2011.0</td>\n      <td>[{'cast_id': 1002, 'character': 'Sister Angela...</td>\n      <td>[{'credit_id': '52fe4af1c3a36847f81e9b15', 'de...</td>\n    </tr>\n    <tr>\n      <th>45442</th>\n      <td>67758</td>\n      <td>Betrayal</td>\n      <td>[{'id': 28, 'name': 'Action'}, {'id': 18, 'nam...</td>\n      <td>2003.0</td>\n      <td>[{'cast_id': 6, 'character': 'Emily Shaw', 'cr...</td>\n      <td>[{'credit_id': '52fe4776c3a368484e0c8387', 'de...</td>\n    </tr>\n    <tr>\n      <th>45443</th>\n      <td>227506</td>\n      <td>Satan Triumphant</td>\n      <td>[]</td>\n      <td>1917.0</td>\n      <td>[{'cast_id': 2, 'character': '', 'credit_id': ...</td>\n      <td>[{'credit_id': '533bccebc3a36844cf0011a7', 'de...</td>\n    </tr>\n    <tr>\n      <th>45444</th>\n      <td>461257</td>\n      <td>Queerama</td>\n      <td>[]</td>\n      <td>2017.0</td>\n      <td>[]</td>\n      <td>[{'credit_id': '593e676c92514105b702e68e', 'de...</td>\n    </tr>\n  </tbody>\n</table>\n<p>45445 rows × 6 columns</p>\n</div>"
     },
     "execution_count": 33,
     "metadata": {},
     "output_type": "execute_result"
    }
   ],
   "source": [
    "data"
   ],
   "metadata": {
    "collapsed": false
   }
  },
  {
   "cell_type": "code",
   "execution_count": 34,
   "outputs": [],
   "source": [
    "data['year'] = data['year'].astype(int)"
   ],
   "metadata": {
    "collapsed": false
   }
  },
  {
   "cell_type": "code",
   "execution_count": 35,
   "outputs": [
    {
     "data": {
      "text/plain": "           id                        title  \\\n0         862                    Toy Story   \n1        8844                      Jumanji   \n2       15602             Grumpier Old Men   \n3       31357            Waiting to Exhale   \n4       11862  Father of the Bride Part II   \n...       ...                          ...   \n45440   30840                   Robin Hood   \n45441  111109          Century of Birthing   \n45442   67758                     Betrayal   \n45443  227506             Satan Triumphant   \n45444  461257                     Queerama   \n\n                                                  genres  year  \\\n0      [{'id': 16, 'name': 'Animation'}, {'id': 35, '...  1995   \n1      [{'id': 12, 'name': 'Adventure'}, {'id': 14, '...  1995   \n2      [{'id': 10749, 'name': 'Romance'}, {'id': 35, ...  1995   \n3      [{'id': 35, 'name': 'Comedy'}, {'id': 18, 'nam...  1995   \n4                         [{'id': 35, 'name': 'Comedy'}]  1995   \n...                                                  ...   ...   \n45440  [{'id': 18, 'name': 'Drama'}, {'id': 28, 'name...  1991   \n45441                      [{'id': 18, 'name': 'Drama'}]  2011   \n45442  [{'id': 28, 'name': 'Action'}, {'id': 18, 'nam...  2003   \n45443                                                 []  1917   \n45444                                                 []  2017   \n\n                                                    cast  \\\n0      [{'cast_id': 14, 'character': 'Woody (voice)',...   \n1      [{'cast_id': 1, 'character': 'Alan Parrish', '...   \n2      [{'cast_id': 2, 'character': 'Max Goldman', 'c...   \n3      [{'cast_id': 1, 'character': \"Savannah 'Vannah...   \n4      [{'cast_id': 1, 'character': 'George Banks', '...   \n...                                                  ...   \n45440  [{'cast_id': 1, 'character': 'Sir Robert Hode'...   \n45441  [{'cast_id': 1002, 'character': 'Sister Angela...   \n45442  [{'cast_id': 6, 'character': 'Emily Shaw', 'cr...   \n45443  [{'cast_id': 2, 'character': '', 'credit_id': ...   \n45444                                                 []   \n\n                                                    crew  \n0      [{'credit_id': '52fe4284c3a36847f8024f49', 'de...  \n1      [{'credit_id': '52fe44bfc3a36847f80a7cd1', 'de...  \n2      [{'credit_id': '52fe466a9251416c75077a89', 'de...  \n3      [{'credit_id': '52fe44779251416c91011acb', 'de...  \n4      [{'credit_id': '52fe44959251416c75039ed7', 'de...  \n...                                                  ...  \n45440  [{'credit_id': '52fe44439251416c9100a899', 'de...  \n45441  [{'credit_id': '52fe4af1c3a36847f81e9b15', 'de...  \n45442  [{'credit_id': '52fe4776c3a368484e0c8387', 'de...  \n45443  [{'credit_id': '533bccebc3a36844cf0011a7', 'de...  \n45444  [{'credit_id': '593e676c92514105b702e68e', 'de...  \n\n[45445 rows x 6 columns]",
      "text/html": "<div>\n<style scoped>\n    .dataframe tbody tr th:only-of-type {\n        vertical-align: middle;\n    }\n\n    .dataframe tbody tr th {\n        vertical-align: top;\n    }\n\n    .dataframe thead th {\n        text-align: right;\n    }\n</style>\n<table border=\"1\" class=\"dataframe\">\n  <thead>\n    <tr style=\"text-align: right;\">\n      <th></th>\n      <th>id</th>\n      <th>title</th>\n      <th>genres</th>\n      <th>year</th>\n      <th>cast</th>\n      <th>crew</th>\n    </tr>\n  </thead>\n  <tbody>\n    <tr>\n      <th>0</th>\n      <td>862</td>\n      <td>Toy Story</td>\n      <td>[{'id': 16, 'name': 'Animation'}, {'id': 35, '...</td>\n      <td>1995</td>\n      <td>[{'cast_id': 14, 'character': 'Woody (voice)',...</td>\n      <td>[{'credit_id': '52fe4284c3a36847f8024f49', 'de...</td>\n    </tr>\n    <tr>\n      <th>1</th>\n      <td>8844</td>\n      <td>Jumanji</td>\n      <td>[{'id': 12, 'name': 'Adventure'}, {'id': 14, '...</td>\n      <td>1995</td>\n      <td>[{'cast_id': 1, 'character': 'Alan Parrish', '...</td>\n      <td>[{'credit_id': '52fe44bfc3a36847f80a7cd1', 'de...</td>\n    </tr>\n    <tr>\n      <th>2</th>\n      <td>15602</td>\n      <td>Grumpier Old Men</td>\n      <td>[{'id': 10749, 'name': 'Romance'}, {'id': 35, ...</td>\n      <td>1995</td>\n      <td>[{'cast_id': 2, 'character': 'Max Goldman', 'c...</td>\n      <td>[{'credit_id': '52fe466a9251416c75077a89', 'de...</td>\n    </tr>\n    <tr>\n      <th>3</th>\n      <td>31357</td>\n      <td>Waiting to Exhale</td>\n      <td>[{'id': 35, 'name': 'Comedy'}, {'id': 18, 'nam...</td>\n      <td>1995</td>\n      <td>[{'cast_id': 1, 'character': \"Savannah 'Vannah...</td>\n      <td>[{'credit_id': '52fe44779251416c91011acb', 'de...</td>\n    </tr>\n    <tr>\n      <th>4</th>\n      <td>11862</td>\n      <td>Father of the Bride Part II</td>\n      <td>[{'id': 35, 'name': 'Comedy'}]</td>\n      <td>1995</td>\n      <td>[{'cast_id': 1, 'character': 'George Banks', '...</td>\n      <td>[{'credit_id': '52fe44959251416c75039ed7', 'de...</td>\n    </tr>\n    <tr>\n      <th>...</th>\n      <td>...</td>\n      <td>...</td>\n      <td>...</td>\n      <td>...</td>\n      <td>...</td>\n      <td>...</td>\n    </tr>\n    <tr>\n      <th>45440</th>\n      <td>30840</td>\n      <td>Robin Hood</td>\n      <td>[{'id': 18, 'name': 'Drama'}, {'id': 28, 'name...</td>\n      <td>1991</td>\n      <td>[{'cast_id': 1, 'character': 'Sir Robert Hode'...</td>\n      <td>[{'credit_id': '52fe44439251416c9100a899', 'de...</td>\n    </tr>\n    <tr>\n      <th>45441</th>\n      <td>111109</td>\n      <td>Century of Birthing</td>\n      <td>[{'id': 18, 'name': 'Drama'}]</td>\n      <td>2011</td>\n      <td>[{'cast_id': 1002, 'character': 'Sister Angela...</td>\n      <td>[{'credit_id': '52fe4af1c3a36847f81e9b15', 'de...</td>\n    </tr>\n    <tr>\n      <th>45442</th>\n      <td>67758</td>\n      <td>Betrayal</td>\n      <td>[{'id': 28, 'name': 'Action'}, {'id': 18, 'nam...</td>\n      <td>2003</td>\n      <td>[{'cast_id': 6, 'character': 'Emily Shaw', 'cr...</td>\n      <td>[{'credit_id': '52fe4776c3a368484e0c8387', 'de...</td>\n    </tr>\n    <tr>\n      <th>45443</th>\n      <td>227506</td>\n      <td>Satan Triumphant</td>\n      <td>[]</td>\n      <td>1917</td>\n      <td>[{'cast_id': 2, 'character': '', 'credit_id': ...</td>\n      <td>[{'credit_id': '533bccebc3a36844cf0011a7', 'de...</td>\n    </tr>\n    <tr>\n      <th>45444</th>\n      <td>461257</td>\n      <td>Queerama</td>\n      <td>[]</td>\n      <td>2017</td>\n      <td>[]</td>\n      <td>[{'credit_id': '593e676c92514105b702e68e', 'de...</td>\n    </tr>\n  </tbody>\n</table>\n<p>45445 rows × 6 columns</p>\n</div>"
     },
     "execution_count": 35,
     "metadata": {},
     "output_type": "execute_result"
    }
   ],
   "source": [
    "data"
   ],
   "metadata": {
    "collapsed": false
   }
  },
  {
   "cell_type": "code",
   "execution_count": 36,
   "outputs": [],
   "source": [
    "import ast\n",
    "data['genres'] = data['genres'].map(lambda x: ast.literal_eval(x))\n",
    "data['cast'] = data['cast'].map(lambda x: ast.literal_eval(x))\n",
    "data['crew'] = data['crew'].map(lambda x: ast.literal_eval(x))"
   ],
   "metadata": {
    "collapsed": false
   }
  },
  {
   "cell_type": "code",
   "execution_count": 37,
   "outputs": [],
   "source": [
    "def make_genresList(x):\n",
    "    gen = []\n",
    "    st = \" \"\n",
    "    for i in x:\n",
    "        if i.get('name') == 'Science Fiction':\n",
    "            scifi = 'Sci-Fi'\n",
    "            gen.append(scifi)\n",
    "        else:\n",
    "            gen.append(i.get('name'))\n",
    "    if gen == []:\n",
    "        return np.NaN\n",
    "    else:\n",
    "        return (st.join(gen))"
   ],
   "metadata": {
    "collapsed": false
   }
  },
  {
   "cell_type": "code",
   "execution_count": 38,
   "outputs": [],
   "source": [
    "data['genre'] = data['genres'].map(lambda x: make_genresList(x))"
   ],
   "metadata": {
    "collapsed": false
   }
  },
  {
   "cell_type": "code",
   "execution_count": 39,
   "outputs": [
    {
     "data": {
      "text/plain": "0         Animation Comedy Family\n1        Adventure Fantasy Family\n2                  Romance Comedy\n3            Comedy Drama Romance\n4                          Comedy\n                   ...           \n45440        Drama Action Romance\n45441                       Drama\n45442       Action Drama Thriller\n45443                         NaN\n45444                         NaN\nName: genre, Length: 45445, dtype: object"
     },
     "execution_count": 39,
     "metadata": {},
     "output_type": "execute_result"
    }
   ],
   "source": [
    "data['genre']"
   ],
   "metadata": {
    "collapsed": false
   }
  },
  {
   "cell_type": "code",
   "execution_count": 40,
   "outputs": [
    {
     "data": {
      "text/plain": "           id                        title  \\\n0         862                    Toy Story   \n1        8844                      Jumanji   \n2       15602             Grumpier Old Men   \n3       31357            Waiting to Exhale   \n4       11862  Father of the Bride Part II   \n...       ...                          ...   \n45440   30840                   Robin Hood   \n45441  111109          Century of Birthing   \n45442   67758                     Betrayal   \n45443  227506             Satan Triumphant   \n45444  461257                     Queerama   \n\n                                                  genres  year  \\\n0      [{'id': 16, 'name': 'Animation'}, {'id': 35, '...  1995   \n1      [{'id': 12, 'name': 'Adventure'}, {'id': 14, '...  1995   \n2      [{'id': 10749, 'name': 'Romance'}, {'id': 35, ...  1995   \n3      [{'id': 35, 'name': 'Comedy'}, {'id': 18, 'nam...  1995   \n4                         [{'id': 35, 'name': 'Comedy'}]  1995   \n...                                                  ...   ...   \n45440  [{'id': 18, 'name': 'Drama'}, {'id': 28, 'name...  1991   \n45441                      [{'id': 18, 'name': 'Drama'}]  2011   \n45442  [{'id': 28, 'name': 'Action'}, {'id': 18, 'nam...  2003   \n45443                                                 []  1917   \n45444                                                 []  2017   \n\n                                                    cast  \\\n0      [{'cast_id': 14, 'character': 'Woody (voice)',...   \n1      [{'cast_id': 1, 'character': 'Alan Parrish', '...   \n2      [{'cast_id': 2, 'character': 'Max Goldman', 'c...   \n3      [{'cast_id': 1, 'character': 'Savannah 'Vannah...   \n4      [{'cast_id': 1, 'character': 'George Banks', '...   \n...                                                  ...   \n45440  [{'cast_id': 1, 'character': 'Sir Robert Hode'...   \n45441  [{'cast_id': 1002, 'character': 'Sister Angela...   \n45442  [{'cast_id': 6, 'character': 'Emily Shaw', 'cr...   \n45443  [{'cast_id': 2, 'character': '', 'credit_id': ...   \n45444                                                 []   \n\n                                                    crew  \\\n0      [{'credit_id': '52fe4284c3a36847f8024f49', 'de...   \n1      [{'credit_id': '52fe44bfc3a36847f80a7cd1', 'de...   \n2      [{'credit_id': '52fe466a9251416c75077a89', 'de...   \n3      [{'credit_id': '52fe44779251416c91011acb', 'de...   \n4      [{'credit_id': '52fe44959251416c75039ed7', 'de...   \n...                                                  ...   \n45440  [{'credit_id': '52fe44439251416c9100a899', 'de...   \n45441  [{'credit_id': '52fe4af1c3a36847f81e9b15', 'de...   \n45442  [{'credit_id': '52fe4776c3a368484e0c8387', 'de...   \n45443  [{'credit_id': '533bccebc3a36844cf0011a7', 'de...   \n45444  [{'credit_id': '593e676c92514105b702e68e', 'de...   \n\n                          genre  \n0       Animation Comedy Family  \n1      Adventure Fantasy Family  \n2                Romance Comedy  \n3          Comedy Drama Romance  \n4                        Comedy  \n...                         ...  \n45440      Drama Action Romance  \n45441                     Drama  \n45442     Action Drama Thriller  \n45443                       NaN  \n45444                       NaN  \n\n[45445 rows x 7 columns]",
      "text/html": "<div>\n<style scoped>\n    .dataframe tbody tr th:only-of-type {\n        vertical-align: middle;\n    }\n\n    .dataframe tbody tr th {\n        vertical-align: top;\n    }\n\n    .dataframe thead th {\n        text-align: right;\n    }\n</style>\n<table border=\"1\" class=\"dataframe\">\n  <thead>\n    <tr style=\"text-align: right;\">\n      <th></th>\n      <th>id</th>\n      <th>title</th>\n      <th>genres</th>\n      <th>year</th>\n      <th>cast</th>\n      <th>crew</th>\n      <th>genre</th>\n    </tr>\n  </thead>\n  <tbody>\n    <tr>\n      <th>0</th>\n      <td>862</td>\n      <td>Toy Story</td>\n      <td>[{'id': 16, 'name': 'Animation'}, {'id': 35, '...</td>\n      <td>1995</td>\n      <td>[{'cast_id': 14, 'character': 'Woody (voice)',...</td>\n      <td>[{'credit_id': '52fe4284c3a36847f8024f49', 'de...</td>\n      <td>Animation Comedy Family</td>\n    </tr>\n    <tr>\n      <th>1</th>\n      <td>8844</td>\n      <td>Jumanji</td>\n      <td>[{'id': 12, 'name': 'Adventure'}, {'id': 14, '...</td>\n      <td>1995</td>\n      <td>[{'cast_id': 1, 'character': 'Alan Parrish', '...</td>\n      <td>[{'credit_id': '52fe44bfc3a36847f80a7cd1', 'de...</td>\n      <td>Adventure Fantasy Family</td>\n    </tr>\n    <tr>\n      <th>2</th>\n      <td>15602</td>\n      <td>Grumpier Old Men</td>\n      <td>[{'id': 10749, 'name': 'Romance'}, {'id': 35, ...</td>\n      <td>1995</td>\n      <td>[{'cast_id': 2, 'character': 'Max Goldman', 'c...</td>\n      <td>[{'credit_id': '52fe466a9251416c75077a89', 'de...</td>\n      <td>Romance Comedy</td>\n    </tr>\n    <tr>\n      <th>3</th>\n      <td>31357</td>\n      <td>Waiting to Exhale</td>\n      <td>[{'id': 35, 'name': 'Comedy'}, {'id': 18, 'nam...</td>\n      <td>1995</td>\n      <td>[{'cast_id': 1, 'character': 'Savannah 'Vannah...</td>\n      <td>[{'credit_id': '52fe44779251416c91011acb', 'de...</td>\n      <td>Comedy Drama Romance</td>\n    </tr>\n    <tr>\n      <th>4</th>\n      <td>11862</td>\n      <td>Father of the Bride Part II</td>\n      <td>[{'id': 35, 'name': 'Comedy'}]</td>\n      <td>1995</td>\n      <td>[{'cast_id': 1, 'character': 'George Banks', '...</td>\n      <td>[{'credit_id': '52fe44959251416c75039ed7', 'de...</td>\n      <td>Comedy</td>\n    </tr>\n    <tr>\n      <th>...</th>\n      <td>...</td>\n      <td>...</td>\n      <td>...</td>\n      <td>...</td>\n      <td>...</td>\n      <td>...</td>\n      <td>...</td>\n    </tr>\n    <tr>\n      <th>45440</th>\n      <td>30840</td>\n      <td>Robin Hood</td>\n      <td>[{'id': 18, 'name': 'Drama'}, {'id': 28, 'name...</td>\n      <td>1991</td>\n      <td>[{'cast_id': 1, 'character': 'Sir Robert Hode'...</td>\n      <td>[{'credit_id': '52fe44439251416c9100a899', 'de...</td>\n      <td>Drama Action Romance</td>\n    </tr>\n    <tr>\n      <th>45441</th>\n      <td>111109</td>\n      <td>Century of Birthing</td>\n      <td>[{'id': 18, 'name': 'Drama'}]</td>\n      <td>2011</td>\n      <td>[{'cast_id': 1002, 'character': 'Sister Angela...</td>\n      <td>[{'credit_id': '52fe4af1c3a36847f81e9b15', 'de...</td>\n      <td>Drama</td>\n    </tr>\n    <tr>\n      <th>45442</th>\n      <td>67758</td>\n      <td>Betrayal</td>\n      <td>[{'id': 28, 'name': 'Action'}, {'id': 18, 'nam...</td>\n      <td>2003</td>\n      <td>[{'cast_id': 6, 'character': 'Emily Shaw', 'cr...</td>\n      <td>[{'credit_id': '52fe4776c3a368484e0c8387', 'de...</td>\n      <td>Action Drama Thriller</td>\n    </tr>\n    <tr>\n      <th>45443</th>\n      <td>227506</td>\n      <td>Satan Triumphant</td>\n      <td>[]</td>\n      <td>1917</td>\n      <td>[{'cast_id': 2, 'character': '', 'credit_id': ...</td>\n      <td>[{'credit_id': '533bccebc3a36844cf0011a7', 'de...</td>\n      <td>NaN</td>\n    </tr>\n    <tr>\n      <th>45444</th>\n      <td>461257</td>\n      <td>Queerama</td>\n      <td>[]</td>\n      <td>2017</td>\n      <td>[]</td>\n      <td>[{'credit_id': '593e676c92514105b702e68e', 'de...</td>\n      <td>NaN</td>\n    </tr>\n  </tbody>\n</table>\n<p>45445 rows × 7 columns</p>\n</div>"
     },
     "execution_count": 40,
     "metadata": {},
     "output_type": "execute_result"
    }
   ],
   "source": [
    "data"
   ],
   "metadata": {
    "collapsed": false
   }
  },
  {
   "cell_type": "code",
   "execution_count": 41,
   "outputs": [
    {
     "data": {
      "text/plain": "           id                        title  year  \\\n0         862                    Toy Story  1995   \n1        8844                      Jumanji  1995   \n2       15602             Grumpier Old Men  1995   \n3       31357            Waiting to Exhale  1995   \n4       11862  Father of the Bride Part II  1995   \n...       ...                          ...   ...   \n45440   30840                   Robin Hood  1991   \n45441  111109          Century of Birthing  2011   \n45442   67758                     Betrayal  2003   \n45443  227506             Satan Triumphant  1917   \n45444  461257                     Queerama  2017   \n\n                                                    cast  \\\n0      [{'cast_id': 14, 'character': 'Woody (voice)',...   \n1      [{'cast_id': 1, 'character': 'Alan Parrish', '...   \n2      [{'cast_id': 2, 'character': 'Max Goldman', 'c...   \n3      [{'cast_id': 1, 'character': 'Savannah 'Vannah...   \n4      [{'cast_id': 1, 'character': 'George Banks', '...   \n...                                                  ...   \n45440  [{'cast_id': 1, 'character': 'Sir Robert Hode'...   \n45441  [{'cast_id': 1002, 'character': 'Sister Angela...   \n45442  [{'cast_id': 6, 'character': 'Emily Shaw', 'cr...   \n45443  [{'cast_id': 2, 'character': '', 'credit_id': ...   \n45444                                                 []   \n\n                                                    crew  \\\n0      [{'credit_id': '52fe4284c3a36847f8024f49', 'de...   \n1      [{'credit_id': '52fe44bfc3a36847f80a7cd1', 'de...   \n2      [{'credit_id': '52fe466a9251416c75077a89', 'de...   \n3      [{'credit_id': '52fe44779251416c91011acb', 'de...   \n4      [{'credit_id': '52fe44959251416c75039ed7', 'de...   \n...                                                  ...   \n45440  [{'credit_id': '52fe44439251416c9100a899', 'de...   \n45441  [{'credit_id': '52fe4af1c3a36847f81e9b15', 'de...   \n45442  [{'credit_id': '52fe4776c3a368484e0c8387', 'de...   \n45443  [{'credit_id': '533bccebc3a36844cf0011a7', 'de...   \n45444  [{'credit_id': '593e676c92514105b702e68e', 'de...   \n\n                          genre  \n0       Animation Comedy Family  \n1      Adventure Fantasy Family  \n2                Romance Comedy  \n3          Comedy Drama Romance  \n4                        Comedy  \n...                         ...  \n45440      Drama Action Romance  \n45441                     Drama  \n45442     Action Drama Thriller  \n45443                       NaN  \n45444                       NaN  \n\n[45445 rows x 6 columns]",
      "text/html": "<div>\n<style scoped>\n    .dataframe tbody tr th:only-of-type {\n        vertical-align: middle;\n    }\n\n    .dataframe tbody tr th {\n        vertical-align: top;\n    }\n\n    .dataframe thead th {\n        text-align: right;\n    }\n</style>\n<table border=\"1\" class=\"dataframe\">\n  <thead>\n    <tr style=\"text-align: right;\">\n      <th></th>\n      <th>id</th>\n      <th>title</th>\n      <th>year</th>\n      <th>cast</th>\n      <th>crew</th>\n      <th>genre</th>\n    </tr>\n  </thead>\n  <tbody>\n    <tr>\n      <th>0</th>\n      <td>862</td>\n      <td>Toy Story</td>\n      <td>1995</td>\n      <td>[{'cast_id': 14, 'character': 'Woody (voice)',...</td>\n      <td>[{'credit_id': '52fe4284c3a36847f8024f49', 'de...</td>\n      <td>Animation Comedy Family</td>\n    </tr>\n    <tr>\n      <th>1</th>\n      <td>8844</td>\n      <td>Jumanji</td>\n      <td>1995</td>\n      <td>[{'cast_id': 1, 'character': 'Alan Parrish', '...</td>\n      <td>[{'credit_id': '52fe44bfc3a36847f80a7cd1', 'de...</td>\n      <td>Adventure Fantasy Family</td>\n    </tr>\n    <tr>\n      <th>2</th>\n      <td>15602</td>\n      <td>Grumpier Old Men</td>\n      <td>1995</td>\n      <td>[{'cast_id': 2, 'character': 'Max Goldman', 'c...</td>\n      <td>[{'credit_id': '52fe466a9251416c75077a89', 'de...</td>\n      <td>Romance Comedy</td>\n    </tr>\n    <tr>\n      <th>3</th>\n      <td>31357</td>\n      <td>Waiting to Exhale</td>\n      <td>1995</td>\n      <td>[{'cast_id': 1, 'character': 'Savannah 'Vannah...</td>\n      <td>[{'credit_id': '52fe44779251416c91011acb', 'de...</td>\n      <td>Comedy Drama Romance</td>\n    </tr>\n    <tr>\n      <th>4</th>\n      <td>11862</td>\n      <td>Father of the Bride Part II</td>\n      <td>1995</td>\n      <td>[{'cast_id': 1, 'character': 'George Banks', '...</td>\n      <td>[{'credit_id': '52fe44959251416c75039ed7', 'de...</td>\n      <td>Comedy</td>\n    </tr>\n    <tr>\n      <th>...</th>\n      <td>...</td>\n      <td>...</td>\n      <td>...</td>\n      <td>...</td>\n      <td>...</td>\n      <td>...</td>\n    </tr>\n    <tr>\n      <th>45440</th>\n      <td>30840</td>\n      <td>Robin Hood</td>\n      <td>1991</td>\n      <td>[{'cast_id': 1, 'character': 'Sir Robert Hode'...</td>\n      <td>[{'credit_id': '52fe44439251416c9100a899', 'de...</td>\n      <td>Drama Action Romance</td>\n    </tr>\n    <tr>\n      <th>45441</th>\n      <td>111109</td>\n      <td>Century of Birthing</td>\n      <td>2011</td>\n      <td>[{'cast_id': 1002, 'character': 'Sister Angela...</td>\n      <td>[{'credit_id': '52fe4af1c3a36847f81e9b15', 'de...</td>\n      <td>Drama</td>\n    </tr>\n    <tr>\n      <th>45442</th>\n      <td>67758</td>\n      <td>Betrayal</td>\n      <td>2003</td>\n      <td>[{'cast_id': 6, 'character': 'Emily Shaw', 'cr...</td>\n      <td>[{'credit_id': '52fe4776c3a368484e0c8387', 'de...</td>\n      <td>Action Drama Thriller</td>\n    </tr>\n    <tr>\n      <th>45443</th>\n      <td>227506</td>\n      <td>Satan Triumphant</td>\n      <td>1917</td>\n      <td>[{'cast_id': 2, 'character': '', 'credit_id': ...</td>\n      <td>[{'credit_id': '533bccebc3a36844cf0011a7', 'de...</td>\n      <td>NaN</td>\n    </tr>\n    <tr>\n      <th>45444</th>\n      <td>461257</td>\n      <td>Queerama</td>\n      <td>2017</td>\n      <td>[]</td>\n      <td>[{'credit_id': '593e676c92514105b702e68e', 'de...</td>\n      <td>NaN</td>\n    </tr>\n  </tbody>\n</table>\n<p>45445 rows × 6 columns</p>\n</div>"
     },
     "execution_count": 41,
     "metadata": {},
     "output_type": "execute_result"
    }
   ],
   "source": [
    "data.drop(columns='genres')"
   ],
   "metadata": {
    "collapsed": false
   }
  },
  {
   "cell_type": "code",
   "execution_count": 42,
   "outputs": [],
   "source": [
    "def get_actor1(x):\n",
    "    casts = []\n",
    "    for i in x:\n",
    "        casts.append(i.get('name'))\n",
    "    if casts == []:\n",
    "        return np.NaN\n",
    "    else:\n",
    "        return (casts[0])"
   ],
   "metadata": {
    "collapsed": false
   }
  },
  {
   "cell_type": "code",
   "execution_count": 43,
   "outputs": [],
   "source": [
    "data['actor_name1'] = data['cast'].map(lambda x: get_actor1(x))"
   ],
   "metadata": {
    "collapsed": false
   }
  },
  {
   "cell_type": "code",
   "execution_count": 44,
   "outputs": [],
   "source": [
    "def get_actor2(x):\n",
    "    casts = []\n",
    "    for i in x:\n",
    "        casts.append(i.get('name'))\n",
    "    if casts == [] or len(casts)<=1:\n",
    "        return np.NaN\n",
    "    else:\n",
    "        return (casts[1])"
   ],
   "metadata": {
    "collapsed": false
   }
  },
  {
   "cell_type": "code",
   "execution_count": 45,
   "outputs": [],
   "source": [
    "data['actor_name2'] = data['cast'].map(lambda x: get_actor2(x))"
   ],
   "metadata": {
    "collapsed": false
   }
  },
  {
   "cell_type": "code",
   "execution_count": 48,
   "outputs": [],
   "source": [
    "def get_actor3(x):\n",
    "    casts = []\n",
    "    for i in x:\n",
    "        casts.append(i.get('name'))\n",
    "    if casts == [] or len(casts)<=2:\n",
    "        return np.NaN\n",
    "    else:\n",
    "        return (casts[2])"
   ],
   "metadata": {
    "collapsed": false
   }
  },
  {
   "cell_type": "code",
   "execution_count": 49,
   "outputs": [],
   "source": [
    "data['actor_name3'] = data['cast'].map(lambda x: get_actor3(x))"
   ],
   "metadata": {
    "collapsed": false
   }
  },
  {
   "cell_type": "code",
   "execution_count": 50,
   "outputs": [],
   "source": [
    "def get_directors(x):\n",
    "    dt = []\n",
    "    st = \" \"\n",
    "    for i in x:\n",
    "        if i.get('job') == 'Director':\n",
    "            dt.append(i.get('name'))\n",
    "    if dt == []:\n",
    "        return np.NaN\n",
    "    else:\n",
    "        return (st.join(dt))"
   ],
   "metadata": {
    "collapsed": false
   }
  },
  {
   "cell_type": "code",
   "execution_count": 51,
   "outputs": [],
   "source": [
    "data['director_name'] = data['crew'].map(lambda x: get_directors(x))"
   ],
   "metadata": {
    "collapsed": false
   }
  },
  {
   "cell_type": "code",
   "execution_count": 52,
   "outputs": [
    {
     "data": {
      "text/plain": "0           John Lasseter\n1            Joe Johnston\n2           Howard Deutch\n3         Forest Whitaker\n4           Charles Shyer\n               ...       \n45440          John Irvin\n45441            Lav Diaz\n45442      Mark L. Lester\n45443    Yakov Protazanov\n45444       Daisy Asquith\nName: director_name, Length: 45445, dtype: object"
     },
     "execution_count": 52,
     "metadata": {},
     "output_type": "execute_result"
    }
   ],
   "source": [
    "data['director_name']"
   ],
   "metadata": {
    "collapsed": false
   }
  },
  {
   "cell_type": "code",
   "execution_count": 54,
   "outputs": [],
   "source": [
    "new_data = data.loc[:,['title','genre','director_name','actor_name1','actor_name2','actor_name3','year']]"
   ],
   "metadata": {
    "collapsed": false
   }
  },
  {
   "cell_type": "code",
   "execution_count": 55,
   "outputs": [
    {
     "data": {
      "text/plain": "                             title                     genre  \\\n0                        Toy Story   Animation Comedy Family   \n1                          Jumanji  Adventure Fantasy Family   \n2                 Grumpier Old Men            Romance Comedy   \n3                Waiting to Exhale      Comedy Drama Romance   \n4      Father of the Bride Part II                    Comedy   \n...                            ...                       ...   \n45440                   Robin Hood      Drama Action Romance   \n45441          Century of Birthing                     Drama   \n45442                     Betrayal     Action Drama Thriller   \n45443             Satan Triumphant                       NaN   \n45444                     Queerama                       NaN   \n\n          director_name       actor_name1        actor_name2      actor_name3  \\\n0         John Lasseter         Tom Hanks          Tim Allen      Don Rickles   \n1          Joe Johnston    Robin Williams      Jonathan Hyde    Kirsten Dunst   \n2         Howard Deutch    Walter Matthau        Jack Lemmon      Ann-Margret   \n3       Forest Whitaker   Whitney Houston     Angela Bassett   Loretta Devine   \n4         Charles Shyer      Steve Martin       Diane Keaton     Martin Short   \n...                 ...               ...                ...              ...   \n45440        John Irvin    Patrick Bergin        Uma Thurman  David Morrissey   \n45441          Lav Diaz      Angel Aquino        Perry Dizon    Hazel Orencio   \n45442    Mark L. Lester     Erika Eleniak       Adam Baldwin    Julie du Page   \n45443  Yakov Protazanov  Iwan Mosschuchin  Nathalie Lissenko     Pavel Pavlov   \n45444     Daisy Asquith               NaN                NaN              NaN   \n\n       year  \n0      1995  \n1      1995  \n2      1995  \n3      1995  \n4      1995  \n...     ...  \n45440  1991  \n45441  2011  \n45442  2003  \n45443  1917  \n45444  2017  \n\n[45445 rows x 7 columns]",
      "text/html": "<div>\n<style scoped>\n    .dataframe tbody tr th:only-of-type {\n        vertical-align: middle;\n    }\n\n    .dataframe tbody tr th {\n        vertical-align: top;\n    }\n\n    .dataframe thead th {\n        text-align: right;\n    }\n</style>\n<table border=\"1\" class=\"dataframe\">\n  <thead>\n    <tr style=\"text-align: right;\">\n      <th></th>\n      <th>title</th>\n      <th>genre</th>\n      <th>director_name</th>\n      <th>actor_name1</th>\n      <th>actor_name2</th>\n      <th>actor_name3</th>\n      <th>year</th>\n    </tr>\n  </thead>\n  <tbody>\n    <tr>\n      <th>0</th>\n      <td>Toy Story</td>\n      <td>Animation Comedy Family</td>\n      <td>John Lasseter</td>\n      <td>Tom Hanks</td>\n      <td>Tim Allen</td>\n      <td>Don Rickles</td>\n      <td>1995</td>\n    </tr>\n    <tr>\n      <th>1</th>\n      <td>Jumanji</td>\n      <td>Adventure Fantasy Family</td>\n      <td>Joe Johnston</td>\n      <td>Robin Williams</td>\n      <td>Jonathan Hyde</td>\n      <td>Kirsten Dunst</td>\n      <td>1995</td>\n    </tr>\n    <tr>\n      <th>2</th>\n      <td>Grumpier Old Men</td>\n      <td>Romance Comedy</td>\n      <td>Howard Deutch</td>\n      <td>Walter Matthau</td>\n      <td>Jack Lemmon</td>\n      <td>Ann-Margret</td>\n      <td>1995</td>\n    </tr>\n    <tr>\n      <th>3</th>\n      <td>Waiting to Exhale</td>\n      <td>Comedy Drama Romance</td>\n      <td>Forest Whitaker</td>\n      <td>Whitney Houston</td>\n      <td>Angela Bassett</td>\n      <td>Loretta Devine</td>\n      <td>1995</td>\n    </tr>\n    <tr>\n      <th>4</th>\n      <td>Father of the Bride Part II</td>\n      <td>Comedy</td>\n      <td>Charles Shyer</td>\n      <td>Steve Martin</td>\n      <td>Diane Keaton</td>\n      <td>Martin Short</td>\n      <td>1995</td>\n    </tr>\n    <tr>\n      <th>...</th>\n      <td>...</td>\n      <td>...</td>\n      <td>...</td>\n      <td>...</td>\n      <td>...</td>\n      <td>...</td>\n      <td>...</td>\n    </tr>\n    <tr>\n      <th>45440</th>\n      <td>Robin Hood</td>\n      <td>Drama Action Romance</td>\n      <td>John Irvin</td>\n      <td>Patrick Bergin</td>\n      <td>Uma Thurman</td>\n      <td>David Morrissey</td>\n      <td>1991</td>\n    </tr>\n    <tr>\n      <th>45441</th>\n      <td>Century of Birthing</td>\n      <td>Drama</td>\n      <td>Lav Diaz</td>\n      <td>Angel Aquino</td>\n      <td>Perry Dizon</td>\n      <td>Hazel Orencio</td>\n      <td>2011</td>\n    </tr>\n    <tr>\n      <th>45442</th>\n      <td>Betrayal</td>\n      <td>Action Drama Thriller</td>\n      <td>Mark L. Lester</td>\n      <td>Erika Eleniak</td>\n      <td>Adam Baldwin</td>\n      <td>Julie du Page</td>\n      <td>2003</td>\n    </tr>\n    <tr>\n      <th>45443</th>\n      <td>Satan Triumphant</td>\n      <td>NaN</td>\n      <td>Yakov Protazanov</td>\n      <td>Iwan Mosschuchin</td>\n      <td>Nathalie Lissenko</td>\n      <td>Pavel Pavlov</td>\n      <td>1917</td>\n    </tr>\n    <tr>\n      <th>45444</th>\n      <td>Queerama</td>\n      <td>NaN</td>\n      <td>Daisy Asquith</td>\n      <td>NaN</td>\n      <td>NaN</td>\n      <td>NaN</td>\n      <td>2017</td>\n    </tr>\n  </tbody>\n</table>\n<p>45445 rows × 7 columns</p>\n</div>"
     },
     "execution_count": 55,
     "metadata": {},
     "output_type": "execute_result"
    }
   ],
   "source": [
    "new_data"
   ],
   "metadata": {
    "collapsed": false
   }
  },
  {
   "cell_type": "code",
   "execution_count": 56,
   "outputs": [],
   "source": [
    "new_data=new_data.rename(columns={'director_name':'director','actor_name1':'actor1','actor_name2':'actor2','actor_name3':'actor3'})"
   ],
   "metadata": {
    "collapsed": false
   }
  },
  {
   "cell_type": "code",
   "execution_count": 57,
   "outputs": [
    {
     "data": {
      "text/plain": "                             title                     genre  \\\n0                        Toy Story   Animation Comedy Family   \n1                          Jumanji  Adventure Fantasy Family   \n2                 Grumpier Old Men            Romance Comedy   \n3                Waiting to Exhale      Comedy Drama Romance   \n4      Father of the Bride Part II                    Comedy   \n...                            ...                       ...   \n45440                   Robin Hood      Drama Action Romance   \n45441          Century of Birthing                     Drama   \n45442                     Betrayal     Action Drama Thriller   \n45443             Satan Triumphant                       NaN   \n45444                     Queerama                       NaN   \n\n               director            actor1             actor2           actor3  \\\n0         John Lasseter         Tom Hanks          Tim Allen      Don Rickles   \n1          Joe Johnston    Robin Williams      Jonathan Hyde    Kirsten Dunst   \n2         Howard Deutch    Walter Matthau        Jack Lemmon      Ann-Margret   \n3       Forest Whitaker   Whitney Houston     Angela Bassett   Loretta Devine   \n4         Charles Shyer      Steve Martin       Diane Keaton     Martin Short   \n...                 ...               ...                ...              ...   \n45440        John Irvin    Patrick Bergin        Uma Thurman  David Morrissey   \n45441          Lav Diaz      Angel Aquino        Perry Dizon    Hazel Orencio   \n45442    Mark L. Lester     Erika Eleniak       Adam Baldwin    Julie du Page   \n45443  Yakov Protazanov  Iwan Mosschuchin  Nathalie Lissenko     Pavel Pavlov   \n45444     Daisy Asquith               NaN                NaN              NaN   \n\n       year  \n0      1995  \n1      1995  \n2      1995  \n3      1995  \n4      1995  \n...     ...  \n45440  1991  \n45441  2011  \n45442  2003  \n45443  1917  \n45444  2017  \n\n[45445 rows x 7 columns]",
      "text/html": "<div>\n<style scoped>\n    .dataframe tbody tr th:only-of-type {\n        vertical-align: middle;\n    }\n\n    .dataframe tbody tr th {\n        vertical-align: top;\n    }\n\n    .dataframe thead th {\n        text-align: right;\n    }\n</style>\n<table border=\"1\" class=\"dataframe\">\n  <thead>\n    <tr style=\"text-align: right;\">\n      <th></th>\n      <th>title</th>\n      <th>genre</th>\n      <th>director</th>\n      <th>actor1</th>\n      <th>actor2</th>\n      <th>actor3</th>\n      <th>year</th>\n    </tr>\n  </thead>\n  <tbody>\n    <tr>\n      <th>0</th>\n      <td>Toy Story</td>\n      <td>Animation Comedy Family</td>\n      <td>John Lasseter</td>\n      <td>Tom Hanks</td>\n      <td>Tim Allen</td>\n      <td>Don Rickles</td>\n      <td>1995</td>\n    </tr>\n    <tr>\n      <th>1</th>\n      <td>Jumanji</td>\n      <td>Adventure Fantasy Family</td>\n      <td>Joe Johnston</td>\n      <td>Robin Williams</td>\n      <td>Jonathan Hyde</td>\n      <td>Kirsten Dunst</td>\n      <td>1995</td>\n    </tr>\n    <tr>\n      <th>2</th>\n      <td>Grumpier Old Men</td>\n      <td>Romance Comedy</td>\n      <td>Howard Deutch</td>\n      <td>Walter Matthau</td>\n      <td>Jack Lemmon</td>\n      <td>Ann-Margret</td>\n      <td>1995</td>\n    </tr>\n    <tr>\n      <th>3</th>\n      <td>Waiting to Exhale</td>\n      <td>Comedy Drama Romance</td>\n      <td>Forest Whitaker</td>\n      <td>Whitney Houston</td>\n      <td>Angela Bassett</td>\n      <td>Loretta Devine</td>\n      <td>1995</td>\n    </tr>\n    <tr>\n      <th>4</th>\n      <td>Father of the Bride Part II</td>\n      <td>Comedy</td>\n      <td>Charles Shyer</td>\n      <td>Steve Martin</td>\n      <td>Diane Keaton</td>\n      <td>Martin Short</td>\n      <td>1995</td>\n    </tr>\n    <tr>\n      <th>...</th>\n      <td>...</td>\n      <td>...</td>\n      <td>...</td>\n      <td>...</td>\n      <td>...</td>\n      <td>...</td>\n      <td>...</td>\n    </tr>\n    <tr>\n      <th>45440</th>\n      <td>Robin Hood</td>\n      <td>Drama Action Romance</td>\n      <td>John Irvin</td>\n      <td>Patrick Bergin</td>\n      <td>Uma Thurman</td>\n      <td>David Morrissey</td>\n      <td>1991</td>\n    </tr>\n    <tr>\n      <th>45441</th>\n      <td>Century of Birthing</td>\n      <td>Drama</td>\n      <td>Lav Diaz</td>\n      <td>Angel Aquino</td>\n      <td>Perry Dizon</td>\n      <td>Hazel Orencio</td>\n      <td>2011</td>\n    </tr>\n    <tr>\n      <th>45442</th>\n      <td>Betrayal</td>\n      <td>Action Drama Thriller</td>\n      <td>Mark L. Lester</td>\n      <td>Erika Eleniak</td>\n      <td>Adam Baldwin</td>\n      <td>Julie du Page</td>\n      <td>2003</td>\n    </tr>\n    <tr>\n      <th>45443</th>\n      <td>Satan Triumphant</td>\n      <td>NaN</td>\n      <td>Yakov Protazanov</td>\n      <td>Iwan Mosschuchin</td>\n      <td>Nathalie Lissenko</td>\n      <td>Pavel Pavlov</td>\n      <td>1917</td>\n    </tr>\n    <tr>\n      <th>45444</th>\n      <td>Queerama</td>\n      <td>NaN</td>\n      <td>Daisy Asquith</td>\n      <td>NaN</td>\n      <td>NaN</td>\n      <td>NaN</td>\n      <td>2017</td>\n    </tr>\n  </tbody>\n</table>\n<p>45445 rows × 7 columns</p>\n</div>"
     },
     "execution_count": 57,
     "metadata": {},
     "output_type": "execute_result"
    }
   ],
   "source": [
    "new_data"
   ],
   "metadata": {
    "collapsed": false
   }
  },
  {
   "cell_type": "code",
   "execution_count": 58,
   "outputs": [
    {
     "data": {
      "text/plain": "title          0\ngenre       2384\ndirector     835\nactor1      2354\nactor2      3683\nactor3      4593\nyear           0\ndtype: int64"
     },
     "execution_count": 58,
     "metadata": {},
     "output_type": "execute_result"
    }
   ],
   "source": [
    "new_data.isna().sum()"
   ],
   "metadata": {
    "collapsed": false
   }
  },
  {
   "cell_type": "code",
   "execution_count": 59,
   "outputs": [],
   "source": [
    "new_data = new_data.dropna(how='any')"
   ],
   "metadata": {
    "collapsed": false
   }
  },
  {
   "cell_type": "code",
   "execution_count": 60,
   "outputs": [
    {
     "data": {
      "text/plain": "title       0\ngenre       0\ndirector    0\nactor1      0\nactor2      0\nactor3      0\nyear        0\ndtype: int64"
     },
     "execution_count": 60,
     "metadata": {},
     "output_type": "execute_result"
    }
   ],
   "source": [
    "new_data.isna().sum()"
   ],
   "metadata": {
    "collapsed": false
   }
  },
  {
   "cell_type": "code",
   "execution_count": 62,
   "outputs": [
    {
     "data": {
      "text/plain": "                             title                     genre         director  \\\n0                        Toy Story   Animation Comedy Family    John Lasseter   \n1                          Jumanji  Adventure Fantasy Family     Joe Johnston   \n2                 Grumpier Old Men            Romance Comedy    Howard Deutch   \n3                Waiting to Exhale      Comedy Drama Romance  Forest Whitaker   \n4      Father of the Bride Part II                    Comedy    Charles Shyer   \n...                            ...                       ...              ...   \n45438          The Burkittsville 7                    Horror         Ben Rock   \n45439              Caged Heat 3000                    Sci-Fi    Aaron Osborne   \n45440                   Robin Hood      Drama Action Romance       John Irvin   \n45441          Century of Birthing                     Drama         Lav Diaz   \n45442                     Betrayal     Action Drama Thriller   Mark L. Lester   \n\n                actor1          actor2           actor3  year  \n0            Tom Hanks       Tim Allen      Don Rickles  1995  \n1       Robin Williams   Jonathan Hyde    Kirsten Dunst  1995  \n2       Walter Matthau     Jack Lemmon      Ann-Margret  1995  \n3      Whitney Houston  Angela Bassett   Loretta Devine  1995  \n4         Steve Martin    Diane Keaton     Martin Short  1995  \n...                ...             ...              ...   ...  \n45438       Monty Bane     Lucy Butler    David Grammer  2000  \n45439       Lisa Boyle       Kena Land    Zaneta Polard  1995  \n45440   Patrick Bergin     Uma Thurman  David Morrissey  1991  \n45441     Angel Aquino     Perry Dizon    Hazel Orencio  2011  \n45442    Erika Eleniak    Adam Baldwin    Julie du Page  2003  \n\n[39201 rows x 7 columns]",
      "text/html": "<div>\n<style scoped>\n    .dataframe tbody tr th:only-of-type {\n        vertical-align: middle;\n    }\n\n    .dataframe tbody tr th {\n        vertical-align: top;\n    }\n\n    .dataframe thead th {\n        text-align: right;\n    }\n</style>\n<table border=\"1\" class=\"dataframe\">\n  <thead>\n    <tr style=\"text-align: right;\">\n      <th></th>\n      <th>title</th>\n      <th>genre</th>\n      <th>director</th>\n      <th>actor1</th>\n      <th>actor2</th>\n      <th>actor3</th>\n      <th>year</th>\n    </tr>\n  </thead>\n  <tbody>\n    <tr>\n      <th>0</th>\n      <td>Toy Story</td>\n      <td>Animation Comedy Family</td>\n      <td>John Lasseter</td>\n      <td>Tom Hanks</td>\n      <td>Tim Allen</td>\n      <td>Don Rickles</td>\n      <td>1995</td>\n    </tr>\n    <tr>\n      <th>1</th>\n      <td>Jumanji</td>\n      <td>Adventure Fantasy Family</td>\n      <td>Joe Johnston</td>\n      <td>Robin Williams</td>\n      <td>Jonathan Hyde</td>\n      <td>Kirsten Dunst</td>\n      <td>1995</td>\n    </tr>\n    <tr>\n      <th>2</th>\n      <td>Grumpier Old Men</td>\n      <td>Romance Comedy</td>\n      <td>Howard Deutch</td>\n      <td>Walter Matthau</td>\n      <td>Jack Lemmon</td>\n      <td>Ann-Margret</td>\n      <td>1995</td>\n    </tr>\n    <tr>\n      <th>3</th>\n      <td>Waiting to Exhale</td>\n      <td>Comedy Drama Romance</td>\n      <td>Forest Whitaker</td>\n      <td>Whitney Houston</td>\n      <td>Angela Bassett</td>\n      <td>Loretta Devine</td>\n      <td>1995</td>\n    </tr>\n    <tr>\n      <th>4</th>\n      <td>Father of the Bride Part II</td>\n      <td>Comedy</td>\n      <td>Charles Shyer</td>\n      <td>Steve Martin</td>\n      <td>Diane Keaton</td>\n      <td>Martin Short</td>\n      <td>1995</td>\n    </tr>\n    <tr>\n      <th>...</th>\n      <td>...</td>\n      <td>...</td>\n      <td>...</td>\n      <td>...</td>\n      <td>...</td>\n      <td>...</td>\n      <td>...</td>\n    </tr>\n    <tr>\n      <th>45438</th>\n      <td>The Burkittsville 7</td>\n      <td>Horror</td>\n      <td>Ben Rock</td>\n      <td>Monty Bane</td>\n      <td>Lucy Butler</td>\n      <td>David Grammer</td>\n      <td>2000</td>\n    </tr>\n    <tr>\n      <th>45439</th>\n      <td>Caged Heat 3000</td>\n      <td>Sci-Fi</td>\n      <td>Aaron Osborne</td>\n      <td>Lisa Boyle</td>\n      <td>Kena Land</td>\n      <td>Zaneta Polard</td>\n      <td>1995</td>\n    </tr>\n    <tr>\n      <th>45440</th>\n      <td>Robin Hood</td>\n      <td>Drama Action Romance</td>\n      <td>John Irvin</td>\n      <td>Patrick Bergin</td>\n      <td>Uma Thurman</td>\n      <td>David Morrissey</td>\n      <td>1991</td>\n    </tr>\n    <tr>\n      <th>45441</th>\n      <td>Century of Birthing</td>\n      <td>Drama</td>\n      <td>Lav Diaz</td>\n      <td>Angel Aquino</td>\n      <td>Perry Dizon</td>\n      <td>Hazel Orencio</td>\n      <td>2011</td>\n    </tr>\n    <tr>\n      <th>45442</th>\n      <td>Betrayal</td>\n      <td>Action Drama Thriller</td>\n      <td>Mark L. Lester</td>\n      <td>Erika Eleniak</td>\n      <td>Adam Baldwin</td>\n      <td>Julie du Page</td>\n      <td>2003</td>\n    </tr>\n  </tbody>\n</table>\n<p>39201 rows × 7 columns</p>\n</div>"
     },
     "execution_count": 62,
     "metadata": {},
     "output_type": "execute_result"
    }
   ],
   "source": [
    "new_data"
   ],
   "metadata": {
    "collapsed": false
   }
  },
  {
   "cell_type": "code",
   "execution_count": 63,
   "outputs": [
    {
     "name": "stderr",
     "output_type": "stream",
     "text": [
      "C:\\Users\\ETUDIANT\\AppData\\Local\\Temp\\ipykernel_25948\\2744096057.py:1: SettingWithCopyWarning: \n",
      "A value is trying to be set on a copy of a slice from a DataFrame.\n",
      "Try using .loc[row_indexer,col_indexer] = value instead\n",
      "\n",
      "See the caveats in the documentation: https://pandas.pydata.org/pandas-docs/stable/user_guide/indexing.html#returning-a-view-versus-a-copy\n",
      "  new_data['date']=metadata['release_date']\n"
     ]
    }
   ],
   "source": [
    "new_data['date']=metadata['release_date']"
   ],
   "metadata": {
    "collapsed": false
   }
  },
  {
   "cell_type": "code",
   "execution_count": 64,
   "outputs": [
    {
     "data": {
      "text/plain": "                             title                     genre         director  \\\n0                        Toy Story   Animation Comedy Family    John Lasseter   \n1                          Jumanji  Adventure Fantasy Family     Joe Johnston   \n2                 Grumpier Old Men            Romance Comedy    Howard Deutch   \n3                Waiting to Exhale      Comedy Drama Romance  Forest Whitaker   \n4      Father of the Bride Part II                    Comedy    Charles Shyer   \n...                            ...                       ...              ...   \n45438          The Burkittsville 7                    Horror         Ben Rock   \n45439              Caged Heat 3000                    Sci-Fi    Aaron Osborne   \n45440                   Robin Hood      Drama Action Romance       John Irvin   \n45441          Century of Birthing                     Drama         Lav Diaz   \n45442                     Betrayal     Action Drama Thriller   Mark L. Lester   \n\n                actor1          actor2           actor3  year       date  \n0            Tom Hanks       Tim Allen      Don Rickles  1995 1995-10-30  \n1       Robin Williams   Jonathan Hyde    Kirsten Dunst  1995 1995-12-15  \n2       Walter Matthau     Jack Lemmon      Ann-Margret  1995 1995-12-22  \n3      Whitney Houston  Angela Bassett   Loretta Devine  1995 1995-12-22  \n4         Steve Martin    Diane Keaton     Martin Short  1995 1995-02-10  \n...                ...             ...              ...   ...        ...  \n45438       Monty Bane     Lucy Butler    David Grammer  2000 2015-04-02  \n45439       Lisa Boyle       Kena Land    Zaneta Polard  1995 1944-06-01  \n45440   Patrick Bergin     Uma Thurman  David Morrissey  1991 2007-01-08  \n45441     Angel Aquino     Perry Dizon    Hazel Orencio  2011 2002-03-07  \n45442    Erika Eleniak    Adam Baldwin    Julie du Page  2003 1905-01-01  \n\n[39201 rows x 8 columns]",
      "text/html": "<div>\n<style scoped>\n    .dataframe tbody tr th:only-of-type {\n        vertical-align: middle;\n    }\n\n    .dataframe tbody tr th {\n        vertical-align: top;\n    }\n\n    .dataframe thead th {\n        text-align: right;\n    }\n</style>\n<table border=\"1\" class=\"dataframe\">\n  <thead>\n    <tr style=\"text-align: right;\">\n      <th></th>\n      <th>title</th>\n      <th>genre</th>\n      <th>director</th>\n      <th>actor1</th>\n      <th>actor2</th>\n      <th>actor3</th>\n      <th>year</th>\n      <th>date</th>\n    </tr>\n  </thead>\n  <tbody>\n    <tr>\n      <th>0</th>\n      <td>Toy Story</td>\n      <td>Animation Comedy Family</td>\n      <td>John Lasseter</td>\n      <td>Tom Hanks</td>\n      <td>Tim Allen</td>\n      <td>Don Rickles</td>\n      <td>1995</td>\n      <td>1995-10-30</td>\n    </tr>\n    <tr>\n      <th>1</th>\n      <td>Jumanji</td>\n      <td>Adventure Fantasy Family</td>\n      <td>Joe Johnston</td>\n      <td>Robin Williams</td>\n      <td>Jonathan Hyde</td>\n      <td>Kirsten Dunst</td>\n      <td>1995</td>\n      <td>1995-12-15</td>\n    </tr>\n    <tr>\n      <th>2</th>\n      <td>Grumpier Old Men</td>\n      <td>Romance Comedy</td>\n      <td>Howard Deutch</td>\n      <td>Walter Matthau</td>\n      <td>Jack Lemmon</td>\n      <td>Ann-Margret</td>\n      <td>1995</td>\n      <td>1995-12-22</td>\n    </tr>\n    <tr>\n      <th>3</th>\n      <td>Waiting to Exhale</td>\n      <td>Comedy Drama Romance</td>\n      <td>Forest Whitaker</td>\n      <td>Whitney Houston</td>\n      <td>Angela Bassett</td>\n      <td>Loretta Devine</td>\n      <td>1995</td>\n      <td>1995-12-22</td>\n    </tr>\n    <tr>\n      <th>4</th>\n      <td>Father of the Bride Part II</td>\n      <td>Comedy</td>\n      <td>Charles Shyer</td>\n      <td>Steve Martin</td>\n      <td>Diane Keaton</td>\n      <td>Martin Short</td>\n      <td>1995</td>\n      <td>1995-02-10</td>\n    </tr>\n    <tr>\n      <th>...</th>\n      <td>...</td>\n      <td>...</td>\n      <td>...</td>\n      <td>...</td>\n      <td>...</td>\n      <td>...</td>\n      <td>...</td>\n      <td>...</td>\n    </tr>\n    <tr>\n      <th>45438</th>\n      <td>The Burkittsville 7</td>\n      <td>Horror</td>\n      <td>Ben Rock</td>\n      <td>Monty Bane</td>\n      <td>Lucy Butler</td>\n      <td>David Grammer</td>\n      <td>2000</td>\n      <td>2015-04-02</td>\n    </tr>\n    <tr>\n      <th>45439</th>\n      <td>Caged Heat 3000</td>\n      <td>Sci-Fi</td>\n      <td>Aaron Osborne</td>\n      <td>Lisa Boyle</td>\n      <td>Kena Land</td>\n      <td>Zaneta Polard</td>\n      <td>1995</td>\n      <td>1944-06-01</td>\n    </tr>\n    <tr>\n      <th>45440</th>\n      <td>Robin Hood</td>\n      <td>Drama Action Romance</td>\n      <td>John Irvin</td>\n      <td>Patrick Bergin</td>\n      <td>Uma Thurman</td>\n      <td>David Morrissey</td>\n      <td>1991</td>\n      <td>2007-01-08</td>\n    </tr>\n    <tr>\n      <th>45441</th>\n      <td>Century of Birthing</td>\n      <td>Drama</td>\n      <td>Lav Diaz</td>\n      <td>Angel Aquino</td>\n      <td>Perry Dizon</td>\n      <td>Hazel Orencio</td>\n      <td>2011</td>\n      <td>2002-03-07</td>\n    </tr>\n    <tr>\n      <th>45442</th>\n      <td>Betrayal</td>\n      <td>Action Drama Thriller</td>\n      <td>Mark L. Lester</td>\n      <td>Erika Eleniak</td>\n      <td>Adam Baldwin</td>\n      <td>Julie du Page</td>\n      <td>2003</td>\n      <td>1905-01-01</td>\n    </tr>\n  </tbody>\n</table>\n<p>39201 rows × 8 columns</p>\n</div>"
     },
     "execution_count": 64,
     "metadata": {},
     "output_type": "execute_result"
    }
   ],
   "source": [
    "new_data"
   ],
   "metadata": {
    "collapsed": false
   }
  },
  {
   "cell_type": "code",
   "execution_count": 65,
   "outputs": [
    {
     "data": {
      "text/plain": "                             title                     genre         director  \\\n0                        Toy Story   Animation Comedy Family    John Lasseter   \n1                          Jumanji  Adventure Fantasy Family     Joe Johnston   \n2                 Grumpier Old Men            Romance Comedy    Howard Deutch   \n3                Waiting to Exhale      Comedy Drama Romance  Forest Whitaker   \n4      Father of the Bride Part II                    Comedy    Charles Shyer   \n...                            ...                       ...              ...   \n45438          The Burkittsville 7                    Horror         Ben Rock   \n45439              Caged Heat 3000                    Sci-Fi    Aaron Osborne   \n45440                   Robin Hood      Drama Action Romance       John Irvin   \n45441          Century of Birthing                     Drama         Lav Diaz   \n45442                     Betrayal     Action Drama Thriller   Mark L. Lester   \n\n                actor1          actor2           actor3       date  \n0            Tom Hanks       Tim Allen      Don Rickles 1995-10-30  \n1       Robin Williams   Jonathan Hyde    Kirsten Dunst 1995-12-15  \n2       Walter Matthau     Jack Lemmon      Ann-Margret 1995-12-22  \n3      Whitney Houston  Angela Bassett   Loretta Devine 1995-12-22  \n4         Steve Martin    Diane Keaton     Martin Short 1995-02-10  \n...                ...             ...              ...        ...  \n45438       Monty Bane     Lucy Butler    David Grammer 2015-04-02  \n45439       Lisa Boyle       Kena Land    Zaneta Polard 1944-06-01  \n45440   Patrick Bergin     Uma Thurman  David Morrissey 2007-01-08  \n45441     Angel Aquino     Perry Dizon    Hazel Orencio 2002-03-07  \n45442    Erika Eleniak    Adam Baldwin    Julie du Page 1905-01-01  \n\n[39201 rows x 7 columns]",
      "text/html": "<div>\n<style scoped>\n    .dataframe tbody tr th:only-of-type {\n        vertical-align: middle;\n    }\n\n    .dataframe tbody tr th {\n        vertical-align: top;\n    }\n\n    .dataframe thead th {\n        text-align: right;\n    }\n</style>\n<table border=\"1\" class=\"dataframe\">\n  <thead>\n    <tr style=\"text-align: right;\">\n      <th></th>\n      <th>title</th>\n      <th>genre</th>\n      <th>director</th>\n      <th>actor1</th>\n      <th>actor2</th>\n      <th>actor3</th>\n      <th>date</th>\n    </tr>\n  </thead>\n  <tbody>\n    <tr>\n      <th>0</th>\n      <td>Toy Story</td>\n      <td>Animation Comedy Family</td>\n      <td>John Lasseter</td>\n      <td>Tom Hanks</td>\n      <td>Tim Allen</td>\n      <td>Don Rickles</td>\n      <td>1995-10-30</td>\n    </tr>\n    <tr>\n      <th>1</th>\n      <td>Jumanji</td>\n      <td>Adventure Fantasy Family</td>\n      <td>Joe Johnston</td>\n      <td>Robin Williams</td>\n      <td>Jonathan Hyde</td>\n      <td>Kirsten Dunst</td>\n      <td>1995-12-15</td>\n    </tr>\n    <tr>\n      <th>2</th>\n      <td>Grumpier Old Men</td>\n      <td>Romance Comedy</td>\n      <td>Howard Deutch</td>\n      <td>Walter Matthau</td>\n      <td>Jack Lemmon</td>\n      <td>Ann-Margret</td>\n      <td>1995-12-22</td>\n    </tr>\n    <tr>\n      <th>3</th>\n      <td>Waiting to Exhale</td>\n      <td>Comedy Drama Romance</td>\n      <td>Forest Whitaker</td>\n      <td>Whitney Houston</td>\n      <td>Angela Bassett</td>\n      <td>Loretta Devine</td>\n      <td>1995-12-22</td>\n    </tr>\n    <tr>\n      <th>4</th>\n      <td>Father of the Bride Part II</td>\n      <td>Comedy</td>\n      <td>Charles Shyer</td>\n      <td>Steve Martin</td>\n      <td>Diane Keaton</td>\n      <td>Martin Short</td>\n      <td>1995-02-10</td>\n    </tr>\n    <tr>\n      <th>...</th>\n      <td>...</td>\n      <td>...</td>\n      <td>...</td>\n      <td>...</td>\n      <td>...</td>\n      <td>...</td>\n      <td>...</td>\n    </tr>\n    <tr>\n      <th>45438</th>\n      <td>The Burkittsville 7</td>\n      <td>Horror</td>\n      <td>Ben Rock</td>\n      <td>Monty Bane</td>\n      <td>Lucy Butler</td>\n      <td>David Grammer</td>\n      <td>2015-04-02</td>\n    </tr>\n    <tr>\n      <th>45439</th>\n      <td>Caged Heat 3000</td>\n      <td>Sci-Fi</td>\n      <td>Aaron Osborne</td>\n      <td>Lisa Boyle</td>\n      <td>Kena Land</td>\n      <td>Zaneta Polard</td>\n      <td>1944-06-01</td>\n    </tr>\n    <tr>\n      <th>45440</th>\n      <td>Robin Hood</td>\n      <td>Drama Action Romance</td>\n      <td>John Irvin</td>\n      <td>Patrick Bergin</td>\n      <td>Uma Thurman</td>\n      <td>David Morrissey</td>\n      <td>2007-01-08</td>\n    </tr>\n    <tr>\n      <th>45441</th>\n      <td>Century of Birthing</td>\n      <td>Drama</td>\n      <td>Lav Diaz</td>\n      <td>Angel Aquino</td>\n      <td>Perry Dizon</td>\n      <td>Hazel Orencio</td>\n      <td>2002-03-07</td>\n    </tr>\n    <tr>\n      <th>45442</th>\n      <td>Betrayal</td>\n      <td>Action Drama Thriller</td>\n      <td>Mark L. Lester</td>\n      <td>Erika Eleniak</td>\n      <td>Adam Baldwin</td>\n      <td>Julie du Page</td>\n      <td>1905-01-01</td>\n    </tr>\n  </tbody>\n</table>\n<p>39201 rows × 7 columns</p>\n</div>"
     },
     "execution_count": 65,
     "metadata": {},
     "output_type": "execute_result"
    }
   ],
   "source": [
    "new_data.drop(columns='year')"
   ],
   "metadata": {
    "collapsed": false
   }
  },
  {
   "cell_type": "code",
   "execution_count": 66,
   "outputs": [
    {
     "name": "stderr",
     "output_type": "stream",
     "text": [
      "C:\\Users\\ETUDIANT\\AppData\\Local\\Temp\\ipykernel_25948\\3602405778.py:1: SettingWithCopyWarning: \n",
      "A value is trying to be set on a copy of a slice from a DataFrame.\n",
      "Try using .loc[row_indexer,col_indexer] = value instead\n",
      "\n",
      "See the caveats in the documentation: https://pandas.pydata.org/pandas-docs/stable/user_guide/indexing.html#returning-a-view-versus-a-copy\n",
      "  new_data['date']=pd.to_datetime(new_data['date'])\n"
     ]
    }
   ],
   "source": [
    "new_data['date']=pd.to_datetime(new_data['date'])"
   ],
   "metadata": {
    "collapsed": false
   }
  },
  {
   "cell_type": "code",
   "execution_count": 67,
   "outputs": [
    {
     "data": {
      "text/plain": "                             title                     genre         director  \\\n0                        Toy Story   Animation Comedy Family    John Lasseter   \n1                          Jumanji  Adventure Fantasy Family     Joe Johnston   \n2                 Grumpier Old Men            Romance Comedy    Howard Deutch   \n3                Waiting to Exhale      Comedy Drama Romance  Forest Whitaker   \n4      Father of the Bride Part II                    Comedy    Charles Shyer   \n...                            ...                       ...              ...   \n45438          The Burkittsville 7                    Horror         Ben Rock   \n45439              Caged Heat 3000                    Sci-Fi    Aaron Osborne   \n45440                   Robin Hood      Drama Action Romance       John Irvin   \n45441          Century of Birthing                     Drama         Lav Diaz   \n45442                     Betrayal     Action Drama Thriller   Mark L. Lester   \n\n                actor1          actor2           actor3  year       date  \n0            Tom Hanks       Tim Allen      Don Rickles  1995 1995-10-30  \n1       Robin Williams   Jonathan Hyde    Kirsten Dunst  1995 1995-12-15  \n2       Walter Matthau     Jack Lemmon      Ann-Margret  1995 1995-12-22  \n3      Whitney Houston  Angela Bassett   Loretta Devine  1995 1995-12-22  \n4         Steve Martin    Diane Keaton     Martin Short  1995 1995-02-10  \n...                ...             ...              ...   ...        ...  \n45438       Monty Bane     Lucy Butler    David Grammer  2000 2015-04-02  \n45439       Lisa Boyle       Kena Land    Zaneta Polard  1995 1944-06-01  \n45440   Patrick Bergin     Uma Thurman  David Morrissey  1991 2007-01-08  \n45441     Angel Aquino     Perry Dizon    Hazel Orencio  2011 2002-03-07  \n45442    Erika Eleniak    Adam Baldwin    Julie du Page  2003 1905-01-01  \n\n[39201 rows x 8 columns]",
      "text/html": "<div>\n<style scoped>\n    .dataframe tbody tr th:only-of-type {\n        vertical-align: middle;\n    }\n\n    .dataframe tbody tr th {\n        vertical-align: top;\n    }\n\n    .dataframe thead th {\n        text-align: right;\n    }\n</style>\n<table border=\"1\" class=\"dataframe\">\n  <thead>\n    <tr style=\"text-align: right;\">\n      <th></th>\n      <th>title</th>\n      <th>genre</th>\n      <th>director</th>\n      <th>actor1</th>\n      <th>actor2</th>\n      <th>actor3</th>\n      <th>year</th>\n      <th>date</th>\n    </tr>\n  </thead>\n  <tbody>\n    <tr>\n      <th>0</th>\n      <td>Toy Story</td>\n      <td>Animation Comedy Family</td>\n      <td>John Lasseter</td>\n      <td>Tom Hanks</td>\n      <td>Tim Allen</td>\n      <td>Don Rickles</td>\n      <td>1995</td>\n      <td>1995-10-30</td>\n    </tr>\n    <tr>\n      <th>1</th>\n      <td>Jumanji</td>\n      <td>Adventure Fantasy Family</td>\n      <td>Joe Johnston</td>\n      <td>Robin Williams</td>\n      <td>Jonathan Hyde</td>\n      <td>Kirsten Dunst</td>\n      <td>1995</td>\n      <td>1995-12-15</td>\n    </tr>\n    <tr>\n      <th>2</th>\n      <td>Grumpier Old Men</td>\n      <td>Romance Comedy</td>\n      <td>Howard Deutch</td>\n      <td>Walter Matthau</td>\n      <td>Jack Lemmon</td>\n      <td>Ann-Margret</td>\n      <td>1995</td>\n      <td>1995-12-22</td>\n    </tr>\n    <tr>\n      <th>3</th>\n      <td>Waiting to Exhale</td>\n      <td>Comedy Drama Romance</td>\n      <td>Forest Whitaker</td>\n      <td>Whitney Houston</td>\n      <td>Angela Bassett</td>\n      <td>Loretta Devine</td>\n      <td>1995</td>\n      <td>1995-12-22</td>\n    </tr>\n    <tr>\n      <th>4</th>\n      <td>Father of the Bride Part II</td>\n      <td>Comedy</td>\n      <td>Charles Shyer</td>\n      <td>Steve Martin</td>\n      <td>Diane Keaton</td>\n      <td>Martin Short</td>\n      <td>1995</td>\n      <td>1995-02-10</td>\n    </tr>\n    <tr>\n      <th>...</th>\n      <td>...</td>\n      <td>...</td>\n      <td>...</td>\n      <td>...</td>\n      <td>...</td>\n      <td>...</td>\n      <td>...</td>\n      <td>...</td>\n    </tr>\n    <tr>\n      <th>45438</th>\n      <td>The Burkittsville 7</td>\n      <td>Horror</td>\n      <td>Ben Rock</td>\n      <td>Monty Bane</td>\n      <td>Lucy Butler</td>\n      <td>David Grammer</td>\n      <td>2000</td>\n      <td>2015-04-02</td>\n    </tr>\n    <tr>\n      <th>45439</th>\n      <td>Caged Heat 3000</td>\n      <td>Sci-Fi</td>\n      <td>Aaron Osborne</td>\n      <td>Lisa Boyle</td>\n      <td>Kena Land</td>\n      <td>Zaneta Polard</td>\n      <td>1995</td>\n      <td>1944-06-01</td>\n    </tr>\n    <tr>\n      <th>45440</th>\n      <td>Robin Hood</td>\n      <td>Drama Action Romance</td>\n      <td>John Irvin</td>\n      <td>Patrick Bergin</td>\n      <td>Uma Thurman</td>\n      <td>David Morrissey</td>\n      <td>1991</td>\n      <td>2007-01-08</td>\n    </tr>\n    <tr>\n      <th>45441</th>\n      <td>Century of Birthing</td>\n      <td>Drama</td>\n      <td>Lav Diaz</td>\n      <td>Angel Aquino</td>\n      <td>Perry Dizon</td>\n      <td>Hazel Orencio</td>\n      <td>2011</td>\n      <td>2002-03-07</td>\n    </tr>\n    <tr>\n      <th>45442</th>\n      <td>Betrayal</td>\n      <td>Action Drama Thriller</td>\n      <td>Mark L. Lester</td>\n      <td>Erika Eleniak</td>\n      <td>Adam Baldwin</td>\n      <td>Julie du Page</td>\n      <td>2003</td>\n      <td>1905-01-01</td>\n    </tr>\n  </tbody>\n</table>\n<p>39201 rows × 8 columns</p>\n</div>"
     },
     "execution_count": 67,
     "metadata": {},
     "output_type": "execute_result"
    }
   ],
   "source": [
    "new_data"
   ],
   "metadata": {
    "collapsed": false
   }
  },
  {
   "cell_type": "code",
   "execution_count": null,
   "outputs": [],
   "source": [],
   "metadata": {
    "collapsed": false
   }
  }
 ],
 "metadata": {
  "kernelspec": {
   "display_name": "Python 3",
   "language": "python",
   "name": "python3"
  },
  "language_info": {
   "codemirror_mode": {
    "name": "ipython",
    "version": 2
   },
   "file_extension": ".py",
   "mimetype": "text/x-python",
   "name": "python",
   "nbconvert_exporter": "python",
   "pygments_lexer": "ipython2",
   "version": "2.7.6"
  }
 },
 "nbformat": 4,
 "nbformat_minor": 0
}
