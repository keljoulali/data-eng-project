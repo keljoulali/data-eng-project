{
 "cells": [
  {
   "cell_type": "code",
   "execution_count": null,
   "metadata": {
    "collapsed": true
   },
   "outputs": [],
   "source": []
  },
  {
   "cell_type": "code",
   "execution_count": 5,
   "outputs": [
    {
     "name": "stderr",
     "output_type": "stream",
     "text": [
      "C:\\Users\\ETUDIANT\\AppData\\Local\\Temp\\ipykernel_6212\\2487549375.py:52: UserWarning: Parsing dates in DD/MM/YYYY format when dayfirst=False (the default) was specified. This may lead to inconsistently parsed dates! Specify a format to ensure consistent parsing.\n",
      "  new_data_2021['date']=pd.to_datetime(new_data_2021['date'])\n"
     ]
    }
   ],
   "source": [
    "import pandas as pd\n",
    "import numpy as np\n",
    "movie_data_2021 = pd.read_csv('airflow/data/movie2021.csv')\n",
    "movie_data_2021['Ref.'] = movie_data_2021['Ref.'].fillna(movie_data_2021.pop('.mw-parser-output .tooltip-dotted{border-bottom:1px dotted;cursor:help}Ref.'))\n",
    "\n",
    "def get_directors(x):\n",
    "    if \" (director)\" in x:\n",
    "        return x.split(\" (director)\")[0]\n",
    "    elif \" (directors)\" in x:\n",
    "        return x.split(\" (directors)\")[0]\n",
    "    elif \" (directors)\" in x:\n",
    "        return x.split(\" director/screenwriter)\")[0]\n",
    "    else:\n",
    "        return x.split(\" (director/screenplay)\")[0]\n",
    "\n",
    "movie_data_2021['director'] = movie_data_2021['Cast and crew'].map(lambda x: get_directors(str(x)))\n",
    "\n",
    "def get_actor1(x):\n",
    "    return ((x.split(\"screenplay); \")[-1]).split(\", \")[0])\n",
    "\n",
    "movie_data_2021['actor1'] = movie_data_2021['Cast and crew'].map(lambda x: get_actor1(str(x)))\n",
    "def get_actor2(x):\n",
    "    if len((x.split(\"screenplay); \")[-1]).split(\", \")) < 2:\n",
    "        return np.NaN\n",
    "    else:\n",
    "        return ((x.split(\"screenplay); \")[-1]).split(\", \")[1])\n",
    "movie_data_2021['actor2'] = movie_data_2021['Cast and crew'].map(lambda x: get_actor2(str(x)))\n",
    "\n",
    "def get_actor3(x):\n",
    "    if len((x.split(\"screenplay); \")[-1]).split(\", \")) < 3:\n",
    "        return np.NaN\n",
    "    else:\n",
    "        return ((x.split(\"screenplay); \")[-1]).split(\", \")[2])\n",
    "movie_data_2021['actor3'] = movie_data_2021['Cast and crew'].map(lambda x: get_actor3(str(x)))\n",
    "\n",
    "movie_data_2021 = movie_data_2021.rename(columns={'Title':'title'})\n",
    "movie_data_2021['year']='2021'\n",
    "new_data_2021 = movie_data_2021.loc[:,['title','director','actor1','actor2','actor3','year']]\n",
    "d={'JANUARY':'01','FEBRUARY':'02','MARCH':'03','APRIL':'04','MAY':'05','JUNE':'06','JULY':'07','AUGUST':'08','SEPTEMBER':'09','OCTOBER':'10','NOVEMBER':'11','DECEMBER':'12'}\n",
    "new_data_2021['month']=movie_data_2021['Opening']\n",
    "new_data_2021['day']=movie_data_2021['Opening.1']\n",
    "new_data_2021['month']=new_data_2021['month'].map(d)\n",
    "\n",
    "new_data_2021.dropna(inplace=True)\n",
    "new_data_2021['day']=new_data_2021['day'].astype(int)\n",
    "\n",
    "new_data_2021['year'] = new_data_2021['year'].astype(str)\n",
    "new_data_2021['month'] = new_data_2021['month'].astype(str)\n",
    "new_data_2021['day'] = new_data_2021['day'].astype(str)\n",
    "\n",
    "new_data_2021['date']=new_data_2021['day']+'/'+new_data_2021['month']+'/'+new_data_2021['year']\n",
    "new_data_2021['date']=pd.to_datetime(new_data_2021['date'])\n",
    "\n",
    "new_data_2021.drop(columns={'year','day','month'})\n",
    "new_data_2021=new_data_2021.drop_duplicates(subset=['title'])"
   ],
   "metadata": {
    "collapsed": false
   }
  },
  {
   "cell_type": "code",
   "execution_count": 6,
   "outputs": [
    {
     "data": {
      "text/plain": "                      title  \\\n0       Shadow in the Cloud   \n1           The White Tiger   \n2               Locked Down   \n3                   The Dig   \n4          Outside the Wire   \n..                      ...   \n355          The King's Man   \n356  The Tragedy of Macbeth   \n357    A Journal for Jordan   \n358       American Underdog   \n359                 Memoria   \n\n                                              director  \\\n0                                       Roseanne Liang   \n1                                        Ramin Bahrani   \n2                                           Doug Liman   \n3                                          Simon Stone   \n4                                      Mikael Håfström   \n..                                                 ...   \n355                                     Matthew Vaughn   \n356                                          Joel Coen   \n357                                  Denzel Washington   \n358                                     Erwin brothers   \n359  Apichatpong Weerasethakul (director/acreenplay...   \n\n                                                actor1             actor2  \\\n0                                   Chloë Grace Moretz  Taylor John Smith   \n1                                        Adarsh Gourav      Rajkummar Rao   \n2                                        Anne Hathaway   Chiwetel Ejiofor   \n3                                       Carey Mulligan      Ralph Fiennes   \n4                                       Anthony Mackie       Damson Idris   \n..                                                 ...                ...   \n355                                      Ralph Fiennes     Gemma Arterton   \n356                                  Denzel Washington  Frances McDormand   \n357                                  Michael B. Jordan       Chanté Adams   \n358                                       Zachary Levi        Anna Paquin   \n359  Apichatpong Weerasethakul (director/acreenplay...         Elkin Díaz   \n\n                    actor3  year month day       date  \n0             Beulah Koale  2021    01   1 2021-01-01  \n1    Priyanka Chopra Jonas  2021    01  13 2021-01-13  \n2         Stephen Merchant  2021    01  14 2021-01-14  \n3               Lily James  2021    01  15 2021-01-15  \n4            Emily Beecham  2021    01  15 2021-01-15  \n..                     ...   ...   ...  ..        ...  \n355             Rhys Ifans  2021    12  22 2021-12-22  \n356          Bertie Carvel  2021    12  25 2021-12-25  \n357        Jalon Christian  2021    12  25 2021-12-25  \n358           Dennis Quaid  2021    12  25 2021-12-25  \n359         Jeanne Balibar  2021    12  26 2021-12-26  \n\n[334 rows x 9 columns]",
      "text/html": "<div>\n<style scoped>\n    .dataframe tbody tr th:only-of-type {\n        vertical-align: middle;\n    }\n\n    .dataframe tbody tr th {\n        vertical-align: top;\n    }\n\n    .dataframe thead th {\n        text-align: right;\n    }\n</style>\n<table border=\"1\" class=\"dataframe\">\n  <thead>\n    <tr style=\"text-align: right;\">\n      <th></th>\n      <th>title</th>\n      <th>director</th>\n      <th>actor1</th>\n      <th>actor2</th>\n      <th>actor3</th>\n      <th>year</th>\n      <th>month</th>\n      <th>day</th>\n      <th>date</th>\n    </tr>\n  </thead>\n  <tbody>\n    <tr>\n      <th>0</th>\n      <td>Shadow in the Cloud</td>\n      <td>Roseanne Liang</td>\n      <td>Chloë Grace Moretz</td>\n      <td>Taylor John Smith</td>\n      <td>Beulah Koale</td>\n      <td>2021</td>\n      <td>01</td>\n      <td>1</td>\n      <td>2021-01-01</td>\n    </tr>\n    <tr>\n      <th>1</th>\n      <td>The White Tiger</td>\n      <td>Ramin Bahrani</td>\n      <td>Adarsh Gourav</td>\n      <td>Rajkummar Rao</td>\n      <td>Priyanka Chopra Jonas</td>\n      <td>2021</td>\n      <td>01</td>\n      <td>13</td>\n      <td>2021-01-13</td>\n    </tr>\n    <tr>\n      <th>2</th>\n      <td>Locked Down</td>\n      <td>Doug Liman</td>\n      <td>Anne Hathaway</td>\n      <td>Chiwetel Ejiofor</td>\n      <td>Stephen Merchant</td>\n      <td>2021</td>\n      <td>01</td>\n      <td>14</td>\n      <td>2021-01-14</td>\n    </tr>\n    <tr>\n      <th>3</th>\n      <td>The Dig</td>\n      <td>Simon Stone</td>\n      <td>Carey Mulligan</td>\n      <td>Ralph Fiennes</td>\n      <td>Lily James</td>\n      <td>2021</td>\n      <td>01</td>\n      <td>15</td>\n      <td>2021-01-15</td>\n    </tr>\n    <tr>\n      <th>4</th>\n      <td>Outside the Wire</td>\n      <td>Mikael Håfström</td>\n      <td>Anthony Mackie</td>\n      <td>Damson Idris</td>\n      <td>Emily Beecham</td>\n      <td>2021</td>\n      <td>01</td>\n      <td>15</td>\n      <td>2021-01-15</td>\n    </tr>\n    <tr>\n      <th>...</th>\n      <td>...</td>\n      <td>...</td>\n      <td>...</td>\n      <td>...</td>\n      <td>...</td>\n      <td>...</td>\n      <td>...</td>\n      <td>...</td>\n      <td>...</td>\n    </tr>\n    <tr>\n      <th>355</th>\n      <td>The King's Man</td>\n      <td>Matthew Vaughn</td>\n      <td>Ralph Fiennes</td>\n      <td>Gemma Arterton</td>\n      <td>Rhys Ifans</td>\n      <td>2021</td>\n      <td>12</td>\n      <td>22</td>\n      <td>2021-12-22</td>\n    </tr>\n    <tr>\n      <th>356</th>\n      <td>The Tragedy of Macbeth</td>\n      <td>Joel Coen</td>\n      <td>Denzel Washington</td>\n      <td>Frances McDormand</td>\n      <td>Bertie Carvel</td>\n      <td>2021</td>\n      <td>12</td>\n      <td>25</td>\n      <td>2021-12-25</td>\n    </tr>\n    <tr>\n      <th>357</th>\n      <td>A Journal for Jordan</td>\n      <td>Denzel Washington</td>\n      <td>Michael B. Jordan</td>\n      <td>Chanté Adams</td>\n      <td>Jalon Christian</td>\n      <td>2021</td>\n      <td>12</td>\n      <td>25</td>\n      <td>2021-12-25</td>\n    </tr>\n    <tr>\n      <th>358</th>\n      <td>American Underdog</td>\n      <td>Erwin brothers</td>\n      <td>Zachary Levi</td>\n      <td>Anna Paquin</td>\n      <td>Dennis Quaid</td>\n      <td>2021</td>\n      <td>12</td>\n      <td>25</td>\n      <td>2021-12-25</td>\n    </tr>\n    <tr>\n      <th>359</th>\n      <td>Memoria</td>\n      <td>Apichatpong Weerasethakul (director/acreenplay...</td>\n      <td>Apichatpong Weerasethakul (director/acreenplay...</td>\n      <td>Elkin Díaz</td>\n      <td>Jeanne Balibar</td>\n      <td>2021</td>\n      <td>12</td>\n      <td>26</td>\n      <td>2021-12-26</td>\n    </tr>\n  </tbody>\n</table>\n<p>334 rows × 9 columns</p>\n</div>"
     },
     "execution_count": 6,
     "metadata": {},
     "output_type": "execute_result"
    }
   ],
   "source": [
    "new_data_2021"
   ],
   "metadata": {
    "collapsed": false
   }
  },
  {
   "cell_type": "code",
   "execution_count": 7,
   "outputs": [],
   "source": [
    "def get_actor1(x):\n",
    "    return ((x.split(\"screenplay); \")[-1]).split(\", \")[0])\n",
    "\n",
    "movie_data_2021['actor1'] = movie_data_2021['Cast and crew'].map(lambda x: get_actor1(str(x)))"
   ],
   "metadata": {
    "collapsed": false
   }
  },
  {
   "cell_type": "code",
   "execution_count": 8,
   "outputs": [
    {
     "data": {
      "text/plain": "0                                     Chloë Grace Moretz\n1                                          Adarsh Gourav\n2                                          Anne Hathaway\n3                                         Carey Mulligan\n4                                         Anthony Mackie\n                             ...                        \n356                                    Denzel Washington\n357                                    Michael B. Jordan\n358                                         Zachary Levi\n359    Apichatpong Weerasethakul (director/acreenplay...\n360                                                  nan\nName: actor1, Length: 361, dtype: object"
     },
     "execution_count": 8,
     "metadata": {},
     "output_type": "execute_result"
    }
   ],
   "source": [
    "movie_data_2021['actor1']"
   ],
   "metadata": {
    "collapsed": false
   }
  },
  {
   "cell_type": "code",
   "execution_count": 9,
   "outputs": [],
   "source": [
    "import pandas as pd\n",
    "import numpy as np\n",
    "movie_data_2021 = pd.read_csv('airflow/data/movie2021.csv')\n",
    "movie_data_2021['Ref.'] = movie_data_2021['Ref.'].fillna(movie_data_2021.pop('.mw-parser-output .tooltip-dotted{border-bottom:1px dotted;cursor:help}Ref.'))\n"
   ],
   "metadata": {
    "collapsed": false
   }
  },
  {
   "cell_type": "code",
   "execution_count": 10,
   "outputs": [
    {
     "data": {
      "text/plain": "      Opening  Opening.1                   Title  \\\n0     JANUARY        1.0     Shadow in the Cloud   \n1     JANUARY       13.0         The White Tiger   \n2     JANUARY       14.0             Locked Down   \n3     JANUARY       15.0                 The Dig   \n4     JANUARY       15.0        Outside the Wire   \n..        ...        ...                     ...   \n356  DECEMBER       25.0  The Tragedy of Macbeth   \n357  DECEMBER       25.0    A Journal for Jordan   \n358  DECEMBER       25.0       American Underdog   \n359  DECEMBER       26.0                 Memoria   \n360  DECEMBER        NaN                     NaN   \n\n                                    Production company  \\\n0                               Vertical Entertainment   \n1                                              Netflix   \n2                      HBO Max / Warner Bros. Pictures   \n3                          Netflix / Clerkenwell Films   \n4                                              Netflix   \n..                                                 ...   \n356                        Apple TV+ / A24 / IAC Films   \n357  Columbia Pictures / Escape Artists / Bron Studios   \n358                                          Lionsgate   \n359                                               Neon   \n360                                                NaN   \n\n                                         Cast and crew   Ref.  \n0    Roseanne Liang (director/screenplay); Max Land...    [2]  \n1    Ramin Bahrani (director/screenplay); Adarsh Go...    NaN  \n2    Doug Liman (director); Steven Knight (screenpl...    [3]  \n3    Simon Stone (director); Moira Buffini (screenp...    [4]  \n4    Mikael Håfström (director); Rob Yescombe, Rowa...    [5]  \n..                                                 ...    ...  \n356  Joel Coen (director/screenplay); Denzel Washin...  [273]  \n357  Denzel Washington (director); Virgil Williams ...  [274]  \n358  Erwin brothers (directors); Jon Erwin, David A...  [275]  \n359  Apichatpong Weerasethakul (director/acreenplay...  [276]  \n360                                                NaN    NaN  \n\n[361 rows x 6 columns]",
      "text/html": "<div>\n<style scoped>\n    .dataframe tbody tr th:only-of-type {\n        vertical-align: middle;\n    }\n\n    .dataframe tbody tr th {\n        vertical-align: top;\n    }\n\n    .dataframe thead th {\n        text-align: right;\n    }\n</style>\n<table border=\"1\" class=\"dataframe\">\n  <thead>\n    <tr style=\"text-align: right;\">\n      <th></th>\n      <th>Opening</th>\n      <th>Opening.1</th>\n      <th>Title</th>\n      <th>Production company</th>\n      <th>Cast and crew</th>\n      <th>Ref.</th>\n    </tr>\n  </thead>\n  <tbody>\n    <tr>\n      <th>0</th>\n      <td>JANUARY</td>\n      <td>1.0</td>\n      <td>Shadow in the Cloud</td>\n      <td>Vertical Entertainment</td>\n      <td>Roseanne Liang (director/screenplay); Max Land...</td>\n      <td>[2]</td>\n    </tr>\n    <tr>\n      <th>1</th>\n      <td>JANUARY</td>\n      <td>13.0</td>\n      <td>The White Tiger</td>\n      <td>Netflix</td>\n      <td>Ramin Bahrani (director/screenplay); Adarsh Go...</td>\n      <td>NaN</td>\n    </tr>\n    <tr>\n      <th>2</th>\n      <td>JANUARY</td>\n      <td>14.0</td>\n      <td>Locked Down</td>\n      <td>HBO Max / Warner Bros. Pictures</td>\n      <td>Doug Liman (director); Steven Knight (screenpl...</td>\n      <td>[3]</td>\n    </tr>\n    <tr>\n      <th>3</th>\n      <td>JANUARY</td>\n      <td>15.0</td>\n      <td>The Dig</td>\n      <td>Netflix / Clerkenwell Films</td>\n      <td>Simon Stone (director); Moira Buffini (screenp...</td>\n      <td>[4]</td>\n    </tr>\n    <tr>\n      <th>4</th>\n      <td>JANUARY</td>\n      <td>15.0</td>\n      <td>Outside the Wire</td>\n      <td>Netflix</td>\n      <td>Mikael Håfström (director); Rob Yescombe, Rowa...</td>\n      <td>[5]</td>\n    </tr>\n    <tr>\n      <th>...</th>\n      <td>...</td>\n      <td>...</td>\n      <td>...</td>\n      <td>...</td>\n      <td>...</td>\n      <td>...</td>\n    </tr>\n    <tr>\n      <th>356</th>\n      <td>DECEMBER</td>\n      <td>25.0</td>\n      <td>The Tragedy of Macbeth</td>\n      <td>Apple TV+ / A24 / IAC Films</td>\n      <td>Joel Coen (director/screenplay); Denzel Washin...</td>\n      <td>[273]</td>\n    </tr>\n    <tr>\n      <th>357</th>\n      <td>DECEMBER</td>\n      <td>25.0</td>\n      <td>A Journal for Jordan</td>\n      <td>Columbia Pictures / Escape Artists / Bron Studios</td>\n      <td>Denzel Washington (director); Virgil Williams ...</td>\n      <td>[274]</td>\n    </tr>\n    <tr>\n      <th>358</th>\n      <td>DECEMBER</td>\n      <td>25.0</td>\n      <td>American Underdog</td>\n      <td>Lionsgate</td>\n      <td>Erwin brothers (directors); Jon Erwin, David A...</td>\n      <td>[275]</td>\n    </tr>\n    <tr>\n      <th>359</th>\n      <td>DECEMBER</td>\n      <td>26.0</td>\n      <td>Memoria</td>\n      <td>Neon</td>\n      <td>Apichatpong Weerasethakul (director/acreenplay...</td>\n      <td>[276]</td>\n    </tr>\n    <tr>\n      <th>360</th>\n      <td>DECEMBER</td>\n      <td>NaN</td>\n      <td>NaN</td>\n      <td>NaN</td>\n      <td>NaN</td>\n      <td>NaN</td>\n    </tr>\n  </tbody>\n</table>\n<p>361 rows × 6 columns</p>\n</div>"
     },
     "execution_count": 10,
     "metadata": {},
     "output_type": "execute_result"
    }
   ],
   "source": [
    "movie_data_2021"
   ],
   "metadata": {
    "collapsed": false
   }
  },
  {
   "cell_type": "code",
   "execution_count": 14,
   "outputs": [
    {
     "name": "stderr",
     "output_type": "stream",
     "text": [
      "C:\\Users\\ETUDIANT\\AppData\\Local\\Temp\\ipykernel_6212\\2630758145.py:6: DtypeWarning: Columns (5) have mixed types. Specify dtype option on import or set low_memory=False.\n",
      "  data=pd.read_csv('airflow/data/Kaggle IMDB Data/ImdbTitleBasics.csv')\n"
     ]
    }
   ],
   "source": [
    "import os\n",
    "import numpy as np\n",
    "os.environ['KAGGLE_USERNAME'] = \"khaliloooojo\" # username from the json file\n",
    "os.environ['KAGGLE_KEY'] = \"975fa88d4d3412eee830648e10973255\" # key from the json file\n",
    "os.system('kaggle datasets download -d komalkhetlani/imdb-dataset -p /opt/airflow/data --unzip')\n",
    "data=pd.read_csv('airflow/data/Kaggle IMDB Data/ImdbTitleBasics.csv')\n",
    "data_ratings=pd.read_csv('airflow/data/Kaggle IMDB Data/ImdbTitleRatings.csv')\n",
    "data_ratings=data_ratings.rename(columns={'averageRating':'vote_average','numVotes':'vote_count'})\n",
    "\n",
    "data[\"startYear\"] = data[\"startYear\"].replace(\"\\\\N\", np.nan)\n",
    "data = data.dropna(subset=[\"startYear\"])\n",
    "data[\"startYear\"] = data[\"startYear\"].astype(int)\n",
    "data_2018 = data.loc[data.startYear >= 2018,['tconst','primaryTitle','genres']]\n",
    "data_2018 = data_2018.replace(\"\\\\N\", np.nan)\n",
    "data_2018 = data_2018.dropna()\n",
    "data_2018 = data_2018.drop_duplicates(subset=[\"primaryTitle\"])\n",
    "data_2018 = data_2018.rename(columns={'primaryTitle':'title','genres':'genre'})\n",
    "data_2018['genre'] = data_2018['genre'].str.replace(',', ' ')\n",
    "new_data=pd.merge(data_2018,data_ratings,on='tconst')"
   ],
   "metadata": {
    "collapsed": false
   }
  },
  {
   "cell_type": "code",
   "execution_count": 15,
   "outputs": [
    {
     "ename": "SyntaxError",
     "evalue": "unexpected EOF while parsing (792205766.py, line 26)",
     "output_type": "error",
     "traceback": [
      "\u001B[1;36m  Cell \u001B[1;32mIn [15], line 26\u001B[1;36m\u001B[0m\n\u001B[1;33m    enrich_wiki_node = PythonOperator(\u001B[0m\n\u001B[1;37m                                      ^\u001B[0m\n\u001B[1;31mSyntaxError\u001B[0m\u001B[1;31m:\u001B[0m unexpected EOF while parsing\n"
     ]
    }
   ],
   "source": [
    "    import os\n",
    "import numpy as np\n",
    "os.environ['KAGGLE_USERNAME'] = \"khaliloooojo\" # username from the json file\n",
    "os.environ['KAGGLE_KEY'] = \"975fa88d4d3412eee830648e10973255\" # key from the json file\n",
    "os.system('kaggle datasets download -d komalkhetlani/imdb-dataset -p /opt/airflow/data --unzip')\n",
    "data=pd.read_csv('/opt/airflow/data/Kaggle IMDB Data/ImdbTitleBasics.csv')\n",
    "data_ratings=pd.read_csv('/opt/airflow/data/Kaggle IMDB Data/ImdbTitleRatings.csv')\n",
    "data_ratings=data_ratings.rename(columns={'averageRating':'vote_average','numVotes':'vote_count'})\n",
    "\n",
    "data[\"startYear\"] = data[\"startYear\"].replace(\"\\\\N\", np.nan)\n",
    "data = data.dropna(subset=[\"startYear\"])\n",
    "data[\"startYear\"] = data[\"startYear\"].astype(int)\n",
    "data_2018 = data.loc[data.startYear >= 2018,['tconst','primaryTitle','genres']]\n",
    "data_2018 = data_2018.replace(\"\\\\N\", np.nan)\n",
    "data_2018 = data_2018.dropna()\n",
    "data_2018 = data_2018.drop_duplicates(subset=[\"primaryTitle\"])\n",
    "data_2018 = data_2018.rename(columns={'primaryTitle':'title','genres':'genre'})\n",
    "data_2018['genre'] = data_2018['genre'].str.replace(',', ' ')\n",
    "new_data=pd.merge(data_2018,data_ratings,on='tconst')\n",
    "new_data.to_csv('/opt/airflow/data/enriched_data_wiki.csv', encoding='utf-8',index=False)\n",
    "new_data['title'] = new_data['title'].str.lower()\n",
    "data_wiki=pd.read_csv('/opt/airflow/data/Kaggle IMDB Data/new_data_wiki.csv')\n",
    "data_wiki['title'] = data_wiki['title'].str.lower()\n",
    "dataf = pd.merge(new_data,data_wiki,on='title')\n",
    "dataf.to_csv('/opt/airflow/data/dataf.csv')\n",
    "enrich_wiki_node = PythonOperator("
   ],
   "metadata": {
    "collapsed": false
   }
  },
  {
   "cell_type": "code",
   "execution_count": 16,
   "outputs": [
    {
     "ename": "SyntaxError",
     "evalue": "unexpected EOF while parsing (2521415286.py, line 26)",
     "output_type": "error",
     "traceback": [
      "\u001B[1;36m  Cell \u001B[1;32mIn [16], line 26\u001B[1;36m\u001B[0m\n\u001B[1;33m    enrich_wiki_node = PythonOperator(\u001B[0m\n\u001B[1;37m                                      ^\u001B[0m\n\u001B[1;31mSyntaxError\u001B[0m\u001B[1;31m:\u001B[0m unexpected EOF while parsing\n"
     ]
    }
   ],
   "source": [
    "import os\n",
    "import numpy as np\n",
    "os.environ['KAGGLE_USERNAME'] = \"khaliloooojo\" # username from the json file\n",
    "os.environ['KAGGLE_KEY'] = \"975fa88d4d3412eee830648e10973255\" # key from the json file\n",
    "os.system('kaggle datasets download -d komalkhetlani/imdb-dataset -p /opt/airflow/data --unzip')\n",
    "data=pd.read_csv('/opt/airflow/data/Kaggle IMDB Data/ImdbTitleBasics.csv')\n",
    "data_ratings=pd.read_csv('/opt/airflow/data/Kaggle IMDB Data/ImdbTitleRatings.csv')\n",
    "data_ratings=data_ratings.rename(columns={'averageRating':'vote_average','numVotes':'vote_count'})\n",
    "\n",
    "data[\"startYear\"] = data[\"startYear\"].replace(\"\\\\N\", np.nan)\n",
    "data = data.dropna(subset=[\"startYear\"])\n",
    "data[\"startYear\"] = data[\"startYear\"].astype(int)\n",
    "data_2018 = data.loc[data.startYear >= 2018,['tconst','primaryTitle','genres']]\n",
    "data_2018 = data_2018.replace(\"\\\\N\", np.nan)\n",
    "data_2018 = data_2018.dropna()\n",
    "data_2018 = data_2018.drop_duplicates(subset=[\"primaryTitle\"])\n",
    "data_2018 = data_2018.rename(columns={'primaryTitle':'title','genres':'genre'})\n",
    "data_2018['genre'] = data_2018['genre'].str.replace(',', ' ')\n",
    "new_data=pd.merge(data_2018,data_ratings,on='tconst')\n",
    "new_data.to_csv('/opt/airflow/data/enriched_data_wiki.csv', encoding='utf-8',index=False)\n",
    "new_data['title'] = new_data['title'].str.lower()\n",
    "data_wiki=pd.read_csv('/opt/airflow/data/Kaggle IMDB Data/new_data_wiki.csv')\n",
    "data_wiki['title'] = data_wiki['title'].str.lower()\n",
    "dataf = pd.merge(new_data,data_wiki,on='title')\n",
    "dataf.to_csv('/opt/airflow/data/dataf.csv')\n",
    "enrich_wiki_node = PythonOperator("
   ],
   "metadata": {
    "collapsed": false
   }
  },
  {
   "cell_type": "code",
   "execution_count": 27,
   "outputs": [
    {
     "name": "stderr",
     "output_type": "stream",
     "text": [
      "C:\\Users\\ETUDIANT\\AppData\\Local\\Temp\\ipykernel_6212\\3096905377.py:6: DtypeWarning: Columns (5) have mixed types. Specify dtype option on import or set low_memory=False.\n",
      "  data=pd.read_csv('airflow/data/Kaggle IMDB Data/ImdbTitleBasics.csv')\n"
     ]
    }
   ],
   "source": [
    "import os\n",
    "import numpy as np\n",
    "os.environ['KAGGLE_USERNAME'] = \"khaliloooojo\" # username from the json file\n",
    "os.environ['KAGGLE_KEY'] = \"975fa88d4d3412eee830648e10973255\" # key from the json file\n",
    "os.system('kaggle datasets download -d komalkhetlani/imdb-dataset -p airflow/data --unzip')\n",
    "data=pd.read_csv('airflow/data/Kaggle IMDB Data/ImdbTitleBasics.csv')\n",
    "data_ratings=pd.read_csv('airflow/data/Kaggle IMDB Data/ImdbTitleRatings.csv')\n",
    "data_ratings=data_ratings.rename(columns={'averageRating':'vote_average','numVotes':'vote_count'})\n",
    "\n"
   ],
   "metadata": {
    "collapsed": false
   }
  },
  {
   "cell_type": "code",
   "execution_count": 29,
   "outputs": [],
   "source": [
    "data[\"startYear\"] = data[\"startYear\"].replace(\"\\\\N\", np.nan)\n",
    "data = data.dropna(subset=[\"startYear\"])\n",
    "data[\"startYear\"] = data[\"startYear\"].astype(int)\n",
    "data_2018 = data.loc[data.startYear >= 2018,['tconst','primaryTitle','genres']]\n",
    "data_2018 = data_2018.replace(\"\\\\N\", np.nan)\n",
    "data_2018 = data_2018.dropna()\n",
    "data_2018 = data_2018.drop_duplicates(subset=[\"primaryTitle\"])\n",
    "data_2018 = data_2018.rename(columns={'primaryTitle':'title','genres':'genre'})\n",
    "data_2018['genre'] = data_2018['genre'].str.replace(',', ' ')\n",
    "new_data=pd.merge(data_2018,data_ratings,on='tconst')\n",
    "new_data['title'] = new_data['title'].str.lower()\n",
    "data_wiki=pd.read_csv('airflow/data/new_data_wiki.csv')\n",
    "data_wiki['title'] = data_wiki['title'].str.lower()\n",
    "dataf = pd.merge(new_data,data_wiki,on='title')\n",
    "dataf.to_csv('airflow/data/enriched_data_wiki.csv', encoding='utf-8',index=False)"
   ],
   "metadata": {
    "collapsed": false
   }
  },
  {
   "cell_type": "code",
   "execution_count": 2,
   "outputs": [],
   "source": [
    "import pandas as pd\n"
   ],
   "metadata": {
    "collapsed": false
   }
  },
  {
   "cell_type": "code",
   "execution_count": 24,
   "outputs": [],
   "source": [
    "df = pd.read_csv('airflow/data/final_data.csv')"
   ],
   "metadata": {
    "collapsed": false
   }
  },
  {
   "cell_type": "code",
   "execution_count": 25,
   "outputs": [],
   "source": [
    "df['release_date']=pd.to_datetime(df['release_date'])"
   ],
   "metadata": {
    "collapsed": false
   }
  },
  {
   "cell_type": "code",
   "execution_count": 26,
   "outputs": [
    {
     "data": {
      "text/plain": "title                   object\ngenre                   object\ndirector                object\nactor1                  object\nactor2                  object\nactor3                  object\nrelease_date    datetime64[ns]\nvote_average           float64\nvote_count             float64\ndtype: object"
     },
     "execution_count": 26,
     "metadata": {},
     "output_type": "execute_result"
    }
   ],
   "source": [
    "df.dtypes"
   ],
   "metadata": {
    "collapsed": false
   }
  },
  {
   "cell_type": "code",
   "execution_count": 27,
   "outputs": [
    {
     "ename": "AttributeError",
     "evalue": "'Series' object has no attribute 'year'",
     "output_type": "error",
     "traceback": [
      "\u001B[1;31m---------------------------------------------------------------------------\u001B[0m",
      "\u001B[1;31mAttributeError\u001B[0m                            Traceback (most recent call last)",
      "Cell \u001B[1;32mIn [27], line 1\u001B[0m\n\u001B[1;32m----> 1\u001B[0m \u001B[43mdf\u001B[49m\u001B[43m[\u001B[49m\u001B[38;5;124;43m'\u001B[39;49m\u001B[38;5;124;43mrelease_date\u001B[39;49m\u001B[38;5;124;43m'\u001B[39;49m\u001B[43m]\u001B[49m\u001B[38;5;241;43m.\u001B[39;49m\u001B[43myear\u001B[49m\n",
      "File \u001B[1;32m~\\AppData\\Local\\Programs\\Python\\Python39\\lib\\site-packages\\pandas\\core\\generic.py:5902\u001B[0m, in \u001B[0;36mNDFrame.__getattr__\u001B[1;34m(self, name)\u001B[0m\n\u001B[0;32m   5895\u001B[0m \u001B[38;5;28;01mif\u001B[39;00m (\n\u001B[0;32m   5896\u001B[0m     name \u001B[38;5;129;01mnot\u001B[39;00m \u001B[38;5;129;01min\u001B[39;00m \u001B[38;5;28mself\u001B[39m\u001B[38;5;241m.\u001B[39m_internal_names_set\n\u001B[0;32m   5897\u001B[0m     \u001B[38;5;129;01mand\u001B[39;00m name \u001B[38;5;129;01mnot\u001B[39;00m \u001B[38;5;129;01min\u001B[39;00m \u001B[38;5;28mself\u001B[39m\u001B[38;5;241m.\u001B[39m_metadata\n\u001B[0;32m   5898\u001B[0m     \u001B[38;5;129;01mand\u001B[39;00m name \u001B[38;5;129;01mnot\u001B[39;00m \u001B[38;5;129;01min\u001B[39;00m \u001B[38;5;28mself\u001B[39m\u001B[38;5;241m.\u001B[39m_accessors\n\u001B[0;32m   5899\u001B[0m     \u001B[38;5;129;01mand\u001B[39;00m \u001B[38;5;28mself\u001B[39m\u001B[38;5;241m.\u001B[39m_info_axis\u001B[38;5;241m.\u001B[39m_can_hold_identifiers_and_holds_name(name)\n\u001B[0;32m   5900\u001B[0m ):\n\u001B[0;32m   5901\u001B[0m     \u001B[38;5;28;01mreturn\u001B[39;00m \u001B[38;5;28mself\u001B[39m[name]\n\u001B[1;32m-> 5902\u001B[0m \u001B[38;5;28;01mreturn\u001B[39;00m \u001B[38;5;28;43mobject\u001B[39;49m\u001B[38;5;241;43m.\u001B[39;49m\u001B[38;5;21;43m__getattribute__\u001B[39;49m\u001B[43m(\u001B[49m\u001B[38;5;28;43mself\u001B[39;49m\u001B[43m,\u001B[49m\u001B[43m \u001B[49m\u001B[43mname\u001B[49m\u001B[43m)\u001B[49m\n",
      "\u001B[1;31mAttributeError\u001B[0m: 'Series' object has no attribute 'year'"
     ]
    }
   ],
   "source": [
    " year = df['release_date'].year"
   ],
   "metadata": {
    "collapsed": false
   }
  },
  {
   "cell_type": "code",
   "execution_count": 14,
   "outputs": [
    {
     "data": {
      "text/plain": "2019"
     },
     "execution_count": 14,
     "metadata": {},
     "output_type": "execute_result"
    }
   ],
   "source": [
    "year[0]"
   ],
   "metadata": {
    "collapsed": false
   }
  },
  {
   "cell_type": "code",
   "execution_count": 28,
   "outputs": [],
   "source": [
    "df_iterable = df.iterrows()"
   ],
   "metadata": {
    "collapsed": false
   }
  },
  {
   "cell_type": "code",
   "execution_count": 29,
   "outputs": [],
   "source": [
    "for index, row in df_iterable:\n",
    "\n",
    "    year = row['release_date'].year\n",
    "    #year = row['release_date'].year\n",
    "    #month = row['release_date'].month\n",
    "    #quarter = row['release_date'].quarter\n"
   ],
   "metadata": {
    "collapsed": false
   }
  },
  {
   "cell_type": "code",
   "execution_count": 31,
   "outputs": [
    {
     "data": {
      "text/plain": "int"
     },
     "execution_count": 31,
     "metadata": {},
     "output_type": "execute_result"
    }
   ],
   "source": [
    "type(year)"
   ],
   "metadata": {
    "collapsed": false
   }
  },
  {
   "cell_type": "code",
   "execution_count": null,
   "outputs": [],
   "source": [
    "    import pandas as pd\n",
    "    with open(\"airflow/data/inserts.sql\", \"w\",encoding='utf-8') as f:\n",
    "    df = pd.read_csv('airflow/data/final_data.csv')\n",
    "    df_iterable = df.iterrows()\n",
    "    f.write(\n",
    "        \"CREATE TABLE IF NOT EXISTS movie_ratings (\\n\"\n",
    "        \"title_movie VARCHAR(255) primary key,\\n\"\n",
    "        \"genre VARCHAR(255)\\n\"\n",
    "        \"rating FLOAT,\\n\"\n",
    "        \"vote_count FLOAT );\\n\"\n",
    "\n",
    "        \"CREATE TABLE IF NOT EXISTS dates (\\n\"\n",
    "        \"date VARCHAR(45) primary key,\\n\"\n",
    "        \"month int(2),\\n\"\n",
    "        \"quarter int(1),\\n\"\n",
    "        \"year int(4));\\n\"\n",
    "\n",
    "        \"CREATE TABLE IF NOT EXISTS cast_and_crew (\\n\"\n",
    "        \"director VARCHAR(255) ,\\n\"\n",
    "        \"actor1 VARCHAR(255) ,\\n\"\n",
    "        \"actor2 VARCHAR(255) ,\\n\"\n",
    "        \"actor3 VARCHAR(255) ,\\n\"\n",
    "        \"PRIMARY KEY (director, actor1));\\n\"\n",
    "\n",
    "        \"CREATE TABLE IF NOT EXISTS fact_movies (\\n\"\n",
    "        \"id_fact_movies integer not null auto_increment primary key,\\n\"\n",
    "        \"title VARCHAR(255) ,\\n\"\n",
    "        \"date VARCHAR(255) ,\\n\"\n",
    "        \"director VARCHAR(255) ,\\n\"\n",
    "        \"actor1 VARCHAR(255) ,\\n\"\n",
    "        \"FOREING KEY (director,actor1) REFERENCES cast_and_crew (director, actor1),\\n\"\n",
    "        \"FOREING KEY (title) REFERENCES movies (title_movie),\\n\"\n",
    "        \"FOREING KEY (date) REFERENCES dates (date));\\n\"\n",
    "\n",
    "    )\n",
    "    for index, row in df_iterable:\n",
    "        title_movie = row['title']\n",
    "        genre = row['genre']\n",
    "        rating = row['vote_average']\n",
    "        vote_count = row['vote_count']\n",
    "\n",
    "        actor2 = row['actor2']\n",
    "        actor3 = row['actor3']\n",
    "\n",
    "        date = row['release_date']\n",
    "        year = row['release_date'].year\n",
    "        month = row['release_date'].month\n",
    "        quarter = row['release_date'].quarter\n",
    "\n",
    "        title= row['title']\n",
    "        director = row['director']\n",
    "        actor1 = row['actor1']\n",
    "\n",
    "\n",
    "        f.write(\n",
    "            \"DELETE FROM movies \\n\"\n",
    "            f\"WHERE title_movie = '{title_movie}' and genre = '{genre}' and rating = '{rating}' and vote_count='{vote_count}';\\n\"\n",
    "\n",
    "            \"DELET FROM cast_and_crew \\n\"\n",
    "            f\"WHERE director = '{director}' and actor1 = '{actor1}' and actor2 = '{actor2}' and actor3='{actor3}';\\n\"\n",
    "\n",
    "            \"DELETE FROM dates \\n\"\n",
    "            f\"WHERE date = '{date}' and year = '{year}' and month = '{month}' and quarter='{quarter}';\\n\"\n",
    "\n",
    "            \"DELETE FROM fact_movies \\n\"\n",
    "            f\"WHERE title = '{title}' and date = '{date}' and director = '{director}' and actor1='{actor1}';\\n\"\n",
    "\n",
    "\n",
    "        )\n",
    "\n",
    "    f.close()\n"
   ],
   "metadata": {
    "collapsed": false
   }
  }
 ],
 "metadata": {
  "kernelspec": {
   "display_name": "Python 3",
   "language": "python",
   "name": "python3"
  },
  "language_info": {
   "codemirror_mode": {
    "name": "ipython",
    "version": 2
   },
   "file_extension": ".py",
   "mimetype": "text/x-python",
   "name": "python",
   "nbconvert_exporter": "python",
   "pygments_lexer": "ipython2",
   "version": "2.7.6"
  }
 },
 "nbformat": 4,
 "nbformat_minor": 0
}
