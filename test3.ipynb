{
 "cells": [
  {
   "cell_type": "code",
   "execution_count": 133,
   "metadata": {
    "collapsed": true
   },
   "outputs": [],
   "source": [
    "import pandas as pd\n",
    "import numpy as np"
   ]
  },
  {
   "cell_type": "code",
   "execution_count": 134,
   "outputs": [],
   "source": [
    "data3 = pd.read_csv('airflow/data/movie2018.csv')"
   ],
   "metadata": {
    "collapsed": false
   }
  },
  {
   "cell_type": "code",
   "execution_count": 135,
   "outputs": [],
   "source": [
    "data3['Ref.'] = data3['Ref.'].fillna(data3.pop('.mw-parser-output .tooltip-dotted{border-bottom:1px dotted;cursor:help}Ref.'))"
   ],
   "metadata": {
    "collapsed": false
   }
  },
  {
   "cell_type": "markdown",
   "source": [],
   "metadata": {
    "collapsed": false
   }
  },
  {
   "cell_type": "code",
   "execution_count": 136,
   "outputs": [
    {
     "data": {
      "text/plain": "      Opening  Opening.1                       Title  \\\n0     JANUARY          5     Insidious: The Last Key   \n1     JANUARY          5            The Strange Ones   \n2     JANUARY          5                    Stratton   \n3     JANUARY         10               Sweet Country   \n4     JANUARY         12                The Commuter   \n..        ...        ...                         ...   \n268  DECEMBER         25             Holmes & Watson   \n269  DECEMBER         25                        Vice   \n270  DECEMBER         25         On the Basis of Sex   \n271  DECEMBER         25                   Destroyer   \n272  DECEMBER         28  Black Mirror: Bandersnatch   \n\n                                    Production company  \\\n0    Universal Pictures / Blumhouse Productions / S...   \n1                               Vertical Entertainment   \n2                                    Momentum Pictures   \n3                                 Samuel Goldwyn Films   \n4        Lionsgate / StudioCanal / The Picture Company   \n..                                                 ...   \n268       Columbia Pictures / Gary Sanchez Productions   \n269          Annapurna Pictures / Plan B Entertainment   \n270                                     Focus Features   \n271                                 Annapurna Pictures   \n272                                            Netflix   \n\n                                         Cast and crew   Ref.  \n0    Adam Robitel (director); Leigh Whannell (scree...    [2]  \n1    Lauren Wolkstein (director); Christopher Radcl...    [3]  \n2    Simon West (director); Duncan Falconer, Warren...    [4]  \n3    Warwick Thornton (director); David Tranter, St...    [5]  \n4    Jaume Collet-Serra (director); Byron Willinger...    [6]  \n..                                                 ...    ...  \n268  Etan Cohen (director/screenplay); Will Ferrell...  [164]  \n269  Adam McKay (director/screenplay); Christian Ba...  [137]  \n270  Mimi Leder (director); Daniel Stiepleman (scre...  [229]  \n271  Karyn Kusama (director); Phil Hay, Matt Manfre...  [261]  \n272  David Slade (director); Charlie Brooker (scree...  [262]  \n\n[273 rows x 6 columns]",
      "text/html": "<div>\n<style scoped>\n    .dataframe tbody tr th:only-of-type {\n        vertical-align: middle;\n    }\n\n    .dataframe tbody tr th {\n        vertical-align: top;\n    }\n\n    .dataframe thead th {\n        text-align: right;\n    }\n</style>\n<table border=\"1\" class=\"dataframe\">\n  <thead>\n    <tr style=\"text-align: right;\">\n      <th></th>\n      <th>Opening</th>\n      <th>Opening.1</th>\n      <th>Title</th>\n      <th>Production company</th>\n      <th>Cast and crew</th>\n      <th>Ref.</th>\n    </tr>\n  </thead>\n  <tbody>\n    <tr>\n      <th>0</th>\n      <td>JANUARY</td>\n      <td>5</td>\n      <td>Insidious: The Last Key</td>\n      <td>Universal Pictures / Blumhouse Productions / S...</td>\n      <td>Adam Robitel (director); Leigh Whannell (scree...</td>\n      <td>[2]</td>\n    </tr>\n    <tr>\n      <th>1</th>\n      <td>JANUARY</td>\n      <td>5</td>\n      <td>The Strange Ones</td>\n      <td>Vertical Entertainment</td>\n      <td>Lauren Wolkstein (director); Christopher Radcl...</td>\n      <td>[3]</td>\n    </tr>\n    <tr>\n      <th>2</th>\n      <td>JANUARY</td>\n      <td>5</td>\n      <td>Stratton</td>\n      <td>Momentum Pictures</td>\n      <td>Simon West (director); Duncan Falconer, Warren...</td>\n      <td>[4]</td>\n    </tr>\n    <tr>\n      <th>3</th>\n      <td>JANUARY</td>\n      <td>10</td>\n      <td>Sweet Country</td>\n      <td>Samuel Goldwyn Films</td>\n      <td>Warwick Thornton (director); David Tranter, St...</td>\n      <td>[5]</td>\n    </tr>\n    <tr>\n      <th>4</th>\n      <td>JANUARY</td>\n      <td>12</td>\n      <td>The Commuter</td>\n      <td>Lionsgate / StudioCanal / The Picture Company</td>\n      <td>Jaume Collet-Serra (director); Byron Willinger...</td>\n      <td>[6]</td>\n    </tr>\n    <tr>\n      <th>...</th>\n      <td>...</td>\n      <td>...</td>\n      <td>...</td>\n      <td>...</td>\n      <td>...</td>\n      <td>...</td>\n    </tr>\n    <tr>\n      <th>268</th>\n      <td>DECEMBER</td>\n      <td>25</td>\n      <td>Holmes &amp; Watson</td>\n      <td>Columbia Pictures / Gary Sanchez Productions</td>\n      <td>Etan Cohen (director/screenplay); Will Ferrell...</td>\n      <td>[164]</td>\n    </tr>\n    <tr>\n      <th>269</th>\n      <td>DECEMBER</td>\n      <td>25</td>\n      <td>Vice</td>\n      <td>Annapurna Pictures / Plan B Entertainment</td>\n      <td>Adam McKay (director/screenplay); Christian Ba...</td>\n      <td>[137]</td>\n    </tr>\n    <tr>\n      <th>270</th>\n      <td>DECEMBER</td>\n      <td>25</td>\n      <td>On the Basis of Sex</td>\n      <td>Focus Features</td>\n      <td>Mimi Leder (director); Daniel Stiepleman (scre...</td>\n      <td>[229]</td>\n    </tr>\n    <tr>\n      <th>271</th>\n      <td>DECEMBER</td>\n      <td>25</td>\n      <td>Destroyer</td>\n      <td>Annapurna Pictures</td>\n      <td>Karyn Kusama (director); Phil Hay, Matt Manfre...</td>\n      <td>[261]</td>\n    </tr>\n    <tr>\n      <th>272</th>\n      <td>DECEMBER</td>\n      <td>28</td>\n      <td>Black Mirror: Bandersnatch</td>\n      <td>Netflix</td>\n      <td>David Slade (director); Charlie Brooker (scree...</td>\n      <td>[262]</td>\n    </tr>\n  </tbody>\n</table>\n<p>273 rows × 6 columns</p>\n</div>"
     },
     "execution_count": 136,
     "metadata": {},
     "output_type": "execute_result"
    }
   ],
   "source": [
    "data3"
   ],
   "metadata": {
    "collapsed": false
   }
  },
  {
   "cell_type": "code",
   "execution_count": 137,
   "outputs": [],
   "source": [
    "def get_directors(x):\n",
    "    if \" (director)\" in x:\n",
    "        return x.split(\" (director)\")[0]\n",
    "    elif \" (directors)\" in x:\n",
    "        return x.split(\" (directors)\")[0]\n",
    "    else:\n",
    "        return x.split(\" (director/screenplay)\")[0]"
   ],
   "metadata": {
    "collapsed": false
   }
  },
  {
   "cell_type": "code",
   "execution_count": 138,
   "outputs": [],
   "source": [
    "data3['director'] = data3['Cast and crew'].map(lambda x: get_directors(x))"
   ],
   "metadata": {
    "collapsed": false
   }
  },
  {
   "cell_type": "code",
   "execution_count": 139,
   "outputs": [],
   "source": [
    "def get_actor1(x):\n",
    "    return ((x.split(\"screenplay); \")[-1]).split(\", \")[0])"
   ],
   "metadata": {
    "collapsed": false
   }
  },
  {
   "cell_type": "code",
   "execution_count": 140,
   "outputs": [],
   "source": [
    "data3['actor1'] = data3['Cast and crew'].map(lambda x: get_actor1(x))"
   ],
   "metadata": {
    "collapsed": false
   }
  },
  {
   "cell_type": "code",
   "execution_count": 141,
   "outputs": [
    {
     "data": {
      "text/plain": "      Opening  Opening.1                       Title  \\\n0     JANUARY          5     Insidious: The Last Key   \n1     JANUARY          5            The Strange Ones   \n2     JANUARY          5                    Stratton   \n3     JANUARY         10               Sweet Country   \n4     JANUARY         12                The Commuter   \n..        ...        ...                         ...   \n268  DECEMBER         25             Holmes & Watson   \n269  DECEMBER         25                        Vice   \n270  DECEMBER         25         On the Basis of Sex   \n271  DECEMBER         25                   Destroyer   \n272  DECEMBER         28  Black Mirror: Bandersnatch   \n\n                                    Production company  \\\n0    Universal Pictures / Blumhouse Productions / S...   \n1                               Vertical Entertainment   \n2                                    Momentum Pictures   \n3                                 Samuel Goldwyn Films   \n4        Lionsgate / StudioCanal / The Picture Company   \n..                                                 ...   \n268       Columbia Pictures / Gary Sanchez Productions   \n269          Annapurna Pictures / Plan B Entertainment   \n270                                     Focus Features   \n271                                 Annapurna Pictures   \n272                                            Netflix   \n\n                                         Cast and crew   Ref.  \\\n0    Adam Robitel (director); Leigh Whannell (scree...    [2]   \n1    Lauren Wolkstein (director); Christopher Radcl...    [3]   \n2    Simon West (director); Duncan Falconer, Warren...    [4]   \n3    Warwick Thornton (director); David Tranter, St...    [5]   \n4    Jaume Collet-Serra (director); Byron Willinger...    [6]   \n..                                                 ...    ...   \n268  Etan Cohen (director/screenplay); Will Ferrell...  [164]   \n269  Adam McKay (director/screenplay); Christian Ba...  [137]   \n270  Mimi Leder (director); Daniel Stiepleman (scre...  [229]   \n271  Karyn Kusama (director); Phil Hay, Matt Manfre...  [261]   \n272  David Slade (director); Charlie Brooker (scree...  [262]   \n\n               director           actor1  \n0          Adam Robitel        Lin Shaye  \n1      Lauren Wolkstein    Alex Pettyfer  \n2            Simon West   Dominic Cooper  \n3      Warwick Thornton      Bryan Brown  \n4    Jaume Collet-Serra      Liam Neeson  \n..                  ...              ...  \n268          Etan Cohen     Will Ferrell  \n269          Adam McKay   Christian Bale  \n270          Mimi Leder   Felicity Jones  \n271        Karyn Kusama    Nicole Kidman  \n272         David Slade  Fionn Whitehead  \n\n[273 rows x 8 columns]",
      "text/html": "<div>\n<style scoped>\n    .dataframe tbody tr th:only-of-type {\n        vertical-align: middle;\n    }\n\n    .dataframe tbody tr th {\n        vertical-align: top;\n    }\n\n    .dataframe thead th {\n        text-align: right;\n    }\n</style>\n<table border=\"1\" class=\"dataframe\">\n  <thead>\n    <tr style=\"text-align: right;\">\n      <th></th>\n      <th>Opening</th>\n      <th>Opening.1</th>\n      <th>Title</th>\n      <th>Production company</th>\n      <th>Cast and crew</th>\n      <th>Ref.</th>\n      <th>director</th>\n      <th>actor1</th>\n    </tr>\n  </thead>\n  <tbody>\n    <tr>\n      <th>0</th>\n      <td>JANUARY</td>\n      <td>5</td>\n      <td>Insidious: The Last Key</td>\n      <td>Universal Pictures / Blumhouse Productions / S...</td>\n      <td>Adam Robitel (director); Leigh Whannell (scree...</td>\n      <td>[2]</td>\n      <td>Adam Robitel</td>\n      <td>Lin Shaye</td>\n    </tr>\n    <tr>\n      <th>1</th>\n      <td>JANUARY</td>\n      <td>5</td>\n      <td>The Strange Ones</td>\n      <td>Vertical Entertainment</td>\n      <td>Lauren Wolkstein (director); Christopher Radcl...</td>\n      <td>[3]</td>\n      <td>Lauren Wolkstein</td>\n      <td>Alex Pettyfer</td>\n    </tr>\n    <tr>\n      <th>2</th>\n      <td>JANUARY</td>\n      <td>5</td>\n      <td>Stratton</td>\n      <td>Momentum Pictures</td>\n      <td>Simon West (director); Duncan Falconer, Warren...</td>\n      <td>[4]</td>\n      <td>Simon West</td>\n      <td>Dominic Cooper</td>\n    </tr>\n    <tr>\n      <th>3</th>\n      <td>JANUARY</td>\n      <td>10</td>\n      <td>Sweet Country</td>\n      <td>Samuel Goldwyn Films</td>\n      <td>Warwick Thornton (director); David Tranter, St...</td>\n      <td>[5]</td>\n      <td>Warwick Thornton</td>\n      <td>Bryan Brown</td>\n    </tr>\n    <tr>\n      <th>4</th>\n      <td>JANUARY</td>\n      <td>12</td>\n      <td>The Commuter</td>\n      <td>Lionsgate / StudioCanal / The Picture Company</td>\n      <td>Jaume Collet-Serra (director); Byron Willinger...</td>\n      <td>[6]</td>\n      <td>Jaume Collet-Serra</td>\n      <td>Liam Neeson</td>\n    </tr>\n    <tr>\n      <th>...</th>\n      <td>...</td>\n      <td>...</td>\n      <td>...</td>\n      <td>...</td>\n      <td>...</td>\n      <td>...</td>\n      <td>...</td>\n      <td>...</td>\n    </tr>\n    <tr>\n      <th>268</th>\n      <td>DECEMBER</td>\n      <td>25</td>\n      <td>Holmes &amp; Watson</td>\n      <td>Columbia Pictures / Gary Sanchez Productions</td>\n      <td>Etan Cohen (director/screenplay); Will Ferrell...</td>\n      <td>[164]</td>\n      <td>Etan Cohen</td>\n      <td>Will Ferrell</td>\n    </tr>\n    <tr>\n      <th>269</th>\n      <td>DECEMBER</td>\n      <td>25</td>\n      <td>Vice</td>\n      <td>Annapurna Pictures / Plan B Entertainment</td>\n      <td>Adam McKay (director/screenplay); Christian Ba...</td>\n      <td>[137]</td>\n      <td>Adam McKay</td>\n      <td>Christian Bale</td>\n    </tr>\n    <tr>\n      <th>270</th>\n      <td>DECEMBER</td>\n      <td>25</td>\n      <td>On the Basis of Sex</td>\n      <td>Focus Features</td>\n      <td>Mimi Leder (director); Daniel Stiepleman (scre...</td>\n      <td>[229]</td>\n      <td>Mimi Leder</td>\n      <td>Felicity Jones</td>\n    </tr>\n    <tr>\n      <th>271</th>\n      <td>DECEMBER</td>\n      <td>25</td>\n      <td>Destroyer</td>\n      <td>Annapurna Pictures</td>\n      <td>Karyn Kusama (director); Phil Hay, Matt Manfre...</td>\n      <td>[261]</td>\n      <td>Karyn Kusama</td>\n      <td>Nicole Kidman</td>\n    </tr>\n    <tr>\n      <th>272</th>\n      <td>DECEMBER</td>\n      <td>28</td>\n      <td>Black Mirror: Bandersnatch</td>\n      <td>Netflix</td>\n      <td>David Slade (director); Charlie Brooker (scree...</td>\n      <td>[262]</td>\n      <td>David Slade</td>\n      <td>Fionn Whitehead</td>\n    </tr>\n  </tbody>\n</table>\n<p>273 rows × 8 columns</p>\n</div>"
     },
     "execution_count": 141,
     "metadata": {},
     "output_type": "execute_result"
    }
   ],
   "source": [
    "data3"
   ],
   "metadata": {
    "collapsed": false
   }
  },
  {
   "cell_type": "code",
   "execution_count": 68,
   "outputs": [
    {
     "ename": "KeyError",
     "evalue": "\"['actor_1_name', 'director_name'] not found in axis\"",
     "output_type": "error",
     "traceback": [
      "\u001B[1;31m---------------------------------------------------------------------------\u001B[0m",
      "\u001B[1;31mKeyError\u001B[0m                                  Traceback (most recent call last)",
      "Cell \u001B[1;32mIn [68], line 1\u001B[0m\n\u001B[1;32m----> 1\u001B[0m \u001B[43mdata3\u001B[49m\u001B[38;5;241;43m.\u001B[39;49m\u001B[43mdrop\u001B[49m\u001B[43m(\u001B[49m\u001B[43mcolumns\u001B[49m\u001B[38;5;241;43m=\u001B[39;49m\u001B[43m{\u001B[49m\u001B[38;5;124;43m'\u001B[39;49m\u001B[38;5;124;43mdirector_name\u001B[39;49m\u001B[38;5;124;43m'\u001B[39;49m\u001B[43m,\u001B[49m\u001B[38;5;124;43m'\u001B[39;49m\u001B[38;5;124;43mactor_1_name\u001B[39;49m\u001B[38;5;124;43m'\u001B[39;49m\u001B[43m}\u001B[49m\u001B[43m)\u001B[49m\n",
      "File \u001B[1;32m~\\AppData\\Local\\Programs\\Python\\Python39\\lib\\site-packages\\pandas\\util\\_decorators.py:331\u001B[0m, in \u001B[0;36mdeprecate_nonkeyword_arguments.<locals>.decorate.<locals>.wrapper\u001B[1;34m(*args, **kwargs)\u001B[0m\n\u001B[0;32m    325\u001B[0m \u001B[38;5;28;01mif\u001B[39;00m \u001B[38;5;28mlen\u001B[39m(args) \u001B[38;5;241m>\u001B[39m num_allow_args:\n\u001B[0;32m    326\u001B[0m     warnings\u001B[38;5;241m.\u001B[39mwarn(\n\u001B[0;32m    327\u001B[0m         msg\u001B[38;5;241m.\u001B[39mformat(arguments\u001B[38;5;241m=\u001B[39m_format_argument_list(allow_args)),\n\u001B[0;32m    328\u001B[0m         \u001B[38;5;167;01mFutureWarning\u001B[39;00m,\n\u001B[0;32m    329\u001B[0m         stacklevel\u001B[38;5;241m=\u001B[39mfind_stack_level(),\n\u001B[0;32m    330\u001B[0m     )\n\u001B[1;32m--> 331\u001B[0m \u001B[38;5;28;01mreturn\u001B[39;00m func(\u001B[38;5;241m*\u001B[39margs, \u001B[38;5;241m*\u001B[39m\u001B[38;5;241m*\u001B[39mkwargs)\n",
      "File \u001B[1;32m~\\AppData\\Local\\Programs\\Python\\Python39\\lib\\site-packages\\pandas\\core\\frame.py:5388\u001B[0m, in \u001B[0;36mDataFrame.drop\u001B[1;34m(self, labels, axis, index, columns, level, inplace, errors)\u001B[0m\n\u001B[0;32m   5240\u001B[0m \u001B[38;5;129m@deprecate_nonkeyword_arguments\u001B[39m(version\u001B[38;5;241m=\u001B[39m\u001B[38;5;28;01mNone\u001B[39;00m, allowed_args\u001B[38;5;241m=\u001B[39m[\u001B[38;5;124m\"\u001B[39m\u001B[38;5;124mself\u001B[39m\u001B[38;5;124m\"\u001B[39m, \u001B[38;5;124m\"\u001B[39m\u001B[38;5;124mlabels\u001B[39m\u001B[38;5;124m\"\u001B[39m])\n\u001B[0;32m   5241\u001B[0m \u001B[38;5;28;01mdef\u001B[39;00m \u001B[38;5;21mdrop\u001B[39m(  \u001B[38;5;66;03m# type: ignore[override]\u001B[39;00m\n\u001B[0;32m   5242\u001B[0m     \u001B[38;5;28mself\u001B[39m,\n\u001B[1;32m   (...)\u001B[0m\n\u001B[0;32m   5249\u001B[0m     errors: IgnoreRaise \u001B[38;5;241m=\u001B[39m \u001B[38;5;124m\"\u001B[39m\u001B[38;5;124mraise\u001B[39m\u001B[38;5;124m\"\u001B[39m,\n\u001B[0;32m   5250\u001B[0m ) \u001B[38;5;241m-\u001B[39m\u001B[38;5;241m>\u001B[39m DataFrame \u001B[38;5;241m|\u001B[39m \u001B[38;5;28;01mNone\u001B[39;00m:\n\u001B[0;32m   5251\u001B[0m     \u001B[38;5;124;03m\"\"\"\u001B[39;00m\n\u001B[0;32m   5252\u001B[0m \u001B[38;5;124;03m    Drop specified labels from rows or columns.\u001B[39;00m\n\u001B[0;32m   5253\u001B[0m \n\u001B[1;32m   (...)\u001B[0m\n\u001B[0;32m   5386\u001B[0m \u001B[38;5;124;03m            weight  1.0     0.8\u001B[39;00m\n\u001B[0;32m   5387\u001B[0m \u001B[38;5;124;03m    \"\"\"\u001B[39;00m\n\u001B[1;32m-> 5388\u001B[0m     \u001B[38;5;28;01mreturn\u001B[39;00m \u001B[38;5;28;43msuper\u001B[39;49m\u001B[43m(\u001B[49m\u001B[43m)\u001B[49m\u001B[38;5;241;43m.\u001B[39;49m\u001B[43mdrop\u001B[49m\u001B[43m(\u001B[49m\n\u001B[0;32m   5389\u001B[0m \u001B[43m        \u001B[49m\u001B[43mlabels\u001B[49m\u001B[38;5;241;43m=\u001B[39;49m\u001B[43mlabels\u001B[49m\u001B[43m,\u001B[49m\n\u001B[0;32m   5390\u001B[0m \u001B[43m        \u001B[49m\u001B[43maxis\u001B[49m\u001B[38;5;241;43m=\u001B[39;49m\u001B[43maxis\u001B[49m\u001B[43m,\u001B[49m\n\u001B[0;32m   5391\u001B[0m \u001B[43m        \u001B[49m\u001B[43mindex\u001B[49m\u001B[38;5;241;43m=\u001B[39;49m\u001B[43mindex\u001B[49m\u001B[43m,\u001B[49m\n\u001B[0;32m   5392\u001B[0m \u001B[43m        \u001B[49m\u001B[43mcolumns\u001B[49m\u001B[38;5;241;43m=\u001B[39;49m\u001B[43mcolumns\u001B[49m\u001B[43m,\u001B[49m\n\u001B[0;32m   5393\u001B[0m \u001B[43m        \u001B[49m\u001B[43mlevel\u001B[49m\u001B[38;5;241;43m=\u001B[39;49m\u001B[43mlevel\u001B[49m\u001B[43m,\u001B[49m\n\u001B[0;32m   5394\u001B[0m \u001B[43m        \u001B[49m\u001B[43minplace\u001B[49m\u001B[38;5;241;43m=\u001B[39;49m\u001B[43minplace\u001B[49m\u001B[43m,\u001B[49m\n\u001B[0;32m   5395\u001B[0m \u001B[43m        \u001B[49m\u001B[43merrors\u001B[49m\u001B[38;5;241;43m=\u001B[39;49m\u001B[43merrors\u001B[49m\u001B[43m,\u001B[49m\n\u001B[0;32m   5396\u001B[0m \u001B[43m    \u001B[49m\u001B[43m)\u001B[49m\n",
      "File \u001B[1;32m~\\AppData\\Local\\Programs\\Python\\Python39\\lib\\site-packages\\pandas\\util\\_decorators.py:331\u001B[0m, in \u001B[0;36mdeprecate_nonkeyword_arguments.<locals>.decorate.<locals>.wrapper\u001B[1;34m(*args, **kwargs)\u001B[0m\n\u001B[0;32m    325\u001B[0m \u001B[38;5;28;01mif\u001B[39;00m \u001B[38;5;28mlen\u001B[39m(args) \u001B[38;5;241m>\u001B[39m num_allow_args:\n\u001B[0;32m    326\u001B[0m     warnings\u001B[38;5;241m.\u001B[39mwarn(\n\u001B[0;32m    327\u001B[0m         msg\u001B[38;5;241m.\u001B[39mformat(arguments\u001B[38;5;241m=\u001B[39m_format_argument_list(allow_args)),\n\u001B[0;32m    328\u001B[0m         \u001B[38;5;167;01mFutureWarning\u001B[39;00m,\n\u001B[0;32m    329\u001B[0m         stacklevel\u001B[38;5;241m=\u001B[39mfind_stack_level(),\n\u001B[0;32m    330\u001B[0m     )\n\u001B[1;32m--> 331\u001B[0m \u001B[38;5;28;01mreturn\u001B[39;00m func(\u001B[38;5;241m*\u001B[39margs, \u001B[38;5;241m*\u001B[39m\u001B[38;5;241m*\u001B[39mkwargs)\n",
      "File \u001B[1;32m~\\AppData\\Local\\Programs\\Python\\Python39\\lib\\site-packages\\pandas\\core\\generic.py:4505\u001B[0m, in \u001B[0;36mNDFrame.drop\u001B[1;34m(self, labels, axis, index, columns, level, inplace, errors)\u001B[0m\n\u001B[0;32m   4503\u001B[0m \u001B[38;5;28;01mfor\u001B[39;00m axis, labels \u001B[38;5;129;01min\u001B[39;00m axes\u001B[38;5;241m.\u001B[39mitems():\n\u001B[0;32m   4504\u001B[0m     \u001B[38;5;28;01mif\u001B[39;00m labels \u001B[38;5;129;01mis\u001B[39;00m \u001B[38;5;129;01mnot\u001B[39;00m \u001B[38;5;28;01mNone\u001B[39;00m:\n\u001B[1;32m-> 4505\u001B[0m         obj \u001B[38;5;241m=\u001B[39m \u001B[43mobj\u001B[49m\u001B[38;5;241;43m.\u001B[39;49m\u001B[43m_drop_axis\u001B[49m\u001B[43m(\u001B[49m\u001B[43mlabels\u001B[49m\u001B[43m,\u001B[49m\u001B[43m \u001B[49m\u001B[43maxis\u001B[49m\u001B[43m,\u001B[49m\u001B[43m \u001B[49m\u001B[43mlevel\u001B[49m\u001B[38;5;241;43m=\u001B[39;49m\u001B[43mlevel\u001B[49m\u001B[43m,\u001B[49m\u001B[43m \u001B[49m\u001B[43merrors\u001B[49m\u001B[38;5;241;43m=\u001B[39;49m\u001B[43merrors\u001B[49m\u001B[43m)\u001B[49m\n\u001B[0;32m   4507\u001B[0m \u001B[38;5;28;01mif\u001B[39;00m inplace:\n\u001B[0;32m   4508\u001B[0m     \u001B[38;5;28mself\u001B[39m\u001B[38;5;241m.\u001B[39m_update_inplace(obj)\n",
      "File \u001B[1;32m~\\AppData\\Local\\Programs\\Python\\Python39\\lib\\site-packages\\pandas\\core\\generic.py:4546\u001B[0m, in \u001B[0;36mNDFrame._drop_axis\u001B[1;34m(self, labels, axis, level, errors, only_slice)\u001B[0m\n\u001B[0;32m   4544\u001B[0m         new_axis \u001B[38;5;241m=\u001B[39m axis\u001B[38;5;241m.\u001B[39mdrop(labels, level\u001B[38;5;241m=\u001B[39mlevel, errors\u001B[38;5;241m=\u001B[39merrors)\n\u001B[0;32m   4545\u001B[0m     \u001B[38;5;28;01melse\u001B[39;00m:\n\u001B[1;32m-> 4546\u001B[0m         new_axis \u001B[38;5;241m=\u001B[39m \u001B[43maxis\u001B[49m\u001B[38;5;241;43m.\u001B[39;49m\u001B[43mdrop\u001B[49m\u001B[43m(\u001B[49m\u001B[43mlabels\u001B[49m\u001B[43m,\u001B[49m\u001B[43m \u001B[49m\u001B[43merrors\u001B[49m\u001B[38;5;241;43m=\u001B[39;49m\u001B[43merrors\u001B[49m\u001B[43m)\u001B[49m\n\u001B[0;32m   4547\u001B[0m     indexer \u001B[38;5;241m=\u001B[39m axis\u001B[38;5;241m.\u001B[39mget_indexer(new_axis)\n\u001B[0;32m   4549\u001B[0m \u001B[38;5;66;03m# Case for non-unique axis\u001B[39;00m\n\u001B[0;32m   4550\u001B[0m \u001B[38;5;28;01melse\u001B[39;00m:\n",
      "File \u001B[1;32m~\\AppData\\Local\\Programs\\Python\\Python39\\lib\\site-packages\\pandas\\core\\indexes\\base.py:6975\u001B[0m, in \u001B[0;36mIndex.drop\u001B[1;34m(self, labels, errors)\u001B[0m\n\u001B[0;32m   6973\u001B[0m \u001B[38;5;28;01mif\u001B[39;00m mask\u001B[38;5;241m.\u001B[39many():\n\u001B[0;32m   6974\u001B[0m     \u001B[38;5;28;01mif\u001B[39;00m errors \u001B[38;5;241m!=\u001B[39m \u001B[38;5;124m\"\u001B[39m\u001B[38;5;124mignore\u001B[39m\u001B[38;5;124m\"\u001B[39m:\n\u001B[1;32m-> 6975\u001B[0m         \u001B[38;5;28;01mraise\u001B[39;00m \u001B[38;5;167;01mKeyError\u001B[39;00m(\u001B[38;5;124mf\u001B[39m\u001B[38;5;124m\"\u001B[39m\u001B[38;5;132;01m{\u001B[39;00m\u001B[38;5;28mlist\u001B[39m(labels[mask])\u001B[38;5;132;01m}\u001B[39;00m\u001B[38;5;124m not found in axis\u001B[39m\u001B[38;5;124m\"\u001B[39m)\n\u001B[0;32m   6976\u001B[0m     indexer \u001B[38;5;241m=\u001B[39m indexer[\u001B[38;5;241m~\u001B[39mmask]\n\u001B[0;32m   6977\u001B[0m \u001B[38;5;28;01mreturn\u001B[39;00m \u001B[38;5;28mself\u001B[39m\u001B[38;5;241m.\u001B[39mdelete(indexer)\n",
      "\u001B[1;31mKeyError\u001B[0m: \"['actor_1_name', 'director_name'] not found in axis\""
     ]
    }
   ],
   "source": [
    "data3.drop(columns={'director_name','actor_1_name'})"
   ],
   "metadata": {
    "collapsed": false
   }
  },
  {
   "cell_type": "code",
   "execution_count": 142,
   "outputs": [],
   "source": [
    "def get_actor2(x):\n",
    "    if len((x.split(\"screenplay); \")[-1]).split(\", \")) < 2:\n",
    "        return np.NaN\n",
    "    else:\n",
    "        return ((x.split(\"screenplay); \")[-1]).split(\", \")[1])"
   ],
   "metadata": {
    "collapsed": false
   }
  },
  {
   "cell_type": "code",
   "execution_count": 143,
   "outputs": [],
   "source": [
    "data3['actor2'] = data3['Cast and crew'].map(lambda x: get_actor2(x))"
   ],
   "metadata": {
    "collapsed": false
   }
  },
  {
   "cell_type": "code",
   "execution_count": 144,
   "outputs": [
    {
     "data": {
      "text/plain": "      Opening  Opening.1                       Title  \\\n0     JANUARY          5     Insidious: The Last Key   \n1     JANUARY          5            The Strange Ones   \n2     JANUARY          5                    Stratton   \n3     JANUARY         10               Sweet Country   \n4     JANUARY         12                The Commuter   \n..        ...        ...                         ...   \n268  DECEMBER         25             Holmes & Watson   \n269  DECEMBER         25                        Vice   \n270  DECEMBER         25         On the Basis of Sex   \n271  DECEMBER         25                   Destroyer   \n272  DECEMBER         28  Black Mirror: Bandersnatch   \n\n                                    Production company  \\\n0    Universal Pictures / Blumhouse Productions / S...   \n1                               Vertical Entertainment   \n2                                    Momentum Pictures   \n3                                 Samuel Goldwyn Films   \n4        Lionsgate / StudioCanal / The Picture Company   \n..                                                 ...   \n268       Columbia Pictures / Gary Sanchez Productions   \n269          Annapurna Pictures / Plan B Entertainment   \n270                                     Focus Features   \n271                                 Annapurna Pictures   \n272                                            Netflix   \n\n                                         Cast and crew   Ref.  \\\n0    Adam Robitel (director); Leigh Whannell (scree...    [2]   \n1    Lauren Wolkstein (director); Christopher Radcl...    [3]   \n2    Simon West (director); Duncan Falconer, Warren...    [4]   \n3    Warwick Thornton (director); David Tranter, St...    [5]   \n4    Jaume Collet-Serra (director); Byron Willinger...    [6]   \n..                                                 ...    ...   \n268  Etan Cohen (director/screenplay); Will Ferrell...  [164]   \n269  Adam McKay (director/screenplay); Christian Ba...  [137]   \n270  Mimi Leder (director); Daniel Stiepleman (scre...  [229]   \n271  Karyn Kusama (director); Phil Hay, Matt Manfre...  [261]   \n272  David Slade (director); Charlie Brooker (scree...  [262]   \n\n               director           actor1                  actor2  \n0          Adam Robitel        Lin Shaye           Angus Sampson  \n1      Lauren Wolkstein    Alex Pettyfer  James Freedson-Jackson  \n2            Simon West   Dominic Cooper          Austin Stowell  \n3      Warwick Thornton      Bryan Brown               Sam Neill  \n4    Jaume Collet-Serra      Liam Neeson            Vera Farmiga  \n..                  ...              ...                     ...  \n268          Etan Cohen     Will Ferrell          John C. Reilly  \n269          Adam McKay   Christian Bale               Amy Adams  \n270          Mimi Leder   Felicity Jones            Armie Hammer  \n271        Karyn Kusama    Nicole Kidman          Sebastian Stan  \n272         David Slade  Fionn Whitehead            Will Poulter  \n\n[273 rows x 9 columns]",
      "text/html": "<div>\n<style scoped>\n    .dataframe tbody tr th:only-of-type {\n        vertical-align: middle;\n    }\n\n    .dataframe tbody tr th {\n        vertical-align: top;\n    }\n\n    .dataframe thead th {\n        text-align: right;\n    }\n</style>\n<table border=\"1\" class=\"dataframe\">\n  <thead>\n    <tr style=\"text-align: right;\">\n      <th></th>\n      <th>Opening</th>\n      <th>Opening.1</th>\n      <th>Title</th>\n      <th>Production company</th>\n      <th>Cast and crew</th>\n      <th>Ref.</th>\n      <th>director</th>\n      <th>actor1</th>\n      <th>actor2</th>\n    </tr>\n  </thead>\n  <tbody>\n    <tr>\n      <th>0</th>\n      <td>JANUARY</td>\n      <td>5</td>\n      <td>Insidious: The Last Key</td>\n      <td>Universal Pictures / Blumhouse Productions / S...</td>\n      <td>Adam Robitel (director); Leigh Whannell (scree...</td>\n      <td>[2]</td>\n      <td>Adam Robitel</td>\n      <td>Lin Shaye</td>\n      <td>Angus Sampson</td>\n    </tr>\n    <tr>\n      <th>1</th>\n      <td>JANUARY</td>\n      <td>5</td>\n      <td>The Strange Ones</td>\n      <td>Vertical Entertainment</td>\n      <td>Lauren Wolkstein (director); Christopher Radcl...</td>\n      <td>[3]</td>\n      <td>Lauren Wolkstein</td>\n      <td>Alex Pettyfer</td>\n      <td>James Freedson-Jackson</td>\n    </tr>\n    <tr>\n      <th>2</th>\n      <td>JANUARY</td>\n      <td>5</td>\n      <td>Stratton</td>\n      <td>Momentum Pictures</td>\n      <td>Simon West (director); Duncan Falconer, Warren...</td>\n      <td>[4]</td>\n      <td>Simon West</td>\n      <td>Dominic Cooper</td>\n      <td>Austin Stowell</td>\n    </tr>\n    <tr>\n      <th>3</th>\n      <td>JANUARY</td>\n      <td>10</td>\n      <td>Sweet Country</td>\n      <td>Samuel Goldwyn Films</td>\n      <td>Warwick Thornton (director); David Tranter, St...</td>\n      <td>[5]</td>\n      <td>Warwick Thornton</td>\n      <td>Bryan Brown</td>\n      <td>Sam Neill</td>\n    </tr>\n    <tr>\n      <th>4</th>\n      <td>JANUARY</td>\n      <td>12</td>\n      <td>The Commuter</td>\n      <td>Lionsgate / StudioCanal / The Picture Company</td>\n      <td>Jaume Collet-Serra (director); Byron Willinger...</td>\n      <td>[6]</td>\n      <td>Jaume Collet-Serra</td>\n      <td>Liam Neeson</td>\n      <td>Vera Farmiga</td>\n    </tr>\n    <tr>\n      <th>...</th>\n      <td>...</td>\n      <td>...</td>\n      <td>...</td>\n      <td>...</td>\n      <td>...</td>\n      <td>...</td>\n      <td>...</td>\n      <td>...</td>\n      <td>...</td>\n    </tr>\n    <tr>\n      <th>268</th>\n      <td>DECEMBER</td>\n      <td>25</td>\n      <td>Holmes &amp; Watson</td>\n      <td>Columbia Pictures / Gary Sanchez Productions</td>\n      <td>Etan Cohen (director/screenplay); Will Ferrell...</td>\n      <td>[164]</td>\n      <td>Etan Cohen</td>\n      <td>Will Ferrell</td>\n      <td>John C. Reilly</td>\n    </tr>\n    <tr>\n      <th>269</th>\n      <td>DECEMBER</td>\n      <td>25</td>\n      <td>Vice</td>\n      <td>Annapurna Pictures / Plan B Entertainment</td>\n      <td>Adam McKay (director/screenplay); Christian Ba...</td>\n      <td>[137]</td>\n      <td>Adam McKay</td>\n      <td>Christian Bale</td>\n      <td>Amy Adams</td>\n    </tr>\n    <tr>\n      <th>270</th>\n      <td>DECEMBER</td>\n      <td>25</td>\n      <td>On the Basis of Sex</td>\n      <td>Focus Features</td>\n      <td>Mimi Leder (director); Daniel Stiepleman (scre...</td>\n      <td>[229]</td>\n      <td>Mimi Leder</td>\n      <td>Felicity Jones</td>\n      <td>Armie Hammer</td>\n    </tr>\n    <tr>\n      <th>271</th>\n      <td>DECEMBER</td>\n      <td>25</td>\n      <td>Destroyer</td>\n      <td>Annapurna Pictures</td>\n      <td>Karyn Kusama (director); Phil Hay, Matt Manfre...</td>\n      <td>[261]</td>\n      <td>Karyn Kusama</td>\n      <td>Nicole Kidman</td>\n      <td>Sebastian Stan</td>\n    </tr>\n    <tr>\n      <th>272</th>\n      <td>DECEMBER</td>\n      <td>28</td>\n      <td>Black Mirror: Bandersnatch</td>\n      <td>Netflix</td>\n      <td>David Slade (director); Charlie Brooker (scree...</td>\n      <td>[262]</td>\n      <td>David Slade</td>\n      <td>Fionn Whitehead</td>\n      <td>Will Poulter</td>\n    </tr>\n  </tbody>\n</table>\n<p>273 rows × 9 columns</p>\n</div>"
     },
     "execution_count": 144,
     "metadata": {},
     "output_type": "execute_result"
    }
   ],
   "source": [
    "data3"
   ],
   "metadata": {
    "collapsed": false
   }
  },
  {
   "cell_type": "code",
   "execution_count": 145,
   "outputs": [],
   "source": [
    "def get_actor3(x):\n",
    "    if len((x.split(\"screenplay); \")[-1]).split(\", \")) < 3:\n",
    "        return np.NaN\n",
    "    else:\n",
    "        return ((x.split(\"screenplay); \")[-1]).split(\", \")[2])"
   ],
   "metadata": {
    "collapsed": false
   }
  },
  {
   "cell_type": "code",
   "execution_count": 146,
   "outputs": [],
   "source": [
    "data3['actor3'] = data3['Cast and crew'].map(lambda x: get_actor2(x))"
   ],
   "metadata": {
    "collapsed": false
   }
  },
  {
   "cell_type": "code",
   "execution_count": 147,
   "outputs": [],
   "source": [
    "data3 = data3.rename(columns={'Title':'title'})"
   ],
   "metadata": {
    "collapsed": false
   }
  },
  {
   "cell_type": "code",
   "execution_count": 75,
   "outputs": [
    {
     "data": {
      "text/plain": "      Opening  Opening.1                       title  \\\n0     JANUARY          5     Insidious: The Last Key   \n1     JANUARY          5            The Strange Ones   \n2     JANUARY          5                    Stratton   \n3     JANUARY         10               Sweet Country   \n4     JANUARY         12                The Commuter   \n..        ...        ...                         ...   \n268  DECEMBER         25             Holmes & Watson   \n269  DECEMBER         25                        Vice   \n270  DECEMBER         25         On the Basis of Sex   \n271  DECEMBER         25                   Destroyer   \n272  DECEMBER         28  Black Mirror: Bandersnatch   \n\n                                    Production company  \\\n0    Universal Pictures / Blumhouse Productions / S...   \n1                               Vertical Entertainment   \n2                                    Momentum Pictures   \n3                                 Samuel Goldwyn Films   \n4        Lionsgate / StudioCanal / The Picture Company   \n..                                                 ...   \n268       Columbia Pictures / Gary Sanchez Productions   \n269          Annapurna Pictures / Plan B Entertainment   \n270                                     Focus Features   \n271                                 Annapurna Pictures   \n272                                            Netflix   \n\n                                         Cast and crew   Ref.  \\\n0    Adam Robitel (director); Leigh Whannell (scree...    [2]   \n1    Lauren Wolkstein (director); Christopher Radcl...    [3]   \n2    Simon West (director); Duncan Falconer, Warren...    [4]   \n3    Warwick Thornton (director); David Tranter, St...    [5]   \n4    Jaume Collet-Serra (director); Byron Willinger...    [6]   \n..                                                 ...    ...   \n268  Etan Cohen (director/screenplay); Will Ferrell...  [164]   \n269  Adam McKay (director/screenplay); Christian Ba...  [137]   \n270  Mimi Leder (director); Daniel Stiepleman (scre...  [229]   \n271  Karyn Kusama (director); Phil Hay, Matt Manfre...  [261]   \n272  David Slade (director); Charlie Brooker (scree...  [262]   \n\n               director           actor1                  actor2  \\\n0          Adam Robitel        Lin Shaye           Angus Sampson   \n1      Lauren Wolkstein    Alex Pettyfer  James Freedson-Jackson   \n2            Simon West   Dominic Cooper          Austin Stowell   \n3      Warwick Thornton      Bryan Brown               Sam Neill   \n4    Jaume Collet-Serra      Liam Neeson            Vera Farmiga   \n..                  ...              ...                     ...   \n268          Etan Cohen     Will Ferrell          John C. Reilly   \n269          Adam McKay   Christian Bale               Amy Adams   \n270          Mimi Leder   Felicity Jones            Armie Hammer   \n271        Karyn Kusama    Nicole Kidman          Sebastian Stan   \n272         David Slade  Fionn Whitehead            Will Poulter   \n\n                     actor3  \n0             Angus Sampson  \n1    James Freedson-Jackson  \n2            Austin Stowell  \n3                 Sam Neill  \n4              Vera Farmiga  \n..                      ...  \n268          John C. Reilly  \n269               Amy Adams  \n270            Armie Hammer  \n271          Sebastian Stan  \n272            Will Poulter  \n\n[273 rows x 10 columns]",
      "text/html": "<div>\n<style scoped>\n    .dataframe tbody tr th:only-of-type {\n        vertical-align: middle;\n    }\n\n    .dataframe tbody tr th {\n        vertical-align: top;\n    }\n\n    .dataframe thead th {\n        text-align: right;\n    }\n</style>\n<table border=\"1\" class=\"dataframe\">\n  <thead>\n    <tr style=\"text-align: right;\">\n      <th></th>\n      <th>Opening</th>\n      <th>Opening.1</th>\n      <th>title</th>\n      <th>Production company</th>\n      <th>Cast and crew</th>\n      <th>Ref.</th>\n      <th>director</th>\n      <th>actor1</th>\n      <th>actor2</th>\n      <th>actor3</th>\n    </tr>\n  </thead>\n  <tbody>\n    <tr>\n      <th>0</th>\n      <td>JANUARY</td>\n      <td>5</td>\n      <td>Insidious: The Last Key</td>\n      <td>Universal Pictures / Blumhouse Productions / S...</td>\n      <td>Adam Robitel (director); Leigh Whannell (scree...</td>\n      <td>[2]</td>\n      <td>Adam Robitel</td>\n      <td>Lin Shaye</td>\n      <td>Angus Sampson</td>\n      <td>Angus Sampson</td>\n    </tr>\n    <tr>\n      <th>1</th>\n      <td>JANUARY</td>\n      <td>5</td>\n      <td>The Strange Ones</td>\n      <td>Vertical Entertainment</td>\n      <td>Lauren Wolkstein (director); Christopher Radcl...</td>\n      <td>[3]</td>\n      <td>Lauren Wolkstein</td>\n      <td>Alex Pettyfer</td>\n      <td>James Freedson-Jackson</td>\n      <td>James Freedson-Jackson</td>\n    </tr>\n    <tr>\n      <th>2</th>\n      <td>JANUARY</td>\n      <td>5</td>\n      <td>Stratton</td>\n      <td>Momentum Pictures</td>\n      <td>Simon West (director); Duncan Falconer, Warren...</td>\n      <td>[4]</td>\n      <td>Simon West</td>\n      <td>Dominic Cooper</td>\n      <td>Austin Stowell</td>\n      <td>Austin Stowell</td>\n    </tr>\n    <tr>\n      <th>3</th>\n      <td>JANUARY</td>\n      <td>10</td>\n      <td>Sweet Country</td>\n      <td>Samuel Goldwyn Films</td>\n      <td>Warwick Thornton (director); David Tranter, St...</td>\n      <td>[5]</td>\n      <td>Warwick Thornton</td>\n      <td>Bryan Brown</td>\n      <td>Sam Neill</td>\n      <td>Sam Neill</td>\n    </tr>\n    <tr>\n      <th>4</th>\n      <td>JANUARY</td>\n      <td>12</td>\n      <td>The Commuter</td>\n      <td>Lionsgate / StudioCanal / The Picture Company</td>\n      <td>Jaume Collet-Serra (director); Byron Willinger...</td>\n      <td>[6]</td>\n      <td>Jaume Collet-Serra</td>\n      <td>Liam Neeson</td>\n      <td>Vera Farmiga</td>\n      <td>Vera Farmiga</td>\n    </tr>\n    <tr>\n      <th>...</th>\n      <td>...</td>\n      <td>...</td>\n      <td>...</td>\n      <td>...</td>\n      <td>...</td>\n      <td>...</td>\n      <td>...</td>\n      <td>...</td>\n      <td>...</td>\n      <td>...</td>\n    </tr>\n    <tr>\n      <th>268</th>\n      <td>DECEMBER</td>\n      <td>25</td>\n      <td>Holmes &amp; Watson</td>\n      <td>Columbia Pictures / Gary Sanchez Productions</td>\n      <td>Etan Cohen (director/screenplay); Will Ferrell...</td>\n      <td>[164]</td>\n      <td>Etan Cohen</td>\n      <td>Will Ferrell</td>\n      <td>John C. Reilly</td>\n      <td>John C. Reilly</td>\n    </tr>\n    <tr>\n      <th>269</th>\n      <td>DECEMBER</td>\n      <td>25</td>\n      <td>Vice</td>\n      <td>Annapurna Pictures / Plan B Entertainment</td>\n      <td>Adam McKay (director/screenplay); Christian Ba...</td>\n      <td>[137]</td>\n      <td>Adam McKay</td>\n      <td>Christian Bale</td>\n      <td>Amy Adams</td>\n      <td>Amy Adams</td>\n    </tr>\n    <tr>\n      <th>270</th>\n      <td>DECEMBER</td>\n      <td>25</td>\n      <td>On the Basis of Sex</td>\n      <td>Focus Features</td>\n      <td>Mimi Leder (director); Daniel Stiepleman (scre...</td>\n      <td>[229]</td>\n      <td>Mimi Leder</td>\n      <td>Felicity Jones</td>\n      <td>Armie Hammer</td>\n      <td>Armie Hammer</td>\n    </tr>\n    <tr>\n      <th>271</th>\n      <td>DECEMBER</td>\n      <td>25</td>\n      <td>Destroyer</td>\n      <td>Annapurna Pictures</td>\n      <td>Karyn Kusama (director); Phil Hay, Matt Manfre...</td>\n      <td>[261]</td>\n      <td>Karyn Kusama</td>\n      <td>Nicole Kidman</td>\n      <td>Sebastian Stan</td>\n      <td>Sebastian Stan</td>\n    </tr>\n    <tr>\n      <th>272</th>\n      <td>DECEMBER</td>\n      <td>28</td>\n      <td>Black Mirror: Bandersnatch</td>\n      <td>Netflix</td>\n      <td>David Slade (director); Charlie Brooker (scree...</td>\n      <td>[262]</td>\n      <td>David Slade</td>\n      <td>Fionn Whitehead</td>\n      <td>Will Poulter</td>\n      <td>Will Poulter</td>\n    </tr>\n  </tbody>\n</table>\n<p>273 rows × 10 columns</p>\n</div>"
     },
     "execution_count": 75,
     "metadata": {},
     "output_type": "execute_result"
    }
   ],
   "source": [
    "data3"
   ],
   "metadata": {
    "collapsed": false
   }
  },
  {
   "cell_type": "code",
   "execution_count": 148,
   "outputs": [],
   "source": [
    "data3['year']='2018'"
   ],
   "metadata": {
    "collapsed": false
   }
  },
  {
   "cell_type": "code",
   "execution_count": 150,
   "outputs": [
    {
     "data": {
      "text/plain": "      Opening  Opening.1                       title  \\\n0     JANUARY          5     Insidious: The Last Key   \n1     JANUARY          5            The Strange Ones   \n2     JANUARY          5                    Stratton   \n3     JANUARY         10               Sweet Country   \n4     JANUARY         12                The Commuter   \n..        ...        ...                         ...   \n268  DECEMBER         25             Holmes & Watson   \n269  DECEMBER         25                        Vice   \n270  DECEMBER         25         On the Basis of Sex   \n271  DECEMBER         25                   Destroyer   \n272  DECEMBER         28  Black Mirror: Bandersnatch   \n\n                                    Production company  \\\n0    Universal Pictures / Blumhouse Productions / S...   \n1                               Vertical Entertainment   \n2                                    Momentum Pictures   \n3                                 Samuel Goldwyn Films   \n4        Lionsgate / StudioCanal / The Picture Company   \n..                                                 ...   \n268       Columbia Pictures / Gary Sanchez Productions   \n269          Annapurna Pictures / Plan B Entertainment   \n270                                     Focus Features   \n271                                 Annapurna Pictures   \n272                                            Netflix   \n\n                                         Cast and crew   Ref.  \\\n0    Adam Robitel (director); Leigh Whannell (scree...    [2]   \n1    Lauren Wolkstein (director); Christopher Radcl...    [3]   \n2    Simon West (director); Duncan Falconer, Warren...    [4]   \n3    Warwick Thornton (director); David Tranter, St...    [5]   \n4    Jaume Collet-Serra (director); Byron Willinger...    [6]   \n..                                                 ...    ...   \n268  Etan Cohen (director/screenplay); Will Ferrell...  [164]   \n269  Adam McKay (director/screenplay); Christian Ba...  [137]   \n270  Mimi Leder (director); Daniel Stiepleman (scre...  [229]   \n271  Karyn Kusama (director); Phil Hay, Matt Manfre...  [261]   \n272  David Slade (director); Charlie Brooker (scree...  [262]   \n\n               director           actor1                  actor2  \\\n0          Adam Robitel        Lin Shaye           Angus Sampson   \n1      Lauren Wolkstein    Alex Pettyfer  James Freedson-Jackson   \n2            Simon West   Dominic Cooper          Austin Stowell   \n3      Warwick Thornton      Bryan Brown               Sam Neill   \n4    Jaume Collet-Serra      Liam Neeson            Vera Farmiga   \n..                  ...              ...                     ...   \n268          Etan Cohen     Will Ferrell          John C. Reilly   \n269          Adam McKay   Christian Bale               Amy Adams   \n270          Mimi Leder   Felicity Jones            Armie Hammer   \n271        Karyn Kusama    Nicole Kidman          Sebastian Stan   \n272         David Slade  Fionn Whitehead            Will Poulter   \n\n                     actor3  year  \n0             Angus Sampson  2018  \n1    James Freedson-Jackson  2018  \n2            Austin Stowell  2018  \n3                 Sam Neill  2018  \n4              Vera Farmiga  2018  \n..                      ...   ...  \n268          John C. Reilly  2018  \n269               Amy Adams  2018  \n270            Armie Hammer  2018  \n271          Sebastian Stan  2018  \n272            Will Poulter  2018  \n\n[273 rows x 11 columns]",
      "text/html": "<div>\n<style scoped>\n    .dataframe tbody tr th:only-of-type {\n        vertical-align: middle;\n    }\n\n    .dataframe tbody tr th {\n        vertical-align: top;\n    }\n\n    .dataframe thead th {\n        text-align: right;\n    }\n</style>\n<table border=\"1\" class=\"dataframe\">\n  <thead>\n    <tr style=\"text-align: right;\">\n      <th></th>\n      <th>Opening</th>\n      <th>Opening.1</th>\n      <th>title</th>\n      <th>Production company</th>\n      <th>Cast and crew</th>\n      <th>Ref.</th>\n      <th>director</th>\n      <th>actor1</th>\n      <th>actor2</th>\n      <th>actor3</th>\n      <th>year</th>\n    </tr>\n  </thead>\n  <tbody>\n    <tr>\n      <th>0</th>\n      <td>JANUARY</td>\n      <td>5</td>\n      <td>Insidious: The Last Key</td>\n      <td>Universal Pictures / Blumhouse Productions / S...</td>\n      <td>Adam Robitel (director); Leigh Whannell (scree...</td>\n      <td>[2]</td>\n      <td>Adam Robitel</td>\n      <td>Lin Shaye</td>\n      <td>Angus Sampson</td>\n      <td>Angus Sampson</td>\n      <td>2018</td>\n    </tr>\n    <tr>\n      <th>1</th>\n      <td>JANUARY</td>\n      <td>5</td>\n      <td>The Strange Ones</td>\n      <td>Vertical Entertainment</td>\n      <td>Lauren Wolkstein (director); Christopher Radcl...</td>\n      <td>[3]</td>\n      <td>Lauren Wolkstein</td>\n      <td>Alex Pettyfer</td>\n      <td>James Freedson-Jackson</td>\n      <td>James Freedson-Jackson</td>\n      <td>2018</td>\n    </tr>\n    <tr>\n      <th>2</th>\n      <td>JANUARY</td>\n      <td>5</td>\n      <td>Stratton</td>\n      <td>Momentum Pictures</td>\n      <td>Simon West (director); Duncan Falconer, Warren...</td>\n      <td>[4]</td>\n      <td>Simon West</td>\n      <td>Dominic Cooper</td>\n      <td>Austin Stowell</td>\n      <td>Austin Stowell</td>\n      <td>2018</td>\n    </tr>\n    <tr>\n      <th>3</th>\n      <td>JANUARY</td>\n      <td>10</td>\n      <td>Sweet Country</td>\n      <td>Samuel Goldwyn Films</td>\n      <td>Warwick Thornton (director); David Tranter, St...</td>\n      <td>[5]</td>\n      <td>Warwick Thornton</td>\n      <td>Bryan Brown</td>\n      <td>Sam Neill</td>\n      <td>Sam Neill</td>\n      <td>2018</td>\n    </tr>\n    <tr>\n      <th>4</th>\n      <td>JANUARY</td>\n      <td>12</td>\n      <td>The Commuter</td>\n      <td>Lionsgate / StudioCanal / The Picture Company</td>\n      <td>Jaume Collet-Serra (director); Byron Willinger...</td>\n      <td>[6]</td>\n      <td>Jaume Collet-Serra</td>\n      <td>Liam Neeson</td>\n      <td>Vera Farmiga</td>\n      <td>Vera Farmiga</td>\n      <td>2018</td>\n    </tr>\n    <tr>\n      <th>...</th>\n      <td>...</td>\n      <td>...</td>\n      <td>...</td>\n      <td>...</td>\n      <td>...</td>\n      <td>...</td>\n      <td>...</td>\n      <td>...</td>\n      <td>...</td>\n      <td>...</td>\n      <td>...</td>\n    </tr>\n    <tr>\n      <th>268</th>\n      <td>DECEMBER</td>\n      <td>25</td>\n      <td>Holmes &amp; Watson</td>\n      <td>Columbia Pictures / Gary Sanchez Productions</td>\n      <td>Etan Cohen (director/screenplay); Will Ferrell...</td>\n      <td>[164]</td>\n      <td>Etan Cohen</td>\n      <td>Will Ferrell</td>\n      <td>John C. Reilly</td>\n      <td>John C. Reilly</td>\n      <td>2018</td>\n    </tr>\n    <tr>\n      <th>269</th>\n      <td>DECEMBER</td>\n      <td>25</td>\n      <td>Vice</td>\n      <td>Annapurna Pictures / Plan B Entertainment</td>\n      <td>Adam McKay (director/screenplay); Christian Ba...</td>\n      <td>[137]</td>\n      <td>Adam McKay</td>\n      <td>Christian Bale</td>\n      <td>Amy Adams</td>\n      <td>Amy Adams</td>\n      <td>2018</td>\n    </tr>\n    <tr>\n      <th>270</th>\n      <td>DECEMBER</td>\n      <td>25</td>\n      <td>On the Basis of Sex</td>\n      <td>Focus Features</td>\n      <td>Mimi Leder (director); Daniel Stiepleman (scre...</td>\n      <td>[229]</td>\n      <td>Mimi Leder</td>\n      <td>Felicity Jones</td>\n      <td>Armie Hammer</td>\n      <td>Armie Hammer</td>\n      <td>2018</td>\n    </tr>\n    <tr>\n      <th>271</th>\n      <td>DECEMBER</td>\n      <td>25</td>\n      <td>Destroyer</td>\n      <td>Annapurna Pictures</td>\n      <td>Karyn Kusama (director); Phil Hay, Matt Manfre...</td>\n      <td>[261]</td>\n      <td>Karyn Kusama</td>\n      <td>Nicole Kidman</td>\n      <td>Sebastian Stan</td>\n      <td>Sebastian Stan</td>\n      <td>2018</td>\n    </tr>\n    <tr>\n      <th>272</th>\n      <td>DECEMBER</td>\n      <td>28</td>\n      <td>Black Mirror: Bandersnatch</td>\n      <td>Netflix</td>\n      <td>David Slade (director); Charlie Brooker (scree...</td>\n      <td>[262]</td>\n      <td>David Slade</td>\n      <td>Fionn Whitehead</td>\n      <td>Will Poulter</td>\n      <td>Will Poulter</td>\n      <td>2018</td>\n    </tr>\n  </tbody>\n</table>\n<p>273 rows × 11 columns</p>\n</div>"
     },
     "execution_count": 150,
     "metadata": {},
     "output_type": "execute_result"
    }
   ],
   "source": [
    "data3"
   ],
   "metadata": {
    "collapsed": false
   }
  },
  {
   "cell_type": "code",
   "execution_count": 151,
   "outputs": [],
   "source": [
    "new_data = data3.loc[:,['title','director','actor1','actor2','actor3','year']]\n"
   ],
   "metadata": {
    "collapsed": false
   }
  },
  {
   "cell_type": "code",
   "execution_count": 152,
   "outputs": [
    {
     "data": {
      "text/plain": "                          title            director           actor1  \\\n0       Insidious: The Last Key        Adam Robitel        Lin Shaye   \n1              The Strange Ones    Lauren Wolkstein    Alex Pettyfer   \n2                      Stratton          Simon West   Dominic Cooper   \n3                 Sweet Country    Warwick Thornton      Bryan Brown   \n4                  The Commuter  Jaume Collet-Serra      Liam Neeson   \n..                          ...                 ...              ...   \n268             Holmes & Watson          Etan Cohen     Will Ferrell   \n269                        Vice          Adam McKay   Christian Bale   \n270         On the Basis of Sex          Mimi Leder   Felicity Jones   \n271                   Destroyer        Karyn Kusama    Nicole Kidman   \n272  Black Mirror: Bandersnatch         David Slade  Fionn Whitehead   \n\n                     actor2                  actor3  year  \n0             Angus Sampson           Angus Sampson  2018  \n1    James Freedson-Jackson  James Freedson-Jackson  2018  \n2            Austin Stowell          Austin Stowell  2018  \n3                 Sam Neill               Sam Neill  2018  \n4              Vera Farmiga            Vera Farmiga  2018  \n..                      ...                     ...   ...  \n268          John C. Reilly          John C. Reilly  2018  \n269               Amy Adams               Amy Adams  2018  \n270            Armie Hammer            Armie Hammer  2018  \n271          Sebastian Stan          Sebastian Stan  2018  \n272            Will Poulter            Will Poulter  2018  \n\n[273 rows x 6 columns]",
      "text/html": "<div>\n<style scoped>\n    .dataframe tbody tr th:only-of-type {\n        vertical-align: middle;\n    }\n\n    .dataframe tbody tr th {\n        vertical-align: top;\n    }\n\n    .dataframe thead th {\n        text-align: right;\n    }\n</style>\n<table border=\"1\" class=\"dataframe\">\n  <thead>\n    <tr style=\"text-align: right;\">\n      <th></th>\n      <th>title</th>\n      <th>director</th>\n      <th>actor1</th>\n      <th>actor2</th>\n      <th>actor3</th>\n      <th>year</th>\n    </tr>\n  </thead>\n  <tbody>\n    <tr>\n      <th>0</th>\n      <td>Insidious: The Last Key</td>\n      <td>Adam Robitel</td>\n      <td>Lin Shaye</td>\n      <td>Angus Sampson</td>\n      <td>Angus Sampson</td>\n      <td>2018</td>\n    </tr>\n    <tr>\n      <th>1</th>\n      <td>The Strange Ones</td>\n      <td>Lauren Wolkstein</td>\n      <td>Alex Pettyfer</td>\n      <td>James Freedson-Jackson</td>\n      <td>James Freedson-Jackson</td>\n      <td>2018</td>\n    </tr>\n    <tr>\n      <th>2</th>\n      <td>Stratton</td>\n      <td>Simon West</td>\n      <td>Dominic Cooper</td>\n      <td>Austin Stowell</td>\n      <td>Austin Stowell</td>\n      <td>2018</td>\n    </tr>\n    <tr>\n      <th>3</th>\n      <td>Sweet Country</td>\n      <td>Warwick Thornton</td>\n      <td>Bryan Brown</td>\n      <td>Sam Neill</td>\n      <td>Sam Neill</td>\n      <td>2018</td>\n    </tr>\n    <tr>\n      <th>4</th>\n      <td>The Commuter</td>\n      <td>Jaume Collet-Serra</td>\n      <td>Liam Neeson</td>\n      <td>Vera Farmiga</td>\n      <td>Vera Farmiga</td>\n      <td>2018</td>\n    </tr>\n    <tr>\n      <th>...</th>\n      <td>...</td>\n      <td>...</td>\n      <td>...</td>\n      <td>...</td>\n      <td>...</td>\n      <td>...</td>\n    </tr>\n    <tr>\n      <th>268</th>\n      <td>Holmes &amp; Watson</td>\n      <td>Etan Cohen</td>\n      <td>Will Ferrell</td>\n      <td>John C. Reilly</td>\n      <td>John C. Reilly</td>\n      <td>2018</td>\n    </tr>\n    <tr>\n      <th>269</th>\n      <td>Vice</td>\n      <td>Adam McKay</td>\n      <td>Christian Bale</td>\n      <td>Amy Adams</td>\n      <td>Amy Adams</td>\n      <td>2018</td>\n    </tr>\n    <tr>\n      <th>270</th>\n      <td>On the Basis of Sex</td>\n      <td>Mimi Leder</td>\n      <td>Felicity Jones</td>\n      <td>Armie Hammer</td>\n      <td>Armie Hammer</td>\n      <td>2018</td>\n    </tr>\n    <tr>\n      <th>271</th>\n      <td>Destroyer</td>\n      <td>Karyn Kusama</td>\n      <td>Nicole Kidman</td>\n      <td>Sebastian Stan</td>\n      <td>Sebastian Stan</td>\n      <td>2018</td>\n    </tr>\n    <tr>\n      <th>272</th>\n      <td>Black Mirror: Bandersnatch</td>\n      <td>David Slade</td>\n      <td>Fionn Whitehead</td>\n      <td>Will Poulter</td>\n      <td>Will Poulter</td>\n      <td>2018</td>\n    </tr>\n  </tbody>\n</table>\n<p>273 rows × 6 columns</p>\n</div>"
     },
     "execution_count": 152,
     "metadata": {},
     "output_type": "execute_result"
    }
   ],
   "source": [
    "new_data"
   ],
   "metadata": {
    "collapsed": false
   }
  },
  {
   "cell_type": "code",
   "execution_count": 153,
   "outputs": [],
   "source": [
    "d={'JANUARY':'01','FEBRUARY':'02','MARCH':'03','APRIL':'04','MAY':'05','JUNE':'06','JULY':'07','AUGUST':'08','SEPTEMBER':'09','OCTOBER':'10','NOVEMBER':'11','DECEMBER':'12'}"
   ],
   "metadata": {
    "collapsed": false
   }
  },
  {
   "cell_type": "code",
   "execution_count": 154,
   "outputs": [
    {
     "data": {
      "text/plain": "                          title            director           actor1  \\\n0       Insidious: The Last Key        Adam Robitel        Lin Shaye   \n1              The Strange Ones    Lauren Wolkstein    Alex Pettyfer   \n2                      Stratton          Simon West   Dominic Cooper   \n3                 Sweet Country    Warwick Thornton      Bryan Brown   \n4                  The Commuter  Jaume Collet-Serra      Liam Neeson   \n..                          ...                 ...              ...   \n268             Holmes & Watson          Etan Cohen     Will Ferrell   \n269                        Vice          Adam McKay   Christian Bale   \n270         On the Basis of Sex          Mimi Leder   Felicity Jones   \n271                   Destroyer        Karyn Kusama    Nicole Kidman   \n272  Black Mirror: Bandersnatch         David Slade  Fionn Whitehead   \n\n                     actor2                  actor3  year  \n0             Angus Sampson           Angus Sampson  2018  \n1    James Freedson-Jackson  James Freedson-Jackson  2018  \n2            Austin Stowell          Austin Stowell  2018  \n3                 Sam Neill               Sam Neill  2018  \n4              Vera Farmiga            Vera Farmiga  2018  \n..                      ...                     ...   ...  \n268          John C. Reilly          John C. Reilly  2018  \n269               Amy Adams               Amy Adams  2018  \n270            Armie Hammer            Armie Hammer  2018  \n271          Sebastian Stan          Sebastian Stan  2018  \n272            Will Poulter            Will Poulter  2018  \n\n[273 rows x 6 columns]",
      "text/html": "<div>\n<style scoped>\n    .dataframe tbody tr th:only-of-type {\n        vertical-align: middle;\n    }\n\n    .dataframe tbody tr th {\n        vertical-align: top;\n    }\n\n    .dataframe thead th {\n        text-align: right;\n    }\n</style>\n<table border=\"1\" class=\"dataframe\">\n  <thead>\n    <tr style=\"text-align: right;\">\n      <th></th>\n      <th>title</th>\n      <th>director</th>\n      <th>actor1</th>\n      <th>actor2</th>\n      <th>actor3</th>\n      <th>year</th>\n    </tr>\n  </thead>\n  <tbody>\n    <tr>\n      <th>0</th>\n      <td>Insidious: The Last Key</td>\n      <td>Adam Robitel</td>\n      <td>Lin Shaye</td>\n      <td>Angus Sampson</td>\n      <td>Angus Sampson</td>\n      <td>2018</td>\n    </tr>\n    <tr>\n      <th>1</th>\n      <td>The Strange Ones</td>\n      <td>Lauren Wolkstein</td>\n      <td>Alex Pettyfer</td>\n      <td>James Freedson-Jackson</td>\n      <td>James Freedson-Jackson</td>\n      <td>2018</td>\n    </tr>\n    <tr>\n      <th>2</th>\n      <td>Stratton</td>\n      <td>Simon West</td>\n      <td>Dominic Cooper</td>\n      <td>Austin Stowell</td>\n      <td>Austin Stowell</td>\n      <td>2018</td>\n    </tr>\n    <tr>\n      <th>3</th>\n      <td>Sweet Country</td>\n      <td>Warwick Thornton</td>\n      <td>Bryan Brown</td>\n      <td>Sam Neill</td>\n      <td>Sam Neill</td>\n      <td>2018</td>\n    </tr>\n    <tr>\n      <th>4</th>\n      <td>The Commuter</td>\n      <td>Jaume Collet-Serra</td>\n      <td>Liam Neeson</td>\n      <td>Vera Farmiga</td>\n      <td>Vera Farmiga</td>\n      <td>2018</td>\n    </tr>\n    <tr>\n      <th>...</th>\n      <td>...</td>\n      <td>...</td>\n      <td>...</td>\n      <td>...</td>\n      <td>...</td>\n      <td>...</td>\n    </tr>\n    <tr>\n      <th>268</th>\n      <td>Holmes &amp; Watson</td>\n      <td>Etan Cohen</td>\n      <td>Will Ferrell</td>\n      <td>John C. Reilly</td>\n      <td>John C. Reilly</td>\n      <td>2018</td>\n    </tr>\n    <tr>\n      <th>269</th>\n      <td>Vice</td>\n      <td>Adam McKay</td>\n      <td>Christian Bale</td>\n      <td>Amy Adams</td>\n      <td>Amy Adams</td>\n      <td>2018</td>\n    </tr>\n    <tr>\n      <th>270</th>\n      <td>On the Basis of Sex</td>\n      <td>Mimi Leder</td>\n      <td>Felicity Jones</td>\n      <td>Armie Hammer</td>\n      <td>Armie Hammer</td>\n      <td>2018</td>\n    </tr>\n    <tr>\n      <th>271</th>\n      <td>Destroyer</td>\n      <td>Karyn Kusama</td>\n      <td>Nicole Kidman</td>\n      <td>Sebastian Stan</td>\n      <td>Sebastian Stan</td>\n      <td>2018</td>\n    </tr>\n    <tr>\n      <th>272</th>\n      <td>Black Mirror: Bandersnatch</td>\n      <td>David Slade</td>\n      <td>Fionn Whitehead</td>\n      <td>Will Poulter</td>\n      <td>Will Poulter</td>\n      <td>2018</td>\n    </tr>\n  </tbody>\n</table>\n<p>273 rows × 6 columns</p>\n</div>"
     },
     "execution_count": 154,
     "metadata": {},
     "output_type": "execute_result"
    }
   ],
   "source": [
    "new_data"
   ],
   "metadata": {
    "collapsed": false
   }
  },
  {
   "cell_type": "code",
   "execution_count": 155,
   "outputs": [],
   "source": [
    "new_data['month']=data3['Opening']"
   ],
   "metadata": {
    "collapsed": false
   }
  },
  {
   "cell_type": "code",
   "execution_count": 156,
   "outputs": [],
   "source": [
    "new_data['day']=data3['Opening.1']"
   ],
   "metadata": {
    "collapsed": false
   }
  },
  {
   "cell_type": "code",
   "execution_count": 157,
   "outputs": [
    {
     "data": {
      "text/plain": "                          title            director           actor1  \\\n0       Insidious: The Last Key        Adam Robitel        Lin Shaye   \n1              The Strange Ones    Lauren Wolkstein    Alex Pettyfer   \n2                      Stratton          Simon West   Dominic Cooper   \n3                 Sweet Country    Warwick Thornton      Bryan Brown   \n4                  The Commuter  Jaume Collet-Serra      Liam Neeson   \n..                          ...                 ...              ...   \n268             Holmes & Watson          Etan Cohen     Will Ferrell   \n269                        Vice          Adam McKay   Christian Bale   \n270         On the Basis of Sex          Mimi Leder   Felicity Jones   \n271                   Destroyer        Karyn Kusama    Nicole Kidman   \n272  Black Mirror: Bandersnatch         David Slade  Fionn Whitehead   \n\n                     actor2                  actor3  year     month  day  \n0             Angus Sampson           Angus Sampson  2018   JANUARY    5  \n1    James Freedson-Jackson  James Freedson-Jackson  2018   JANUARY    5  \n2            Austin Stowell          Austin Stowell  2018   JANUARY    5  \n3                 Sam Neill               Sam Neill  2018   JANUARY   10  \n4              Vera Farmiga            Vera Farmiga  2018   JANUARY   12  \n..                      ...                     ...   ...       ...  ...  \n268          John C. Reilly          John C. Reilly  2018  DECEMBER   25  \n269               Amy Adams               Amy Adams  2018  DECEMBER   25  \n270            Armie Hammer            Armie Hammer  2018  DECEMBER   25  \n271          Sebastian Stan          Sebastian Stan  2018  DECEMBER   25  \n272            Will Poulter            Will Poulter  2018  DECEMBER   28  \n\n[273 rows x 8 columns]",
      "text/html": "<div>\n<style scoped>\n    .dataframe tbody tr th:only-of-type {\n        vertical-align: middle;\n    }\n\n    .dataframe tbody tr th {\n        vertical-align: top;\n    }\n\n    .dataframe thead th {\n        text-align: right;\n    }\n</style>\n<table border=\"1\" class=\"dataframe\">\n  <thead>\n    <tr style=\"text-align: right;\">\n      <th></th>\n      <th>title</th>\n      <th>director</th>\n      <th>actor1</th>\n      <th>actor2</th>\n      <th>actor3</th>\n      <th>year</th>\n      <th>month</th>\n      <th>day</th>\n    </tr>\n  </thead>\n  <tbody>\n    <tr>\n      <th>0</th>\n      <td>Insidious: The Last Key</td>\n      <td>Adam Robitel</td>\n      <td>Lin Shaye</td>\n      <td>Angus Sampson</td>\n      <td>Angus Sampson</td>\n      <td>2018</td>\n      <td>JANUARY</td>\n      <td>5</td>\n    </tr>\n    <tr>\n      <th>1</th>\n      <td>The Strange Ones</td>\n      <td>Lauren Wolkstein</td>\n      <td>Alex Pettyfer</td>\n      <td>James Freedson-Jackson</td>\n      <td>James Freedson-Jackson</td>\n      <td>2018</td>\n      <td>JANUARY</td>\n      <td>5</td>\n    </tr>\n    <tr>\n      <th>2</th>\n      <td>Stratton</td>\n      <td>Simon West</td>\n      <td>Dominic Cooper</td>\n      <td>Austin Stowell</td>\n      <td>Austin Stowell</td>\n      <td>2018</td>\n      <td>JANUARY</td>\n      <td>5</td>\n    </tr>\n    <tr>\n      <th>3</th>\n      <td>Sweet Country</td>\n      <td>Warwick Thornton</td>\n      <td>Bryan Brown</td>\n      <td>Sam Neill</td>\n      <td>Sam Neill</td>\n      <td>2018</td>\n      <td>JANUARY</td>\n      <td>10</td>\n    </tr>\n    <tr>\n      <th>4</th>\n      <td>The Commuter</td>\n      <td>Jaume Collet-Serra</td>\n      <td>Liam Neeson</td>\n      <td>Vera Farmiga</td>\n      <td>Vera Farmiga</td>\n      <td>2018</td>\n      <td>JANUARY</td>\n      <td>12</td>\n    </tr>\n    <tr>\n      <th>...</th>\n      <td>...</td>\n      <td>...</td>\n      <td>...</td>\n      <td>...</td>\n      <td>...</td>\n      <td>...</td>\n      <td>...</td>\n      <td>...</td>\n    </tr>\n    <tr>\n      <th>268</th>\n      <td>Holmes &amp; Watson</td>\n      <td>Etan Cohen</td>\n      <td>Will Ferrell</td>\n      <td>John C. Reilly</td>\n      <td>John C. Reilly</td>\n      <td>2018</td>\n      <td>DECEMBER</td>\n      <td>25</td>\n    </tr>\n    <tr>\n      <th>269</th>\n      <td>Vice</td>\n      <td>Adam McKay</td>\n      <td>Christian Bale</td>\n      <td>Amy Adams</td>\n      <td>Amy Adams</td>\n      <td>2018</td>\n      <td>DECEMBER</td>\n      <td>25</td>\n    </tr>\n    <tr>\n      <th>270</th>\n      <td>On the Basis of Sex</td>\n      <td>Mimi Leder</td>\n      <td>Felicity Jones</td>\n      <td>Armie Hammer</td>\n      <td>Armie Hammer</td>\n      <td>2018</td>\n      <td>DECEMBER</td>\n      <td>25</td>\n    </tr>\n    <tr>\n      <th>271</th>\n      <td>Destroyer</td>\n      <td>Karyn Kusama</td>\n      <td>Nicole Kidman</td>\n      <td>Sebastian Stan</td>\n      <td>Sebastian Stan</td>\n      <td>2018</td>\n      <td>DECEMBER</td>\n      <td>25</td>\n    </tr>\n    <tr>\n      <th>272</th>\n      <td>Black Mirror: Bandersnatch</td>\n      <td>David Slade</td>\n      <td>Fionn Whitehead</td>\n      <td>Will Poulter</td>\n      <td>Will Poulter</td>\n      <td>2018</td>\n      <td>DECEMBER</td>\n      <td>28</td>\n    </tr>\n  </tbody>\n</table>\n<p>273 rows × 8 columns</p>\n</div>"
     },
     "execution_count": 157,
     "metadata": {},
     "output_type": "execute_result"
    }
   ],
   "source": [
    "new_data"
   ],
   "metadata": {
    "collapsed": false
   }
  },
  {
   "cell_type": "code",
   "execution_count": 158,
   "outputs": [],
   "source": [
    "new_data['month']=new_data['month'].map(d)"
   ],
   "metadata": {
    "collapsed": false
   }
  },
  {
   "cell_type": "code",
   "execution_count": 159,
   "outputs": [
    {
     "data": {
      "text/plain": "                          title            director           actor1  \\\n0       Insidious: The Last Key        Adam Robitel        Lin Shaye   \n1              The Strange Ones    Lauren Wolkstein    Alex Pettyfer   \n2                      Stratton          Simon West   Dominic Cooper   \n3                 Sweet Country    Warwick Thornton      Bryan Brown   \n4                  The Commuter  Jaume Collet-Serra      Liam Neeson   \n..                          ...                 ...              ...   \n268             Holmes & Watson          Etan Cohen     Will Ferrell   \n269                        Vice          Adam McKay   Christian Bale   \n270         On the Basis of Sex          Mimi Leder   Felicity Jones   \n271                   Destroyer        Karyn Kusama    Nicole Kidman   \n272  Black Mirror: Bandersnatch         David Slade  Fionn Whitehead   \n\n                     actor2                  actor3  year month  day  \n0             Angus Sampson           Angus Sampson  2018    01    5  \n1    James Freedson-Jackson  James Freedson-Jackson  2018    01    5  \n2            Austin Stowell          Austin Stowell  2018    01    5  \n3                 Sam Neill               Sam Neill  2018    01   10  \n4              Vera Farmiga            Vera Farmiga  2018    01   12  \n..                      ...                     ...   ...   ...  ...  \n268          John C. Reilly          John C. Reilly  2018    12   25  \n269               Amy Adams               Amy Adams  2018    12   25  \n270            Armie Hammer            Armie Hammer  2018    12   25  \n271          Sebastian Stan          Sebastian Stan  2018    12   25  \n272            Will Poulter            Will Poulter  2018    12   28  \n\n[273 rows x 8 columns]",
      "text/html": "<div>\n<style scoped>\n    .dataframe tbody tr th:only-of-type {\n        vertical-align: middle;\n    }\n\n    .dataframe tbody tr th {\n        vertical-align: top;\n    }\n\n    .dataframe thead th {\n        text-align: right;\n    }\n</style>\n<table border=\"1\" class=\"dataframe\">\n  <thead>\n    <tr style=\"text-align: right;\">\n      <th></th>\n      <th>title</th>\n      <th>director</th>\n      <th>actor1</th>\n      <th>actor2</th>\n      <th>actor3</th>\n      <th>year</th>\n      <th>month</th>\n      <th>day</th>\n    </tr>\n  </thead>\n  <tbody>\n    <tr>\n      <th>0</th>\n      <td>Insidious: The Last Key</td>\n      <td>Adam Robitel</td>\n      <td>Lin Shaye</td>\n      <td>Angus Sampson</td>\n      <td>Angus Sampson</td>\n      <td>2018</td>\n      <td>01</td>\n      <td>5</td>\n    </tr>\n    <tr>\n      <th>1</th>\n      <td>The Strange Ones</td>\n      <td>Lauren Wolkstein</td>\n      <td>Alex Pettyfer</td>\n      <td>James Freedson-Jackson</td>\n      <td>James Freedson-Jackson</td>\n      <td>2018</td>\n      <td>01</td>\n      <td>5</td>\n    </tr>\n    <tr>\n      <th>2</th>\n      <td>Stratton</td>\n      <td>Simon West</td>\n      <td>Dominic Cooper</td>\n      <td>Austin Stowell</td>\n      <td>Austin Stowell</td>\n      <td>2018</td>\n      <td>01</td>\n      <td>5</td>\n    </tr>\n    <tr>\n      <th>3</th>\n      <td>Sweet Country</td>\n      <td>Warwick Thornton</td>\n      <td>Bryan Brown</td>\n      <td>Sam Neill</td>\n      <td>Sam Neill</td>\n      <td>2018</td>\n      <td>01</td>\n      <td>10</td>\n    </tr>\n    <tr>\n      <th>4</th>\n      <td>The Commuter</td>\n      <td>Jaume Collet-Serra</td>\n      <td>Liam Neeson</td>\n      <td>Vera Farmiga</td>\n      <td>Vera Farmiga</td>\n      <td>2018</td>\n      <td>01</td>\n      <td>12</td>\n    </tr>\n    <tr>\n      <th>...</th>\n      <td>...</td>\n      <td>...</td>\n      <td>...</td>\n      <td>...</td>\n      <td>...</td>\n      <td>...</td>\n      <td>...</td>\n      <td>...</td>\n    </tr>\n    <tr>\n      <th>268</th>\n      <td>Holmes &amp; Watson</td>\n      <td>Etan Cohen</td>\n      <td>Will Ferrell</td>\n      <td>John C. Reilly</td>\n      <td>John C. Reilly</td>\n      <td>2018</td>\n      <td>12</td>\n      <td>25</td>\n    </tr>\n    <tr>\n      <th>269</th>\n      <td>Vice</td>\n      <td>Adam McKay</td>\n      <td>Christian Bale</td>\n      <td>Amy Adams</td>\n      <td>Amy Adams</td>\n      <td>2018</td>\n      <td>12</td>\n      <td>25</td>\n    </tr>\n    <tr>\n      <th>270</th>\n      <td>On the Basis of Sex</td>\n      <td>Mimi Leder</td>\n      <td>Felicity Jones</td>\n      <td>Armie Hammer</td>\n      <td>Armie Hammer</td>\n      <td>2018</td>\n      <td>12</td>\n      <td>25</td>\n    </tr>\n    <tr>\n      <th>271</th>\n      <td>Destroyer</td>\n      <td>Karyn Kusama</td>\n      <td>Nicole Kidman</td>\n      <td>Sebastian Stan</td>\n      <td>Sebastian Stan</td>\n      <td>2018</td>\n      <td>12</td>\n      <td>25</td>\n    </tr>\n    <tr>\n      <th>272</th>\n      <td>Black Mirror: Bandersnatch</td>\n      <td>David Slade</td>\n      <td>Fionn Whitehead</td>\n      <td>Will Poulter</td>\n      <td>Will Poulter</td>\n      <td>2018</td>\n      <td>12</td>\n      <td>28</td>\n    </tr>\n  </tbody>\n</table>\n<p>273 rows × 8 columns</p>\n</div>"
     },
     "execution_count": 159,
     "metadata": {},
     "output_type": "execute_result"
    }
   ],
   "source": [
    "new_data"
   ],
   "metadata": {
    "collapsed": false
   }
  },
  {
   "cell_type": "code",
   "execution_count": 160,
   "outputs": [],
   "source": [
    "new_data['year'] = new_data['year'].astype(str)\n",
    "new_data['month'] = new_data['month'].astype(str)\n",
    "new_data['day'] = new_data['day'].astype(str)"
   ],
   "metadata": {
    "collapsed": false
   }
  },
  {
   "cell_type": "code",
   "execution_count": 161,
   "outputs": [],
   "source": [
    "new_data['date']=new_data['day']+'/'+new_data['month']+'/'+new_data['year']"
   ],
   "metadata": {
    "collapsed": false
   }
  },
  {
   "cell_type": "code",
   "execution_count": 165,
   "outputs": [
    {
     "data": {
      "text/plain": "                          title            director           actor1  \\\n0       Insidious: The Last Key        Adam Robitel        Lin Shaye   \n1              The Strange Ones    Lauren Wolkstein    Alex Pettyfer   \n2                      Stratton          Simon West   Dominic Cooper   \n3                 Sweet Country    Warwick Thornton      Bryan Brown   \n4                  The Commuter  Jaume Collet-Serra      Liam Neeson   \n..                          ...                 ...              ...   \n268             Holmes & Watson          Etan Cohen     Will Ferrell   \n269                        Vice          Adam McKay   Christian Bale   \n270         On the Basis of Sex          Mimi Leder   Felicity Jones   \n271                   Destroyer        Karyn Kusama    Nicole Kidman   \n272  Black Mirror: Bandersnatch         David Slade  Fionn Whitehead   \n\n                     actor2                  actor3  year month day  \\\n0             Angus Sampson           Angus Sampson  2018    01   5   \n1    James Freedson-Jackson  James Freedson-Jackson  2018    01   5   \n2            Austin Stowell          Austin Stowell  2018    01   5   \n3                 Sam Neill               Sam Neill  2018    01  10   \n4              Vera Farmiga            Vera Farmiga  2018    01  12   \n..                      ...                     ...   ...   ...  ..   \n268          John C. Reilly          John C. Reilly  2018    12  25   \n269               Amy Adams               Amy Adams  2018    12  25   \n270            Armie Hammer            Armie Hammer  2018    12  25   \n271          Sebastian Stan          Sebastian Stan  2018    12  25   \n272            Will Poulter            Will Poulter  2018    12  28   \n\n           date  \n0     5/01/2018  \n1     5/01/2018  \n2     5/01/2018  \n3    10/01/2018  \n4    12/01/2018  \n..          ...  \n268  25/12/2018  \n269  25/12/2018  \n270  25/12/2018  \n271  25/12/2018  \n272  28/12/2018  \n\n[273 rows x 9 columns]",
      "text/html": "<div>\n<style scoped>\n    .dataframe tbody tr th:only-of-type {\n        vertical-align: middle;\n    }\n\n    .dataframe tbody tr th {\n        vertical-align: top;\n    }\n\n    .dataframe thead th {\n        text-align: right;\n    }\n</style>\n<table border=\"1\" class=\"dataframe\">\n  <thead>\n    <tr style=\"text-align: right;\">\n      <th></th>\n      <th>title</th>\n      <th>director</th>\n      <th>actor1</th>\n      <th>actor2</th>\n      <th>actor3</th>\n      <th>year</th>\n      <th>month</th>\n      <th>day</th>\n      <th>date</th>\n    </tr>\n  </thead>\n  <tbody>\n    <tr>\n      <th>0</th>\n      <td>Insidious: The Last Key</td>\n      <td>Adam Robitel</td>\n      <td>Lin Shaye</td>\n      <td>Angus Sampson</td>\n      <td>Angus Sampson</td>\n      <td>2018</td>\n      <td>01</td>\n      <td>5</td>\n      <td>5/01/2018</td>\n    </tr>\n    <tr>\n      <th>1</th>\n      <td>The Strange Ones</td>\n      <td>Lauren Wolkstein</td>\n      <td>Alex Pettyfer</td>\n      <td>James Freedson-Jackson</td>\n      <td>James Freedson-Jackson</td>\n      <td>2018</td>\n      <td>01</td>\n      <td>5</td>\n      <td>5/01/2018</td>\n    </tr>\n    <tr>\n      <th>2</th>\n      <td>Stratton</td>\n      <td>Simon West</td>\n      <td>Dominic Cooper</td>\n      <td>Austin Stowell</td>\n      <td>Austin Stowell</td>\n      <td>2018</td>\n      <td>01</td>\n      <td>5</td>\n      <td>5/01/2018</td>\n    </tr>\n    <tr>\n      <th>3</th>\n      <td>Sweet Country</td>\n      <td>Warwick Thornton</td>\n      <td>Bryan Brown</td>\n      <td>Sam Neill</td>\n      <td>Sam Neill</td>\n      <td>2018</td>\n      <td>01</td>\n      <td>10</td>\n      <td>10/01/2018</td>\n    </tr>\n    <tr>\n      <th>4</th>\n      <td>The Commuter</td>\n      <td>Jaume Collet-Serra</td>\n      <td>Liam Neeson</td>\n      <td>Vera Farmiga</td>\n      <td>Vera Farmiga</td>\n      <td>2018</td>\n      <td>01</td>\n      <td>12</td>\n      <td>12/01/2018</td>\n    </tr>\n    <tr>\n      <th>...</th>\n      <td>...</td>\n      <td>...</td>\n      <td>...</td>\n      <td>...</td>\n      <td>...</td>\n      <td>...</td>\n      <td>...</td>\n      <td>...</td>\n      <td>...</td>\n    </tr>\n    <tr>\n      <th>268</th>\n      <td>Holmes &amp; Watson</td>\n      <td>Etan Cohen</td>\n      <td>Will Ferrell</td>\n      <td>John C. Reilly</td>\n      <td>John C. Reilly</td>\n      <td>2018</td>\n      <td>12</td>\n      <td>25</td>\n      <td>25/12/2018</td>\n    </tr>\n    <tr>\n      <th>269</th>\n      <td>Vice</td>\n      <td>Adam McKay</td>\n      <td>Christian Bale</td>\n      <td>Amy Adams</td>\n      <td>Amy Adams</td>\n      <td>2018</td>\n      <td>12</td>\n      <td>25</td>\n      <td>25/12/2018</td>\n    </tr>\n    <tr>\n      <th>270</th>\n      <td>On the Basis of Sex</td>\n      <td>Mimi Leder</td>\n      <td>Felicity Jones</td>\n      <td>Armie Hammer</td>\n      <td>Armie Hammer</td>\n      <td>2018</td>\n      <td>12</td>\n      <td>25</td>\n      <td>25/12/2018</td>\n    </tr>\n    <tr>\n      <th>271</th>\n      <td>Destroyer</td>\n      <td>Karyn Kusama</td>\n      <td>Nicole Kidman</td>\n      <td>Sebastian Stan</td>\n      <td>Sebastian Stan</td>\n      <td>2018</td>\n      <td>12</td>\n      <td>25</td>\n      <td>25/12/2018</td>\n    </tr>\n    <tr>\n      <th>272</th>\n      <td>Black Mirror: Bandersnatch</td>\n      <td>David Slade</td>\n      <td>Fionn Whitehead</td>\n      <td>Will Poulter</td>\n      <td>Will Poulter</td>\n      <td>2018</td>\n      <td>12</td>\n      <td>28</td>\n      <td>28/12/2018</td>\n    </tr>\n  </tbody>\n</table>\n<p>273 rows × 9 columns</p>\n</div>"
     },
     "execution_count": 165,
     "metadata": {},
     "output_type": "execute_result"
    }
   ],
   "source": [
    "new_data"
   ],
   "metadata": {
    "collapsed": false
   }
  },
  {
   "cell_type": "code",
   "execution_count": 164,
   "outputs": [
    {
     "data": {
      "text/plain": "                          title            director           actor1  \\\n0       Insidious: The Last Key        Adam Robitel        Lin Shaye   \n1              The Strange Ones    Lauren Wolkstein    Alex Pettyfer   \n2                      Stratton          Simon West   Dominic Cooper   \n3                 Sweet Country    Warwick Thornton      Bryan Brown   \n4                  The Commuter  Jaume Collet-Serra      Liam Neeson   \n..                          ...                 ...              ...   \n268             Holmes & Watson          Etan Cohen     Will Ferrell   \n269                        Vice          Adam McKay   Christian Bale   \n270         On the Basis of Sex          Mimi Leder   Felicity Jones   \n271                   Destroyer        Karyn Kusama    Nicole Kidman   \n272  Black Mirror: Bandersnatch         David Slade  Fionn Whitehead   \n\n                     actor2                  actor3  year month day  \\\n0             Angus Sampson           Angus Sampson  2018    01   5   \n1    James Freedson-Jackson  James Freedson-Jackson  2018    01   5   \n2            Austin Stowell          Austin Stowell  2018    01   5   \n3                 Sam Neill               Sam Neill  2018    01  10   \n4              Vera Farmiga            Vera Farmiga  2018    01  12   \n..                      ...                     ...   ...   ...  ..   \n268          John C. Reilly          John C. Reilly  2018    12  25   \n269               Amy Adams               Amy Adams  2018    12  25   \n270            Armie Hammer            Armie Hammer  2018    12  25   \n271          Sebastian Stan          Sebastian Stan  2018    12  25   \n272            Will Poulter            Will Poulter  2018    12  28   \n\n           date  \n0     5/01/2018  \n1     5/01/2018  \n2     5/01/2018  \n3    10/01/2018  \n4    12/01/2018  \n..          ...  \n268  25/12/2018  \n269  25/12/2018  \n270  25/12/2018  \n271  25/12/2018  \n272  28/12/2018  \n\n[273 rows x 9 columns]",
      "text/html": "<div>\n<style scoped>\n    .dataframe tbody tr th:only-of-type {\n        vertical-align: middle;\n    }\n\n    .dataframe tbody tr th {\n        vertical-align: top;\n    }\n\n    .dataframe thead th {\n        text-align: right;\n    }\n</style>\n<table border=\"1\" class=\"dataframe\">\n  <thead>\n    <tr style=\"text-align: right;\">\n      <th></th>\n      <th>title</th>\n      <th>director</th>\n      <th>actor1</th>\n      <th>actor2</th>\n      <th>actor3</th>\n      <th>year</th>\n      <th>month</th>\n      <th>day</th>\n      <th>date</th>\n    </tr>\n  </thead>\n  <tbody>\n    <tr>\n      <th>0</th>\n      <td>Insidious: The Last Key</td>\n      <td>Adam Robitel</td>\n      <td>Lin Shaye</td>\n      <td>Angus Sampson</td>\n      <td>Angus Sampson</td>\n      <td>2018</td>\n      <td>01</td>\n      <td>5</td>\n      <td>5/01/2018</td>\n    </tr>\n    <tr>\n      <th>1</th>\n      <td>The Strange Ones</td>\n      <td>Lauren Wolkstein</td>\n      <td>Alex Pettyfer</td>\n      <td>James Freedson-Jackson</td>\n      <td>James Freedson-Jackson</td>\n      <td>2018</td>\n      <td>01</td>\n      <td>5</td>\n      <td>5/01/2018</td>\n    </tr>\n    <tr>\n      <th>2</th>\n      <td>Stratton</td>\n      <td>Simon West</td>\n      <td>Dominic Cooper</td>\n      <td>Austin Stowell</td>\n      <td>Austin Stowell</td>\n      <td>2018</td>\n      <td>01</td>\n      <td>5</td>\n      <td>5/01/2018</td>\n    </tr>\n    <tr>\n      <th>3</th>\n      <td>Sweet Country</td>\n      <td>Warwick Thornton</td>\n      <td>Bryan Brown</td>\n      <td>Sam Neill</td>\n      <td>Sam Neill</td>\n      <td>2018</td>\n      <td>01</td>\n      <td>10</td>\n      <td>10/01/2018</td>\n    </tr>\n    <tr>\n      <th>4</th>\n      <td>The Commuter</td>\n      <td>Jaume Collet-Serra</td>\n      <td>Liam Neeson</td>\n      <td>Vera Farmiga</td>\n      <td>Vera Farmiga</td>\n      <td>2018</td>\n      <td>01</td>\n      <td>12</td>\n      <td>12/01/2018</td>\n    </tr>\n    <tr>\n      <th>...</th>\n      <td>...</td>\n      <td>...</td>\n      <td>...</td>\n      <td>...</td>\n      <td>...</td>\n      <td>...</td>\n      <td>...</td>\n      <td>...</td>\n      <td>...</td>\n    </tr>\n    <tr>\n      <th>268</th>\n      <td>Holmes &amp; Watson</td>\n      <td>Etan Cohen</td>\n      <td>Will Ferrell</td>\n      <td>John C. Reilly</td>\n      <td>John C. Reilly</td>\n      <td>2018</td>\n      <td>12</td>\n      <td>25</td>\n      <td>25/12/2018</td>\n    </tr>\n    <tr>\n      <th>269</th>\n      <td>Vice</td>\n      <td>Adam McKay</td>\n      <td>Christian Bale</td>\n      <td>Amy Adams</td>\n      <td>Amy Adams</td>\n      <td>2018</td>\n      <td>12</td>\n      <td>25</td>\n      <td>25/12/2018</td>\n    </tr>\n    <tr>\n      <th>270</th>\n      <td>On the Basis of Sex</td>\n      <td>Mimi Leder</td>\n      <td>Felicity Jones</td>\n      <td>Armie Hammer</td>\n      <td>Armie Hammer</td>\n      <td>2018</td>\n      <td>12</td>\n      <td>25</td>\n      <td>25/12/2018</td>\n    </tr>\n    <tr>\n      <th>271</th>\n      <td>Destroyer</td>\n      <td>Karyn Kusama</td>\n      <td>Nicole Kidman</td>\n      <td>Sebastian Stan</td>\n      <td>Sebastian Stan</td>\n      <td>2018</td>\n      <td>12</td>\n      <td>25</td>\n      <td>25/12/2018</td>\n    </tr>\n    <tr>\n      <th>272</th>\n      <td>Black Mirror: Bandersnatch</td>\n      <td>David Slade</td>\n      <td>Fionn Whitehead</td>\n      <td>Will Poulter</td>\n      <td>Will Poulter</td>\n      <td>2018</td>\n      <td>12</td>\n      <td>28</td>\n      <td>28/12/2018</td>\n    </tr>\n  </tbody>\n</table>\n<p>273 rows × 9 columns</p>\n</div>"
     },
     "execution_count": 164,
     "metadata": {},
     "output_type": "execute_result"
    }
   ],
   "source": [
    "new_data"
   ],
   "metadata": {
    "collapsed": false
   }
  },
  {
   "cell_type": "code",
   "execution_count": 166,
   "outputs": [
    {
     "name": "stderr",
     "output_type": "stream",
     "text": [
      "C:\\Users\\ETUDIANT\\AppData\\Local\\Temp\\ipykernel_19064\\3602405778.py:1: UserWarning: Parsing dates in DD/MM/YYYY format when dayfirst=False (the default) was specified. This may lead to inconsistently parsed dates! Specify a format to ensure consistent parsing.\n",
      "  new_data['date']=pd.to_datetime(new_data['date'])\n"
     ]
    }
   ],
   "source": [
    "new_data['date']=pd.to_datetime(new_data['date'])"
   ],
   "metadata": {
    "collapsed": false
   }
  },
  {
   "cell_type": "code",
   "execution_count": 167,
   "outputs": [
    {
     "data": {
      "text/plain": "                          title            director           actor1  \\\n0       Insidious: The Last Key        Adam Robitel        Lin Shaye   \n1              The Strange Ones    Lauren Wolkstein    Alex Pettyfer   \n2                      Stratton          Simon West   Dominic Cooper   \n3                 Sweet Country    Warwick Thornton      Bryan Brown   \n4                  The Commuter  Jaume Collet-Serra      Liam Neeson   \n..                          ...                 ...              ...   \n268             Holmes & Watson          Etan Cohen     Will Ferrell   \n269                        Vice          Adam McKay   Christian Bale   \n270         On the Basis of Sex          Mimi Leder   Felicity Jones   \n271                   Destroyer        Karyn Kusama    Nicole Kidman   \n272  Black Mirror: Bandersnatch         David Slade  Fionn Whitehead   \n\n                     actor2                  actor3  year month day       date  \n0             Angus Sampson           Angus Sampson  2018    01   5 2018-05-01  \n1    James Freedson-Jackson  James Freedson-Jackson  2018    01   5 2018-05-01  \n2            Austin Stowell          Austin Stowell  2018    01   5 2018-05-01  \n3                 Sam Neill               Sam Neill  2018    01  10 2018-10-01  \n4              Vera Farmiga            Vera Farmiga  2018    01  12 2018-12-01  \n..                      ...                     ...   ...   ...  ..        ...  \n268          John C. Reilly          John C. Reilly  2018    12  25 2018-12-25  \n269               Amy Adams               Amy Adams  2018    12  25 2018-12-25  \n270            Armie Hammer            Armie Hammer  2018    12  25 2018-12-25  \n271          Sebastian Stan          Sebastian Stan  2018    12  25 2018-12-25  \n272            Will Poulter            Will Poulter  2018    12  28 2018-12-28  \n\n[273 rows x 9 columns]",
      "text/html": "<div>\n<style scoped>\n    .dataframe tbody tr th:only-of-type {\n        vertical-align: middle;\n    }\n\n    .dataframe tbody tr th {\n        vertical-align: top;\n    }\n\n    .dataframe thead th {\n        text-align: right;\n    }\n</style>\n<table border=\"1\" class=\"dataframe\">\n  <thead>\n    <tr style=\"text-align: right;\">\n      <th></th>\n      <th>title</th>\n      <th>director</th>\n      <th>actor1</th>\n      <th>actor2</th>\n      <th>actor3</th>\n      <th>year</th>\n      <th>month</th>\n      <th>day</th>\n      <th>date</th>\n    </tr>\n  </thead>\n  <tbody>\n    <tr>\n      <th>0</th>\n      <td>Insidious: The Last Key</td>\n      <td>Adam Robitel</td>\n      <td>Lin Shaye</td>\n      <td>Angus Sampson</td>\n      <td>Angus Sampson</td>\n      <td>2018</td>\n      <td>01</td>\n      <td>5</td>\n      <td>2018-05-01</td>\n    </tr>\n    <tr>\n      <th>1</th>\n      <td>The Strange Ones</td>\n      <td>Lauren Wolkstein</td>\n      <td>Alex Pettyfer</td>\n      <td>James Freedson-Jackson</td>\n      <td>James Freedson-Jackson</td>\n      <td>2018</td>\n      <td>01</td>\n      <td>5</td>\n      <td>2018-05-01</td>\n    </tr>\n    <tr>\n      <th>2</th>\n      <td>Stratton</td>\n      <td>Simon West</td>\n      <td>Dominic Cooper</td>\n      <td>Austin Stowell</td>\n      <td>Austin Stowell</td>\n      <td>2018</td>\n      <td>01</td>\n      <td>5</td>\n      <td>2018-05-01</td>\n    </tr>\n    <tr>\n      <th>3</th>\n      <td>Sweet Country</td>\n      <td>Warwick Thornton</td>\n      <td>Bryan Brown</td>\n      <td>Sam Neill</td>\n      <td>Sam Neill</td>\n      <td>2018</td>\n      <td>01</td>\n      <td>10</td>\n      <td>2018-10-01</td>\n    </tr>\n    <tr>\n      <th>4</th>\n      <td>The Commuter</td>\n      <td>Jaume Collet-Serra</td>\n      <td>Liam Neeson</td>\n      <td>Vera Farmiga</td>\n      <td>Vera Farmiga</td>\n      <td>2018</td>\n      <td>01</td>\n      <td>12</td>\n      <td>2018-12-01</td>\n    </tr>\n    <tr>\n      <th>...</th>\n      <td>...</td>\n      <td>...</td>\n      <td>...</td>\n      <td>...</td>\n      <td>...</td>\n      <td>...</td>\n      <td>...</td>\n      <td>...</td>\n      <td>...</td>\n    </tr>\n    <tr>\n      <th>268</th>\n      <td>Holmes &amp; Watson</td>\n      <td>Etan Cohen</td>\n      <td>Will Ferrell</td>\n      <td>John C. Reilly</td>\n      <td>John C. Reilly</td>\n      <td>2018</td>\n      <td>12</td>\n      <td>25</td>\n      <td>2018-12-25</td>\n    </tr>\n    <tr>\n      <th>269</th>\n      <td>Vice</td>\n      <td>Adam McKay</td>\n      <td>Christian Bale</td>\n      <td>Amy Adams</td>\n      <td>Amy Adams</td>\n      <td>2018</td>\n      <td>12</td>\n      <td>25</td>\n      <td>2018-12-25</td>\n    </tr>\n    <tr>\n      <th>270</th>\n      <td>On the Basis of Sex</td>\n      <td>Mimi Leder</td>\n      <td>Felicity Jones</td>\n      <td>Armie Hammer</td>\n      <td>Armie Hammer</td>\n      <td>2018</td>\n      <td>12</td>\n      <td>25</td>\n      <td>2018-12-25</td>\n    </tr>\n    <tr>\n      <th>271</th>\n      <td>Destroyer</td>\n      <td>Karyn Kusama</td>\n      <td>Nicole Kidman</td>\n      <td>Sebastian Stan</td>\n      <td>Sebastian Stan</td>\n      <td>2018</td>\n      <td>12</td>\n      <td>25</td>\n      <td>2018-12-25</td>\n    </tr>\n    <tr>\n      <th>272</th>\n      <td>Black Mirror: Bandersnatch</td>\n      <td>David Slade</td>\n      <td>Fionn Whitehead</td>\n      <td>Will Poulter</td>\n      <td>Will Poulter</td>\n      <td>2018</td>\n      <td>12</td>\n      <td>28</td>\n      <td>2018-12-28</td>\n    </tr>\n  </tbody>\n</table>\n<p>273 rows × 9 columns</p>\n</div>"
     },
     "execution_count": 167,
     "metadata": {},
     "output_type": "execute_result"
    }
   ],
   "source": [
    "new_data"
   ],
   "metadata": {
    "collapsed": false
   }
  },
  {
   "cell_type": "code",
   "execution_count": 168,
   "outputs": [
    {
     "data": {
      "text/plain": "                          title            director           actor1  \\\n0       Insidious: The Last Key        Adam Robitel        Lin Shaye   \n1              The Strange Ones    Lauren Wolkstein    Alex Pettyfer   \n2                      Stratton          Simon West   Dominic Cooper   \n3                 Sweet Country    Warwick Thornton      Bryan Brown   \n4                  The Commuter  Jaume Collet-Serra      Liam Neeson   \n..                          ...                 ...              ...   \n268             Holmes & Watson          Etan Cohen     Will Ferrell   \n269                        Vice          Adam McKay   Christian Bale   \n270         On the Basis of Sex          Mimi Leder   Felicity Jones   \n271                   Destroyer        Karyn Kusama    Nicole Kidman   \n272  Black Mirror: Bandersnatch         David Slade  Fionn Whitehead   \n\n                     actor2                  actor3       date  \n0             Angus Sampson           Angus Sampson 2018-05-01  \n1    James Freedson-Jackson  James Freedson-Jackson 2018-05-01  \n2            Austin Stowell          Austin Stowell 2018-05-01  \n3                 Sam Neill               Sam Neill 2018-10-01  \n4              Vera Farmiga            Vera Farmiga 2018-12-01  \n..                      ...                     ...        ...  \n268          John C. Reilly          John C. Reilly 2018-12-25  \n269               Amy Adams               Amy Adams 2018-12-25  \n270            Armie Hammer            Armie Hammer 2018-12-25  \n271          Sebastian Stan          Sebastian Stan 2018-12-25  \n272            Will Poulter            Will Poulter 2018-12-28  \n\n[273 rows x 6 columns]",
      "text/html": "<div>\n<style scoped>\n    .dataframe tbody tr th:only-of-type {\n        vertical-align: middle;\n    }\n\n    .dataframe tbody tr th {\n        vertical-align: top;\n    }\n\n    .dataframe thead th {\n        text-align: right;\n    }\n</style>\n<table border=\"1\" class=\"dataframe\">\n  <thead>\n    <tr style=\"text-align: right;\">\n      <th></th>\n      <th>title</th>\n      <th>director</th>\n      <th>actor1</th>\n      <th>actor2</th>\n      <th>actor3</th>\n      <th>date</th>\n    </tr>\n  </thead>\n  <tbody>\n    <tr>\n      <th>0</th>\n      <td>Insidious: The Last Key</td>\n      <td>Adam Robitel</td>\n      <td>Lin Shaye</td>\n      <td>Angus Sampson</td>\n      <td>Angus Sampson</td>\n      <td>2018-05-01</td>\n    </tr>\n    <tr>\n      <th>1</th>\n      <td>The Strange Ones</td>\n      <td>Lauren Wolkstein</td>\n      <td>Alex Pettyfer</td>\n      <td>James Freedson-Jackson</td>\n      <td>James Freedson-Jackson</td>\n      <td>2018-05-01</td>\n    </tr>\n    <tr>\n      <th>2</th>\n      <td>Stratton</td>\n      <td>Simon West</td>\n      <td>Dominic Cooper</td>\n      <td>Austin Stowell</td>\n      <td>Austin Stowell</td>\n      <td>2018-05-01</td>\n    </tr>\n    <tr>\n      <th>3</th>\n      <td>Sweet Country</td>\n      <td>Warwick Thornton</td>\n      <td>Bryan Brown</td>\n      <td>Sam Neill</td>\n      <td>Sam Neill</td>\n      <td>2018-10-01</td>\n    </tr>\n    <tr>\n      <th>4</th>\n      <td>The Commuter</td>\n      <td>Jaume Collet-Serra</td>\n      <td>Liam Neeson</td>\n      <td>Vera Farmiga</td>\n      <td>Vera Farmiga</td>\n      <td>2018-12-01</td>\n    </tr>\n    <tr>\n      <th>...</th>\n      <td>...</td>\n      <td>...</td>\n      <td>...</td>\n      <td>...</td>\n      <td>...</td>\n      <td>...</td>\n    </tr>\n    <tr>\n      <th>268</th>\n      <td>Holmes &amp; Watson</td>\n      <td>Etan Cohen</td>\n      <td>Will Ferrell</td>\n      <td>John C. Reilly</td>\n      <td>John C. Reilly</td>\n      <td>2018-12-25</td>\n    </tr>\n    <tr>\n      <th>269</th>\n      <td>Vice</td>\n      <td>Adam McKay</td>\n      <td>Christian Bale</td>\n      <td>Amy Adams</td>\n      <td>Amy Adams</td>\n      <td>2018-12-25</td>\n    </tr>\n    <tr>\n      <th>270</th>\n      <td>On the Basis of Sex</td>\n      <td>Mimi Leder</td>\n      <td>Felicity Jones</td>\n      <td>Armie Hammer</td>\n      <td>Armie Hammer</td>\n      <td>2018-12-25</td>\n    </tr>\n    <tr>\n      <th>271</th>\n      <td>Destroyer</td>\n      <td>Karyn Kusama</td>\n      <td>Nicole Kidman</td>\n      <td>Sebastian Stan</td>\n      <td>Sebastian Stan</td>\n      <td>2018-12-25</td>\n    </tr>\n    <tr>\n      <th>272</th>\n      <td>Black Mirror: Bandersnatch</td>\n      <td>David Slade</td>\n      <td>Fionn Whitehead</td>\n      <td>Will Poulter</td>\n      <td>Will Poulter</td>\n      <td>2018-12-28</td>\n    </tr>\n  </tbody>\n</table>\n<p>273 rows × 6 columns</p>\n</div>"
     },
     "execution_count": 168,
     "metadata": {},
     "output_type": "execute_result"
    }
   ],
   "source": [
    "new_data.drop(columns={'year','day','month'})"
   ],
   "metadata": {
    "collapsed": false
   }
  },
  {
   "cell_type": "code",
   "execution_count": null,
   "outputs": [],
   "source": [],
   "metadata": {
    "collapsed": false
   }
  }
 ],
 "metadata": {
  "kernelspec": {
   "display_name": "Python 3",
   "language": "python",
   "name": "python3"
  },
  "language_info": {
   "codemirror_mode": {
    "name": "ipython",
    "version": 2
   },
   "file_extension": ".py",
   "mimetype": "text/x-python",
   "name": "python",
   "nbconvert_exporter": "python",
   "pygments_lexer": "ipython2",
   "version": "2.7.6"
  }
 },
 "nbformat": 4,
 "nbformat_minor": 0
}
